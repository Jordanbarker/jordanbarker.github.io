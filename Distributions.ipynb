{
 "cells": [
  {
   "attachments": {},
   "cell_type": "markdown",
   "metadata": {},
   "source": [
    "# Discrete"
   ]
  },
  {
   "attachments": {},
   "cell_type": "markdown",
   "metadata": {},
   "source": [
    "### Bernoulli(p)\n",
    "Binary, boolean output: 1 (success) with probability p, or 0 (failure) with probability q=1-p.\n",
    "*  E[X]=p\n",
    "*  Var(X)=pq"
   ]
  },
  {
   "cell_type": "code",
   "execution_count": 1,
   "metadata": {},
   "outputs": [
    {
     "ename": "ModuleNotFoundError",
     "evalue": "No module named 'numpy'",
     "output_type": "error",
     "traceback": [
      "\u001b[1;31m---------------------------------------------------------------------------\u001b[0m",
      "\u001b[1;31mModuleNotFoundError\u001b[0m                       Traceback (most recent call last)",
      "Cell \u001b[1;32mIn[1], line 1\u001b[0m\n\u001b[1;32m----> 1\u001b[0m \u001b[39mimport\u001b[39;00m \u001b[39mnumpy\u001b[39;00m \u001b[39mas\u001b[39;00m \u001b[39mnp\u001b[39;00m\n\u001b[0;32m      2\u001b[0m \u001b[39mimport\u001b[39;00m \u001b[39mmatplotlib\u001b[39;00m\u001b[39m.\u001b[39;00m\u001b[39mpyplot\u001b[39;00m \u001b[39mas\u001b[39;00m \u001b[39mplt\u001b[39;00m\n\u001b[0;32m      4\u001b[0m \u001b[39m# probability of getting a \"success\" (heads)\u001b[39;00m\n",
      "\u001b[1;31mModuleNotFoundError\u001b[0m: No module named 'numpy'"
     ]
    }
   ],
   "source": [
    "import numpy as np\n",
    "import matplotlib.pyplot as plt\n",
    "\n",
    "# probability of getting a \"success\" (heads)\n",
    "p = 0.7\n",
    "num_trials = 1000\n",
    "\n",
    "# generate random bernoulli distributed variables (0 or 1)\n",
    "trials = np.random.binomial(n=1, p=p, size=num_trials)\n",
    "\n",
    "# count the number of successes and failures\n",
    "successes = np.count_nonzero(trials == 1)\n",
    "failures = np.count_nonzero(trials == 0)\n",
    "print(f'Successes: {successes}, Failures: {failures}')\n",
    "\n",
    "labels = ['Successes', 'Failures']\n",
    "counts = [successes, failures]\n",
    "plt.bar(labels, counts, color=['blue', 'red'])\n",
    "plt.xlabel('Outcome')\n",
    "plt.ylabel('Count')\n",
    "plt.title('Bernoulli Distribution Simulation')\n",
    "plt.show()"
   ]
  },
  {
   "attachments": {},
   "cell_type": "markdown",
   "metadata": {},
   "source": [
    "Binomial(n,p), f(y)=( nk )Pyqn-y where y=# of successes. E[Y]=np, Var(Y)=npq\n",
    "Geometric(p) f(x)=(1-p)k-1p | F(x)=1-(1-p)k where x=1,2,.. # of Bern trials until success, FFFS implies x=4 and p is the success probability.  E[X]=1/p, Var(X)=q/p^2\n",
    "NegBin(r,p) sum of r Geom RV’s the time until the rth success. FFFSSFS = NegBin(3,p)=7 \n",
    "f(y)=( k+r-1k)qy-rpr where y=r, r+1...\n",
    "E[Y]=r/p, Var(X)=qr/p^2\n",
    "Poisson(ƛ) f(x)=ƛxe-ƛ/x!  F(x)=e-ƛ ∑xi=0 ƛi/i!\n",
    "E[X] =ƛ=Var(X)\n",
    "Eg. Pois(12), What is the prob of exactly 8?\n",
    "   (use pmf) 128*e-12/8! =6.55%"
   ]
  },
  {
   "attachments": {},
   "cell_type": "markdown",
   "metadata": {},
   "source": [
    "# Continous"
   ]
  },
  {
   "attachments": {},
   "cell_type": "markdown",
   "metadata": {},
   "source": []
  }
 ],
 "metadata": {
  "kernelspec": {
   "display_name": "Python 3",
   "language": "python",
   "name": "python3"
  },
  "language_info": {
   "codemirror_mode": {
    "name": "ipython",
    "version": 3
   },
   "file_extension": ".py",
   "mimetype": "text/x-python",
   "name": "python",
   "nbconvert_exporter": "python",
   "pygments_lexer": "ipython3",
   "version": "3.10.6"
  },
  "orig_nbformat": 4
 },
 "nbformat": 4,
 "nbformat_minor": 2
}
