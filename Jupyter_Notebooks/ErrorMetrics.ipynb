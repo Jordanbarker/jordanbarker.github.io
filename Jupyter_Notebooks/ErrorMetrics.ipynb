{
 "cells": [
  {
   "cell_type": "markdown",
   "metadata": {},
   "source": [
    "# Error Metrics"
   ]
  },
  {
   "cell_type": "markdown",
   "metadata": {},
   "source": [
    "## Regression\n",
    "* Mean Absolute Percentage Error (MAPE): MAPE is often used when you want a measure that is independent of the scale of your data. It expresses the error as a percentage of the actual values, making it easier to interpret and compare across different datasets or models, regardless of their units or scales.\n",
    "  * The output can be arbitrarily high when y_true is small or when abs(y_true - y_pred) is large (which is common for most regression metrics).\n",
    "\n",
    "$$\n",
    "MAPE = \\frac{1}{n} \\sum_{i=1}^{n} \\left| \\frac{Actual_i - Prediction_i}{Actual_i} \\right| \\times 100\\%\n",
    "$$\n",
    "\n",
    "\n",
    "* Modified MAPE (MMAPE) or Adjusted MAPE: To address the issue of small actual values, a modified version of MAPE can be used where a small constant is added to the denominator to avoid extremely high percentage errors.\n",
    "\n",
    "$$\n",
    "\\text{MMAPE} = \\frac{1}{n} \\sum_{i=1}^{n} \\left| \\frac{A_i - P_i}{A_i + \\epsilon} \\right| \\times 100\\%\n",
    "$$\n",
    "\n",
    "* Symmetric MAPE (sMAPE): This is an alternative to MAPE that equally penalizes overforecast and underforecast by modifying the denominator to be the average of the predicted and actual values, thus avoiding the issue when actual values are near zero.\n",
    "\n",
    "$$\n",
    "\\text{sMAPE} = \\frac{1}{n} \\sum_{i=1}^{n} \\frac{2 \\times \\left| A_i - P_i \\right|}{\\left| A_i \\right| + \\left| P_i \\right|} \\times 100\\%\n",
    "$$\n"
   ]
  },
  {
   "cell_type": "code",
   "execution_count": 35,
   "metadata": {},
   "outputs": [
    {
     "data": {
      "text/html": [
       "<div>\n",
       "<style scoped>\n",
       "    .dataframe tbody tr th:only-of-type {\n",
       "        vertical-align: middle;\n",
       "    }\n",
       "\n",
       "    .dataframe tbody tr th {\n",
       "        vertical-align: top;\n",
       "    }\n",
       "\n",
       "    .dataframe thead th {\n",
       "        text-align: right;\n",
       "    }\n",
       "</style>\n",
       "<table border=\"1\" class=\"dataframe\">\n",
       "  <thead>\n",
       "    <tr style=\"text-align: right;\">\n",
       "      <th></th>\n",
       "      <th>actual</th>\n",
       "      <th>predicted</th>\n",
       "      <th>MAPE</th>\n",
       "      <th>MMAPE</th>\n",
       "      <th>SMAPE</th>\n",
       "    </tr>\n",
       "  </thead>\n",
       "  <tbody>\n",
       "    <tr>\n",
       "      <th>0</th>\n",
       "      <td>0</td>\n",
       "      <td>100</td>\n",
       "      <td>inf</td>\n",
       "      <td>1.000000e+12</td>\n",
       "      <td>200.000000</td>\n",
       "    </tr>\n",
       "    <tr>\n",
       "      <th>1</th>\n",
       "      <td>100</td>\n",
       "      <td>110</td>\n",
       "      <td>10.000000</td>\n",
       "      <td>1.000000e+01</td>\n",
       "      <td>9.523810</td>\n",
       "    </tr>\n",
       "    <tr>\n",
       "      <th>2</th>\n",
       "      <td>200</td>\n",
       "      <td>210</td>\n",
       "      <td>5.000000</td>\n",
       "      <td>5.000000e+00</td>\n",
       "      <td>4.878049</td>\n",
       "    </tr>\n",
       "    <tr>\n",
       "      <th>3</th>\n",
       "      <td>300</td>\n",
       "      <td>320</td>\n",
       "      <td>6.666667</td>\n",
       "      <td>6.666667e+00</td>\n",
       "      <td>6.451613</td>\n",
       "    </tr>\n",
       "    <tr>\n",
       "      <th>4</th>\n",
       "      <td>400</td>\n",
       "      <td>380</td>\n",
       "      <td>5.000000</td>\n",
       "      <td>5.000000e+00</td>\n",
       "      <td>5.128205</td>\n",
       "    </tr>\n",
       "    <tr>\n",
       "      <th>5</th>\n",
       "      <td>500</td>\n",
       "      <td>480</td>\n",
       "      <td>4.000000</td>\n",
       "      <td>4.000000e+00</td>\n",
       "      <td>4.081633</td>\n",
       "    </tr>\n",
       "  </tbody>\n",
       "</table>\n",
       "</div>"
      ],
      "text/plain": [
       "   actual  predicted       MAPE         MMAPE       SMAPE\n",
       "0       0        100        inf  1.000000e+12  200.000000\n",
       "1     100        110  10.000000  1.000000e+01    9.523810\n",
       "2     200        210   5.000000  5.000000e+00    4.878049\n",
       "3     300        320   6.666667  6.666667e+00    6.451613\n",
       "4     400        380   5.000000  5.000000e+00    5.128205\n",
       "5     500        480   4.000000  4.000000e+00    4.081633"
      ]
     },
     "execution_count": 35,
     "metadata": {},
     "output_type": "execute_result"
    }
   ],
   "source": [
    "import numpy as np\n",
    "import pandas as pd\n",
    "\n",
    "df = pd.DataFrame({    \n",
    "    'actual': [0, 100, 200, 300, 400, 500],\n",
    "    'predicted': [100, 110, 210, 320, 380, 480]\n",
    "})\n",
    "\n",
    "\n",
    "df['MAPE'] = abs((df['actual'] - df['predicted']) / df['actual']) * 100\n",
    "df['MMAPE'] = abs((df['actual'] - df['predicted']) / (df['actual'] + 1e-8)) * 100\n",
    "df['SMAPE'] = 2 * abs(df['actual'] - df['predicted']) / (abs(df['actual']) + abs(df['predicted'])) * 100\n",
    "\n",
    "df"
   ]
  },
  {
   "cell_type": "markdown",
   "metadata": {},
   "source": [
    "\n",
    "\n",
    "* Mean Squared Error (MSE): Useful when large errors are particularly undesirable. Since it squares the errors before averaging them, larger errors have a disproportionately larger impact on the metric. "
   ]
  },
  {
   "cell_type": "code",
   "execution_count": null,
   "metadata": {},
   "outputs": [],
   "source": []
  }
 ],
 "metadata": {
  "kernelspec": {
   "display_name": "py311",
   "language": "python",
   "name": "python3"
  },
  "language_info": {
   "codemirror_mode": {
    "name": "ipython",
    "version": 3
   },
   "file_extension": ".py",
   "mimetype": "text/x-python",
   "name": "python",
   "nbconvert_exporter": "python",
   "pygments_lexer": "ipython3",
   "version": "3.11.6"
  }
 },
 "nbformat": 4,
 "nbformat_minor": 2
}
