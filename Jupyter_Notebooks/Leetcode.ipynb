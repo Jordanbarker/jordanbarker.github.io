{
 "cells": [
  {
   "cell_type": "code",
   "execution_count": 26,
   "metadata": {},
   "outputs": [
    {
     "data": {
      "text/html": [
       "<div>\n",
       "<style scoped>\n",
       "    .dataframe tbody tr th:only-of-type {\n",
       "        vertical-align: middle;\n",
       "    }\n",
       "\n",
       "    .dataframe tbody tr th {\n",
       "        vertical-align: top;\n",
       "    }\n",
       "\n",
       "    .dataframe thead th {\n",
       "        text-align: right;\n",
       "    }\n",
       "</style>\n",
       "<table border=\"1\" class=\"dataframe\">\n",
       "  <thead>\n",
       "    <tr style=\"text-align: right;\">\n",
       "      <th></th>\n",
       "      <th>customer_id</th>\n",
       "      <th>product_key</th>\n",
       "    </tr>\n",
       "  </thead>\n",
       "  <tbody>\n",
       "    <tr>\n",
       "      <th>0</th>\n",
       "      <td>1</td>\n",
       "      <td>5</td>\n",
       "    </tr>\n",
       "    <tr>\n",
       "      <th>1</th>\n",
       "      <td>2</td>\n",
       "      <td>5</td>\n",
       "    </tr>\n",
       "    <tr>\n",
       "      <th>2</th>\n",
       "      <td>3</td>\n",
       "      <td>6</td>\n",
       "    </tr>\n",
       "    <tr>\n",
       "      <th>3</th>\n",
       "      <td>3</td>\n",
       "      <td>6</td>\n",
       "    </tr>\n",
       "    <tr>\n",
       "      <th>4</th>\n",
       "      <td>1</td>\n",
       "      <td>6</td>\n",
       "    </tr>\n",
       "  </tbody>\n",
       "</table>\n",
       "</div>"
      ],
      "text/plain": [
       "   customer_id  product_key\n",
       "0            1            5\n",
       "1            2            5\n",
       "2            3            6\n",
       "3            3            6\n",
       "4            1            6"
      ]
     },
     "execution_count": 26,
     "metadata": {},
     "output_type": "execute_result"
    }
   ],
   "source": [
    "import pandas as pd\n",
    "import numpy as np\n",
    "\n",
    "data = {\n",
    "    'customer_id': [1, 2, 3, 3, 1],\n",
    "    'product_key': [5, 5, 6, 6, 6]\n",
    "}\n",
    "customer_df = pd.DataFrame(data)\n",
    "customer_df"
   ]
  },
  {
   "cell_type": "code",
   "execution_count": 27,
   "metadata": {},
   "outputs": [
    {
     "data": {
      "text/plain": [
       "0         NaN\n",
       "1         NaN\n",
       "2    5.333333\n",
       "3    5.666667\n",
       "4    6.000000\n",
       "Name: product_key, dtype: float64"
      ]
     },
     "execution_count": 27,
     "metadata": {},
     "output_type": "execute_result"
    }
   ],
   "source": [
    "customer_df.product_key.rolling(3).mean()"
   ]
  },
  {
   "cell_type": "code",
   "execution_count": 28,
   "metadata": {},
   "outputs": [
    {
     "data": {
      "text/plain": [
       "array(['x', 'x', 'y', 'y', 'y'], dtype='<U1')"
      ]
     },
     "execution_count": 28,
     "metadata": {},
     "output_type": "execute_result"
    }
   ],
   "source": [
    "np.where(customer_df.product_key == 5, 'x', 'y')"
   ]
  },
  {
   "cell_type": "code",
   "execution_count": 33,
   "metadata": {},
   "outputs": [
    {
     "data": {
      "text/html": [
       "<div>\n",
       "<style scoped>\n",
       "    .dataframe tbody tr th:only-of-type {\n",
       "        vertical-align: middle;\n",
       "    }\n",
       "\n",
       "    .dataframe tbody tr th {\n",
       "        vertical-align: top;\n",
       "    }\n",
       "\n",
       "    .dataframe thead th {\n",
       "        text-align: right;\n",
       "    }\n",
       "</style>\n",
       "<table border=\"1\" class=\"dataframe\">\n",
       "  <thead>\n",
       "    <tr style=\"text-align: right;\">\n",
       "      <th></th>\n",
       "      <th>id</th>\n",
       "      <th>name</th>\n",
       "      <th>department</th>\n",
       "      <th>managerId</th>\n",
       "    </tr>\n",
       "  </thead>\n",
       "  <tbody>\n",
       "    <tr>\n",
       "      <th>0</th>\n",
       "      <td>101</td>\n",
       "      <td>John</td>\n",
       "      <td>A</td>\n",
       "      <td>NaN</td>\n",
       "    </tr>\n",
       "  </tbody>\n",
       "</table>\n",
       "</div>"
      ],
      "text/plain": [
       "    id  name department  managerId\n",
       "0  101  John          A        NaN"
      ]
     },
     "execution_count": 33,
     "metadata": {},
     "output_type": "execute_result"
    }
   ],
   "source": [
    "employee = pd.DataFrame({\n",
    "    'id': [101, 102, 103, 104, 105, 106, 107],\n",
    "    'name': ['John', 'Dan', 'James', 'Amy', 'Anne', 'Ron', 'Jordan'],\n",
    "    'department': ['A', 'A', 'A', 'A', 'A', 'B', 'B'],\n",
    "    'managerId': [None, 101, 101, 101, 101, 101, 102]\n",
    "})\n",
    "managers = employee.managerId.value_counts()\n",
    "employee[employee.id.isin(managers[managers>=5].index)]"
   ]
  },
  {
   "cell_type": "code",
   "execution_count": 23,
   "metadata": {},
   "outputs": [
    {
     "data": {
      "text/html": [
       "<div>\n",
       "<style scoped>\n",
       "    .dataframe tbody tr th:only-of-type {\n",
       "        vertical-align: middle;\n",
       "    }\n",
       "\n",
       "    .dataframe tbody tr th {\n",
       "        vertical-align: top;\n",
       "    }\n",
       "\n",
       "    .dataframe thead th {\n",
       "        text-align: right;\n",
       "    }\n",
       "</style>\n",
       "<table border=\"1\" class=\"dataframe\">\n",
       "  <thead>\n",
       "    <tr style=\"text-align: right;\">\n",
       "      <th></th>\n",
       "      <th>product_id</th>\n",
       "      <th>new_price</th>\n",
       "      <th>change_date</th>\n",
       "    </tr>\n",
       "  </thead>\n",
       "  <tbody>\n",
       "    <tr>\n",
       "      <th>0</th>\n",
       "      <td>1</td>\n",
       "      <td>20</td>\n",
       "      <td>2019-08-14</td>\n",
       "    </tr>\n",
       "    <tr>\n",
       "      <th>1</th>\n",
       "      <td>2</td>\n",
       "      <td>50</td>\n",
       "      <td>2019-08-14</td>\n",
       "    </tr>\n",
       "    <tr>\n",
       "      <th>2</th>\n",
       "      <td>1</td>\n",
       "      <td>30</td>\n",
       "      <td>2019-08-15</td>\n",
       "    </tr>\n",
       "    <tr>\n",
       "      <th>3</th>\n",
       "      <td>1</td>\n",
       "      <td>35</td>\n",
       "      <td>2019-08-16</td>\n",
       "    </tr>\n",
       "    <tr>\n",
       "      <th>4</th>\n",
       "      <td>2</td>\n",
       "      <td>65</td>\n",
       "      <td>2019-08-17</td>\n",
       "    </tr>\n",
       "    <tr>\n",
       "      <th>5</th>\n",
       "      <td>3</td>\n",
       "      <td>20</td>\n",
       "      <td>2019-08-18</td>\n",
       "    </tr>\n",
       "  </tbody>\n",
       "</table>\n",
       "</div>"
      ],
      "text/plain": [
       "   product_id  new_price change_date\n",
       "0           1         20  2019-08-14\n",
       "1           2         50  2019-08-14\n",
       "2           1         30  2019-08-15\n",
       "3           1         35  2019-08-16\n",
       "4           2         65  2019-08-17\n",
       "5           3         20  2019-08-18"
      ]
     },
     "metadata": {},
     "output_type": "display_data"
    },
    {
     "data": {
      "text/html": [
       "<div>\n",
       "<style scoped>\n",
       "    .dataframe tbody tr th:only-of-type {\n",
       "        vertical-align: middle;\n",
       "    }\n",
       "\n",
       "    .dataframe tbody tr th {\n",
       "        vertical-align: top;\n",
       "    }\n",
       "\n",
       "    .dataframe thead th {\n",
       "        text-align: right;\n",
       "    }\n",
       "</style>\n",
       "<table border=\"1\" class=\"dataframe\">\n",
       "  <thead>\n",
       "    <tr style=\"text-align: right;\">\n",
       "      <th></th>\n",
       "      <th>product_id</th>\n",
       "      <th>new_price</th>\n",
       "      <th>change_date</th>\n",
       "    </tr>\n",
       "  </thead>\n",
       "  <tbody>\n",
       "    <tr>\n",
       "      <th>1</th>\n",
       "      <td>2</td>\n",
       "      <td>50</td>\n",
       "      <td>2019-08-14</td>\n",
       "    </tr>\n",
       "    <tr>\n",
       "      <th>3</th>\n",
       "      <td>1</td>\n",
       "      <td>35</td>\n",
       "      <td>2019-08-16</td>\n",
       "    </tr>\n",
       "  </tbody>\n",
       "</table>\n",
       "</div>"
      ],
      "text/plain": [
       "   product_id  new_price change_date\n",
       "1           2         50  2019-08-14\n",
       "3           1         35  2019-08-16"
      ]
     },
     "execution_count": 23,
     "metadata": {},
     "output_type": "execute_result"
    }
   ],
   "source": [
    "products = pd.DataFrame({\n",
    "    'product_id': [1, 2, 1, 1, 2, 3],\n",
    "    'new_price': [20, 50, 30, 35, 65, 20],\n",
    "    'change_date': ['2019-08-14', '2019-08-14', '2019-08-15', '2019-08-16', '2019-08-17', '2019-08-18']\n",
    "})\n",
    "display(products)\n",
    "df = products[products.change_date <= '2019-08-16'].copy()\n",
    "latest = df[df['change_date'] == df.groupby('product_id')['change_date'].transform('max')]\n",
    "# df.groupby('product_id')['change_date'].transform('max')\n",
    "# df\n",
    "latest"
   ]
  },
  {
   "cell_type": "code",
   "execution_count": 25,
   "metadata": {},
   "outputs": [
    {
     "data": {
      "text/html": [
       "<div>\n",
       "<style scoped>\n",
       "    .dataframe tbody tr th:only-of-type {\n",
       "        vertical-align: middle;\n",
       "    }\n",
       "\n",
       "    .dataframe tbody tr th {\n",
       "        vertical-align: top;\n",
       "    }\n",
       "\n",
       "    .dataframe thead th {\n",
       "        text-align: right;\n",
       "    }\n",
       "</style>\n",
       "<table border=\"1\" class=\"dataframe\">\n",
       "  <thead>\n",
       "    <tr style=\"text-align: right;\">\n",
       "      <th></th>\n",
       "      <th>new_price</th>\n",
       "    </tr>\n",
       "    <tr>\n",
       "      <th>product_id</th>\n",
       "      <th></th>\n",
       "    </tr>\n",
       "  </thead>\n",
       "  <tbody>\n",
       "    <tr>\n",
       "      <th>1</th>\n",
       "      <td>85</td>\n",
       "    </tr>\n",
       "    <tr>\n",
       "      <th>2</th>\n",
       "      <td>115</td>\n",
       "    </tr>\n",
       "    <tr>\n",
       "      <th>3</th>\n",
       "      <td>20</td>\n",
       "    </tr>\n",
       "  </tbody>\n",
       "</table>\n",
       "</div>"
      ],
      "text/plain": [
       "            new_price\n",
       "product_id           \n",
       "1                  85\n",
       "2                 115\n",
       "3                  20"
      ]
     },
     "execution_count": 25,
     "metadata": {},
     "output_type": "execute_result"
    }
   ],
   "source": [
    "products.groupby('product_id').sum(['price'])"
   ]
  },
  {
   "cell_type": "code",
   "execution_count": 255,
   "metadata": {},
   "outputs": [
    {
     "data": {
      "text/plain": [
       "num    6\n",
       "dtype: int64"
      ]
     },
     "execution_count": 255,
     "metadata": {},
     "output_type": "execute_result"
    }
   ],
   "source": [
    "my_numbers = pd.DataFrame({'num': [1, 2, 3, 3, 3, 1]})\n",
    "my_numbers.count()"
   ]
  },
  {
   "cell_type": "code",
   "execution_count": 256,
   "metadata": {},
   "outputs": [
    {
     "data": {
      "text/plain": [
       "num\n",
       "3      3\n",
       "1      2\n",
       "2      1\n",
       "Name: count, dtype: int64"
      ]
     },
     "execution_count": 256,
     "metadata": {},
     "output_type": "execute_result"
    }
   ],
   "source": [
    "my_numbers.value_counts() "
   ]
  },
  {
   "cell_type": "code",
   "execution_count": 257,
   "metadata": {},
   "outputs": [
    {
     "data": {
      "text/plain": [
       "num    3\n",
       "dtype: int64"
      ]
     },
     "execution_count": 257,
     "metadata": {},
     "output_type": "execute_result"
    }
   ],
   "source": [
    "my_numbers.nunique()"
   ]
  },
  {
   "cell_type": "code",
   "execution_count": 118,
   "metadata": {},
   "outputs": [
    {
     "data": {
      "text/plain": [
       "3"
      ]
     },
     "execution_count": 118,
     "metadata": {},
     "output_type": "execute_result"
    }
   ],
   "source": [
    "df = my_numbers.reset_index().groupby('num').count().reset_index()\n",
    "df.rename(columns={\"index\": 'count'}, inplace=True)\n",
    "df[df['count'] > 1].num.max()#.sort_values(by='num', ascending=False)"
   ]
  },
  {
   "cell_type": "code",
   "execution_count": 258,
   "metadata": {},
   "outputs": [
    {
     "data": {
      "text/html": [
       "<div>\n",
       "<style scoped>\n",
       "    .dataframe tbody tr th:only-of-type {\n",
       "        vertical-align: middle;\n",
       "    }\n",
       "\n",
       "    .dataframe tbody tr th {\n",
       "        vertical-align: top;\n",
       "    }\n",
       "\n",
       "    .dataframe thead th {\n",
       "        text-align: right;\n",
       "    }\n",
       "</style>\n",
       "<table border=\"1\" class=\"dataframe\">\n",
       "  <thead>\n",
       "    <tr style=\"text-align: right;\">\n",
       "      <th></th>\n",
       "      <th>id</th>\n",
       "      <th>num</th>\n",
       "      <th>num1</th>\n",
       "      <th>num2</th>\n",
       "      <th>id1</th>\n",
       "      <th>id2</th>\n",
       "    </tr>\n",
       "  </thead>\n",
       "  <tbody>\n",
       "    <tr>\n",
       "      <th>0</th>\n",
       "      <td>1</td>\n",
       "      <td>1</td>\n",
       "      <td>NaN</td>\n",
       "      <td>NaN</td>\n",
       "      <td>NaN</td>\n",
       "      <td>NaN</td>\n",
       "    </tr>\n",
       "    <tr>\n",
       "      <th>1</th>\n",
       "      <td>2</td>\n",
       "      <td>1</td>\n",
       "      <td>1.0</td>\n",
       "      <td>NaN</td>\n",
       "      <td>1.0</td>\n",
       "      <td>NaN</td>\n",
       "    </tr>\n",
       "    <tr>\n",
       "      <th>2</th>\n",
       "      <td>3</td>\n",
       "      <td>1</td>\n",
       "      <td>1.0</td>\n",
       "      <td>1.0</td>\n",
       "      <td>2.0</td>\n",
       "      <td>1.0</td>\n",
       "    </tr>\n",
       "    <tr>\n",
       "      <th>3</th>\n",
       "      <td>4</td>\n",
       "      <td>3</td>\n",
       "      <td>1.0</td>\n",
       "      <td>1.0</td>\n",
       "      <td>3.0</td>\n",
       "      <td>2.0</td>\n",
       "    </tr>\n",
       "    <tr>\n",
       "      <th>4</th>\n",
       "      <td>5</td>\n",
       "      <td>3</td>\n",
       "      <td>3.0</td>\n",
       "      <td>1.0</td>\n",
       "      <td>4.0</td>\n",
       "      <td>3.0</td>\n",
       "    </tr>\n",
       "    <tr>\n",
       "      <th>5</th>\n",
       "      <td>6</td>\n",
       "      <td>1</td>\n",
       "      <td>3.0</td>\n",
       "      <td>3.0</td>\n",
       "      <td>5.0</td>\n",
       "      <td>4.0</td>\n",
       "    </tr>\n",
       "  </tbody>\n",
       "</table>\n",
       "</div>"
      ],
      "text/plain": [
       "   id  num  num1  num2  id1  id2\n",
       "0   1    1   NaN   NaN  NaN  NaN\n",
       "1   2    1   1.0   NaN  1.0  NaN\n",
       "2   3    1   1.0   1.0  2.0  1.0\n",
       "3   4    3   1.0   1.0  3.0  2.0\n",
       "4   5    3   3.0   1.0  4.0  3.0\n",
       "5   6    1   3.0   3.0  5.0  4.0"
      ]
     },
     "execution_count": 258,
     "metadata": {},
     "output_type": "execute_result"
    }
   ],
   "source": [
    "logs = pd.DataFrame({'id': [1, 2, 3, 4, 5, 6],\n",
    "                     'num': [1, 1, 1, 3, 3, 1]})\n",
    "logs.sort_values(by='id', inplace=True)\n",
    "logs['num1'] = logs.num.shift(1)\n",
    "logs['num2'] = logs.num.shift(2)\n",
    "logs['id1'] = logs.id.shift(1)\n",
    "logs['id2'] = logs.id.shift(2)\n",
    "logs"
   ]
  },
  {
   "cell_type": "code",
   "execution_count": 6,
   "metadata": {},
   "outputs": [
    {
     "data": {
      "text/html": [
       "<div>\n",
       "<style scoped>\n",
       "    .dataframe tbody tr th:only-of-type {\n",
       "        vertical-align: middle;\n",
       "    }\n",
       "\n",
       "    .dataframe tbody tr th {\n",
       "        vertical-align: top;\n",
       "    }\n",
       "\n",
       "    .dataframe thead th {\n",
       "        text-align: right;\n",
       "    }\n",
       "</style>\n",
       "<table border=\"1\" class=\"dataframe\">\n",
       "  <thead>\n",
       "    <tr style=\"text-align: right;\">\n",
       "      <th></th>\n",
       "      <th>num</th>\n",
       "      <th>shift(1)</th>\n",
       "      <th>shift(-1)</th>\n",
       "    </tr>\n",
       "  </thead>\n",
       "  <tbody>\n",
       "    <tr>\n",
       "      <th>0</th>\n",
       "      <td>1</td>\n",
       "      <td>NaN</td>\n",
       "      <td>2.0</td>\n",
       "    </tr>\n",
       "    <tr>\n",
       "      <th>1</th>\n",
       "      <td>2</td>\n",
       "      <td>1.0</td>\n",
       "      <td>3.0</td>\n",
       "    </tr>\n",
       "    <tr>\n",
       "      <th>2</th>\n",
       "      <td>3</td>\n",
       "      <td>2.0</td>\n",
       "      <td>4.0</td>\n",
       "    </tr>\n",
       "    <tr>\n",
       "      <th>3</th>\n",
       "      <td>4</td>\n",
       "      <td>3.0</td>\n",
       "      <td>5.0</td>\n",
       "    </tr>\n",
       "    <tr>\n",
       "      <th>4</th>\n",
       "      <td>5</td>\n",
       "      <td>4.0</td>\n",
       "      <td>6.0</td>\n",
       "    </tr>\n",
       "    <tr>\n",
       "      <th>5</th>\n",
       "      <td>6</td>\n",
       "      <td>5.0</td>\n",
       "      <td>NaN</td>\n",
       "    </tr>\n",
       "  </tbody>\n",
       "</table>\n",
       "</div>"
      ],
      "text/plain": [
       "   num  shift(1)  shift(-1)\n",
       "0    1       NaN        2.0\n",
       "1    2       1.0        3.0\n",
       "2    3       2.0        4.0\n",
       "3    4       3.0        5.0\n",
       "4    5       4.0        6.0\n",
       "5    6       5.0        NaN"
      ]
     },
     "execution_count": 6,
     "metadata": {},
     "output_type": "execute_result"
    }
   ],
   "source": [
    "logs = pd.DataFrame({'id': [1, 2, 3, 4, 5, 6],\n",
    "                     'num': [1, 2, 3, 4, 5, 6]})\n",
    "logs.sort_values(by='id', inplace=True)\n",
    "del logs['id']\n",
    "logs['shift(1)'] = logs.num.shift(1)\n",
    "logs['shift(-1)'] = logs.num.shift(-1)\n",
    "logs"
   ]
  },
  {
   "cell_type": "code",
   "execution_count": 287,
   "metadata": {},
   "outputs": [
    {
     "data": {
      "text/html": [
       "<div>\n",
       "<style scoped>\n",
       "    .dataframe tbody tr th:only-of-type {\n",
       "        vertical-align: middle;\n",
       "    }\n",
       "\n",
       "    .dataframe tbody tr th {\n",
       "        vertical-align: top;\n",
       "    }\n",
       "\n",
       "    .dataframe thead th {\n",
       "        text-align: right;\n",
       "    }\n",
       "</style>\n",
       "<table border=\"1\" class=\"dataframe\">\n",
       "  <thead>\n",
       "    <tr style=\"text-align: right;\">\n",
       "      <th></th>\n",
       "      <th>visited_on</th>\n",
       "      <th>amount</th>\n",
       "      <th>average_amount</th>\n",
       "    </tr>\n",
       "  </thead>\n",
       "  <tbody>\n",
       "    <tr>\n",
       "      <th>0</th>\n",
       "      <td>2019-01-01</td>\n",
       "      <td>NaN</td>\n",
       "      <td>NaN</td>\n",
       "    </tr>\n",
       "    <tr>\n",
       "      <th>1</th>\n",
       "      <td>2019-01-02</td>\n",
       "      <td>NaN</td>\n",
       "      <td>NaN</td>\n",
       "    </tr>\n",
       "    <tr>\n",
       "      <th>2</th>\n",
       "      <td>2019-01-03</td>\n",
       "      <td>NaN</td>\n",
       "      <td>NaN</td>\n",
       "    </tr>\n",
       "    <tr>\n",
       "      <th>3</th>\n",
       "      <td>2019-01-04</td>\n",
       "      <td>NaN</td>\n",
       "      <td>NaN</td>\n",
       "    </tr>\n",
       "    <tr>\n",
       "      <th>4</th>\n",
       "      <td>2019-01-05</td>\n",
       "      <td>NaN</td>\n",
       "      <td>NaN</td>\n",
       "    </tr>\n",
       "    <tr>\n",
       "      <th>5</th>\n",
       "      <td>2019-01-06</td>\n",
       "      <td>NaN</td>\n",
       "      <td>NaN</td>\n",
       "    </tr>\n",
       "    <tr>\n",
       "      <th>6</th>\n",
       "      <td>2019-01-07</td>\n",
       "      <td>860.0</td>\n",
       "      <td>122.86</td>\n",
       "    </tr>\n",
       "    <tr>\n",
       "      <th>7</th>\n",
       "      <td>2019-01-08</td>\n",
       "      <td>840.0</td>\n",
       "      <td>120.00</td>\n",
       "    </tr>\n",
       "    <tr>\n",
       "      <th>8</th>\n",
       "      <td>2019-01-09</td>\n",
       "      <td>840.0</td>\n",
       "      <td>120.00</td>\n",
       "    </tr>\n",
       "    <tr>\n",
       "      <th>9</th>\n",
       "      <td>2019-01-10</td>\n",
       "      <td>1000.0</td>\n",
       "      <td>142.86</td>\n",
       "    </tr>\n",
       "  </tbody>\n",
       "</table>\n",
       "</div>"
      ],
      "text/plain": [
       "   visited_on  amount  average_amount\n",
       "0  2019-01-01     NaN             NaN\n",
       "1  2019-01-02     NaN             NaN\n",
       "2  2019-01-03     NaN             NaN\n",
       "3  2019-01-04     NaN             NaN\n",
       "4  2019-01-05     NaN             NaN\n",
       "5  2019-01-06     NaN             NaN\n",
       "6  2019-01-07   860.0          122.86\n",
       "7  2019-01-08   840.0          120.00\n",
       "8  2019-01-09   840.0          120.00\n",
       "9  2019-01-10  1000.0          142.86"
      ]
     },
     "execution_count": 287,
     "metadata": {},
     "output_type": "execute_result"
    }
   ],
   "source": [
    "df = pd.DataFrame({\n",
    "    'customer_id': [1, 2, 3, 4, 5, 6, 7, 8, 9, 1, 3],\n",
    "    'name': ['Jhon', 'Daniel', 'Jade', 'Khaled', 'Winston', 'Elvis', 'Anna', 'Maria', 'Jaze', 'Jhon', 'Jade'],\n",
    "    'visited_on': ['2019-01-01', '2019-01-02', '2019-01-03', '2019-01-04', '2019-01-05', '2019-01-06', '2019-01-07', '2019-01-08', '2019-01-09', '2019-01-10', '2019-01-10'],\n",
    "    'amount': [100, 110, 120, 130, 110, 140, 150, 80, 110, 130, 150]\n",
    "})\n",
    "df = df.groupby('visited_on').sum('amount').reset_index()\n",
    "df['daily_amount'] = df['amount']\n",
    "df['amount'] = df['daily_amount'].rolling(7).sum().round(0)\n",
    "df['average_amount'] = df['daily_amount'].rolling(7).mean().round(2)\n",
    "del df['customer_id']\n",
    "del df['daily_amount']\n",
    "df"
   ]
  },
  {
   "cell_type": "code",
   "execution_count": 288,
   "metadata": {},
   "outputs": [
    {
     "data": {
      "text/html": [
       "<div>\n",
       "<style scoped>\n",
       "    .dataframe tbody tr th:only-of-type {\n",
       "        vertical-align: middle;\n",
       "    }\n",
       "\n",
       "    .dataframe tbody tr th {\n",
       "        vertical-align: top;\n",
       "    }\n",
       "\n",
       "    .dataframe thead th {\n",
       "        text-align: right;\n",
       "    }\n",
       "</style>\n",
       "<table border=\"1\" class=\"dataframe\">\n",
       "  <thead>\n",
       "    <tr style=\"text-align: right;\">\n",
       "      <th></th>\n",
       "      <th>visited_on</th>\n",
       "      <th>amount</th>\n",
       "      <th>average_amount</th>\n",
       "    </tr>\n",
       "  </thead>\n",
       "  <tbody>\n",
       "    <tr>\n",
       "      <th>6</th>\n",
       "      <td>2019-01-07</td>\n",
       "      <td>860.0</td>\n",
       "      <td>122.86</td>\n",
       "    </tr>\n",
       "    <tr>\n",
       "      <th>7</th>\n",
       "      <td>2019-01-08</td>\n",
       "      <td>840.0</td>\n",
       "      <td>120.00</td>\n",
       "    </tr>\n",
       "    <tr>\n",
       "      <th>8</th>\n",
       "      <td>2019-01-09</td>\n",
       "      <td>840.0</td>\n",
       "      <td>120.00</td>\n",
       "    </tr>\n",
       "    <tr>\n",
       "      <th>9</th>\n",
       "      <td>2019-01-10</td>\n",
       "      <td>1000.0</td>\n",
       "      <td>142.86</td>\n",
       "    </tr>\n",
       "  </tbody>\n",
       "</table>\n",
       "</div>"
      ],
      "text/plain": [
       "   visited_on  amount  average_amount\n",
       "6  2019-01-07   860.0          122.86\n",
       "7  2019-01-08   840.0          120.00\n",
       "8  2019-01-09   840.0          120.00\n",
       "9  2019-01-10  1000.0          142.86"
      ]
     },
     "execution_count": 288,
     "metadata": {},
     "output_type": "execute_result"
    }
   ],
   "source": [
    "df.dropna()"
   ]
  },
  {
   "cell_type": "code",
   "execution_count": 272,
   "metadata": {},
   "outputs": [
    {
     "data": {
      "text/html": [
       "<div>\n",
       "<style scoped>\n",
       "    .dataframe tbody tr th:only-of-type {\n",
       "        vertical-align: middle;\n",
       "    }\n",
       "\n",
       "    .dataframe tbody tr th {\n",
       "        vertical-align: top;\n",
       "    }\n",
       "\n",
       "    .dataframe thead th {\n",
       "        text-align: right;\n",
       "    }\n",
       "</style>\n",
       "<table border=\"1\" class=\"dataframe\">\n",
       "  <thead>\n",
       "    <tr style=\"text-align: right;\">\n",
       "      <th></th>\n",
       "      <th>customer_id</th>\n",
       "      <th>name</th>\n",
       "      <th>visited_on</th>\n",
       "      <th>amount</th>\n",
       "      <th>average_amount</th>\n",
       "    </tr>\n",
       "  </thead>\n",
       "  <tbody>\n",
       "    <tr>\n",
       "      <th>0</th>\n",
       "      <td>1</td>\n",
       "      <td>Jhon</td>\n",
       "      <td>2019-01-01</td>\n",
       "      <td>100</td>\n",
       "      <td>NaN</td>\n",
       "    </tr>\n",
       "    <tr>\n",
       "      <th>1</th>\n",
       "      <td>2</td>\n",
       "      <td>Daniel</td>\n",
       "      <td>2019-01-02</td>\n",
       "      <td>110</td>\n",
       "      <td>NaN</td>\n",
       "    </tr>\n",
       "    <tr>\n",
       "      <th>2</th>\n",
       "      <td>3</td>\n",
       "      <td>Jade</td>\n",
       "      <td>2019-01-03</td>\n",
       "      <td>120</td>\n",
       "      <td>NaN</td>\n",
       "    </tr>\n",
       "    <tr>\n",
       "      <th>3</th>\n",
       "      <td>4</td>\n",
       "      <td>Khaled</td>\n",
       "      <td>2019-01-04</td>\n",
       "      <td>130</td>\n",
       "      <td>NaN</td>\n",
       "    </tr>\n",
       "    <tr>\n",
       "      <th>4</th>\n",
       "      <td>5</td>\n",
       "      <td>Winston</td>\n",
       "      <td>2019-01-05</td>\n",
       "      <td>110</td>\n",
       "      <td>NaN</td>\n",
       "    </tr>\n",
       "    <tr>\n",
       "      <th>5</th>\n",
       "      <td>6</td>\n",
       "      <td>Elvis</td>\n",
       "      <td>2019-01-06</td>\n",
       "      <td>140</td>\n",
       "      <td>NaN</td>\n",
       "    </tr>\n",
       "    <tr>\n",
       "      <th>6</th>\n",
       "      <td>7</td>\n",
       "      <td>Anna</td>\n",
       "      <td>2019-01-07</td>\n",
       "      <td>150</td>\n",
       "      <td>122.857143</td>\n",
       "    </tr>\n",
       "    <tr>\n",
       "      <th>7</th>\n",
       "      <td>8</td>\n",
       "      <td>Maria</td>\n",
       "      <td>2019-01-08</td>\n",
       "      <td>80</td>\n",
       "      <td>120.000000</td>\n",
       "    </tr>\n",
       "    <tr>\n",
       "      <th>8</th>\n",
       "      <td>9</td>\n",
       "      <td>Jaze</td>\n",
       "      <td>2019-01-09</td>\n",
       "      <td>110</td>\n",
       "      <td>120.000000</td>\n",
       "    </tr>\n",
       "    <tr>\n",
       "      <th>9</th>\n",
       "      <td>1</td>\n",
       "      <td>Jhon</td>\n",
       "      <td>2019-01-10</td>\n",
       "      <td>130</td>\n",
       "      <td>121.428571</td>\n",
       "    </tr>\n",
       "    <tr>\n",
       "      <th>10</th>\n",
       "      <td>3</td>\n",
       "      <td>Jade</td>\n",
       "      <td>2019-01-10</td>\n",
       "      <td>150</td>\n",
       "      <td>124.285714</td>\n",
       "    </tr>\n",
       "  </tbody>\n",
       "</table>\n",
       "</div>"
      ],
      "text/plain": [
       "    customer_id     name  visited_on  amount  average_amount\n",
       "0             1     Jhon  2019-01-01     100             NaN\n",
       "1             2   Daniel  2019-01-02     110             NaN\n",
       "2             3     Jade  2019-01-03     120             NaN\n",
       "3             4   Khaled  2019-01-04     130             NaN\n",
       "4             5  Winston  2019-01-05     110             NaN\n",
       "5             6    Elvis  2019-01-06     140             NaN\n",
       "6             7     Anna  2019-01-07     150      122.857143\n",
       "7             8    Maria  2019-01-08      80      120.000000\n",
       "8             9     Jaze  2019-01-09     110      120.000000\n",
       "9             1     Jhon  2019-01-10     130      121.428571\n",
       "10            3     Jade  2019-01-10     150      124.285714"
      ]
     },
     "execution_count": 272,
     "metadata": {},
     "output_type": "execute_result"
    }
   ],
   "source": [
    "df['average_amount'] = df['amount'].rolling(7).mean()\n",
    "df"
   ]
  },
  {
   "cell_type": "markdown",
   "metadata": {},
   "source": [
    "# Simpson's Paradox\n",
    "We run an experiment on two days. The first day we apply the treatment to 1% of users and the next day to 50% of users.\n",
    "\n",
    "The treatment has a better success rate on both days, but when we average the result, it is worse overall due to to weighted averaging."
   ]
  },
  {
   "cell_type": "code",
   "execution_count": 334,
   "metadata": {},
   "outputs": [
    {
     "name": "stdout",
     "output_type": "stream",
     "text": [
      "Daily Results:\n"
     ]
    },
    {
     "data": {
      "text/html": [
       "<div>\n",
       "<style scoped>\n",
       "    .dataframe tbody tr th:only-of-type {\n",
       "        vertical-align: middle;\n",
       "    }\n",
       "\n",
       "    .dataframe tbody tr th {\n",
       "        vertical-align: top;\n",
       "    }\n",
       "\n",
       "    .dataframe thead th {\n",
       "        text-align: right;\n",
       "    }\n",
       "</style>\n",
       "<table border=\"1\" class=\"dataframe\">\n",
       "  <thead>\n",
       "    <tr style=\"text-align: right;\">\n",
       "      <th></th>\n",
       "      <th>Treatment or Control</th>\n",
       "      <th>Success</th>\n",
       "      <th>Failure</th>\n",
       "      <th>Rate</th>\n",
       "    </tr>\n",
       "  </thead>\n",
       "  <tbody>\n",
       "    <tr>\n",
       "      <th>0</th>\n",
       "      <td>Treatment</td>\n",
       "      <td>258</td>\n",
       "      <td>242</td>\n",
       "      <td>52.0</td>\n",
       "    </tr>\n",
       "    <tr>\n",
       "      <th>1</th>\n",
       "      <td>Control</td>\n",
       "      <td>5247</td>\n",
       "      <td>4253</td>\n",
       "      <td>55.0</td>\n",
       "    </tr>\n",
       "    <tr>\n",
       "      <th>2</th>\n",
       "      <td>Treatment</td>\n",
       "      <td>3016</td>\n",
       "      <td>1984</td>\n",
       "      <td>60.0</td>\n",
       "    </tr>\n",
       "    <tr>\n",
       "      <th>3</th>\n",
       "      <td>Control</td>\n",
       "      <td>2741</td>\n",
       "      <td>2259</td>\n",
       "      <td>55.0</td>\n",
       "    </tr>\n",
       "  </tbody>\n",
       "</table>\n",
       "</div>"
      ],
      "text/plain": [
       "  Treatment or Control  Success  Failure  Rate\n",
       "0            Treatment      258      242  52.0\n",
       "1              Control     5247     4253  55.0\n",
       "2            Treatment     3016     1984  60.0\n",
       "3              Control     2741     2259  55.0"
      ]
     },
     "metadata": {},
     "output_type": "display_data"
    },
    {
     "name": "stdout",
     "output_type": "stream",
     "text": [
      "\n",
      "Weighted Average Results:\n"
     ]
    },
    {
     "data": {
      "text/html": [
       "<div>\n",
       "<style scoped>\n",
       "    .dataframe tbody tr th:only-of-type {\n",
       "        vertical-align: middle;\n",
       "    }\n",
       "\n",
       "    .dataframe tbody tr th {\n",
       "        vertical-align: top;\n",
       "    }\n",
       "\n",
       "    .dataframe thead th {\n",
       "        text-align: right;\n",
       "    }\n",
       "</style>\n",
       "<table border=\"1\" class=\"dataframe\">\n",
       "  <thead>\n",
       "    <tr style=\"text-align: right;\">\n",
       "      <th></th>\n",
       "      <th>Success</th>\n",
       "      <th>Failure</th>\n",
       "      <th>Rate</th>\n",
       "    </tr>\n",
       "    <tr>\n",
       "      <th>Treatment or Control</th>\n",
       "      <th></th>\n",
       "      <th></th>\n",
       "      <th></th>\n",
       "    </tr>\n",
       "  </thead>\n",
       "  <tbody>\n",
       "    <tr>\n",
       "      <th>Control</th>\n",
       "      <td>3994.0</td>\n",
       "      <td>3256.0</td>\n",
       "      <td>55.0</td>\n",
       "    </tr>\n",
       "    <tr>\n",
       "      <th>Treatment</th>\n",
       "      <td>1637.0</td>\n",
       "      <td>1113.0</td>\n",
       "      <td>56.0</td>\n",
       "    </tr>\n",
       "  </tbody>\n",
       "</table>\n",
       "</div>"
      ],
      "text/plain": [
       "                      Success  Failure  Rate\n",
       "Treatment or Control                        \n",
       "Control                3994.0   3256.0  55.0\n",
       "Treatment              1637.0   1113.0  56.0"
      ]
     },
     "execution_count": 334,
     "metadata": {},
     "output_type": "execute_result"
    }
   ],
   "source": [
    "import numpy as np\n",
    "import pandas as pd\n",
    "\n",
    "success_list = []\n",
    "failure_list = []\n",
    "\n",
    "def run_experiment(p, num_simulations):\n",
    "    simulations = np.random.binomial(n=1, p=p, size=num_simulations)\n",
    "    successes = np.count_nonzero(simulations == 1)\n",
    "    failures = np.count_nonzero(simulations == 0)\n",
    "    success_list.append(successes)\n",
    "    failure_list.append(failures)\n",
    "\n",
    "run_experiment(p=0.5, num_simulations=500)\n",
    "run_experiment(p=0.55, num_simulations=9500)\n",
    "run_experiment(p=0.6, num_simulations=5000)\n",
    "run_experiment(p=0.55, num_simulations=5000)\n",
    "\n",
    "df = pd.DataFrame({\n",
    "    \"Treatment or Control\": [\"Treatment\", \"Control\", \"Treatment\", \"Control\"],\n",
    "    \"Success\": success_list, \n",
    "    \"Failure\": failure_list\n",
    "})\n",
    "df['Rate'] = (100*df['Success'] / (df['Success'] + df['Failure'])).round(0)\n",
    "print(\"Daily Results:\")\n",
    "display(df)\n",
    "print(\"\\nWeighted Average Results:\")\n",
    "df.groupby('Treatment or Control').mean()"
   ]
  },
  {
   "cell_type": "code",
   "execution_count": 312,
   "metadata": {},
   "outputs": [
    {
     "name": "stdout",
     "output_type": "stream",
     "text": [
      "Rate: 0.0246, Successes: 120, Failures: 4880\n",
      "Rate: 0.0198, Successes: 97, Failures: 4903\n"
     ]
    }
   ],
   "source": [
    "num_simulations = 5000\n",
    "\n",
    "p = 0.023\n",
    "simulations = np.random.binomial(n=1, p=p, size=num_simulations)\n",
    "successes = np.count_nonzero(simulations == 1)\n",
    "failures = np.count_nonzero(simulations == 0)\n",
    "print(f'Rate: {successes / failures:.04f}, Successes: {successes}, Failures: {failures}')\n",
    "\n",
    "p = 0.02\n",
    "simulations = np.random.binomial(n=1, p=p, size=num_simulations)\n",
    "successes = np.count_nonzero(simulations == 1)\n",
    "failures = np.count_nonzero(simulations == 0)\n",
    "print(f'Rate: {successes / failures:.04f}, Successes: {successes}, Failures: {failures}')"
   ]
  },
  {
   "cell_type": "code",
   "execution_count": 88,
   "metadata": {},
   "outputs": [
    {
     "data": {
      "text/plain": [
       "[-2, -2]"
      ]
     },
     "execution_count": 88,
     "metadata": {},
     "output_type": "execute_result"
    }
   ],
   "source": [
    "asteroids = [1,-1,-2,-2]\n",
    "out = []\n",
    "for i in range(len(asteroids)):\n",
    "    if len(out) == 0:\n",
    "        out.append(asteroids[i])\n",
    "    else:\n",
    "        left = out[-1]\n",
    "        right = asteroids[i]\n",
    "        while left:\n",
    "            if (left<0 and right>0) or (left>0 and right>0) or (left<0 and right<0):\n",
    "                out.append(right)\n",
    "                break\n",
    "            elif abs(left) == abs(right): \n",
    "                out.pop(-1)\n",
    "                break\n",
    "            elif abs(left) > abs(right):\n",
    "                break\n",
    "            else:\n",
    "                out.pop(-1)\n",
    "                if len(out) == 0:\n",
    "                    out.append(right)\n",
    "                    break\n",
    "                else:\n",
    "                    left = out[-1]\n",
    "out"
   ]
  },
  {
   "cell_type": "code",
   "execution_count": 42,
   "metadata": {},
   "outputs": [],
   "source": [
    "grid = [[0,0,1,1],\n",
    "        [1,0,1,0],\n",
    "        [1,1,0,0]]"
   ]
  },
  {
   "cell_type": "code",
   "execution_count": 31,
   "metadata": {},
   "outputs": [],
   "source": [
    "grid[0][0] = 1"
   ]
  },
  {
   "cell_type": "code",
   "execution_count": 32,
   "metadata": {},
   "outputs": [
    {
     "data": {
      "text/plain": [
       "[[1, 0, 1, 1], [1, 0, 1, 0], [1, 1, 0, 0]]"
      ]
     },
     "execution_count": 32,
     "metadata": {},
     "output_type": "execute_result"
    }
   ],
   "source": [
    "grid"
   ]
  },
  {
   "cell_type": "code",
   "execution_count": 3,
   "metadata": {},
   "outputs": [
    {
     "data": {
      "text/plain": [
       "['', '', '']"
      ]
     },
     "execution_count": 3,
     "metadata": {},
     "output_type": "execute_result"
    }
   ],
   "source": [
    "str1 = \"ABCABC\"\n",
    "str2 = \"ABC\"\n",
    "str1.split(\"ABC\")"
   ]
  },
  {
   "cell_type": "code",
   "execution_count": 14,
   "metadata": {},
   "outputs": [],
   "source": [
    "str1 = \"AAAAAA\"\n",
    "str2 = \"AAA\""
   ]
  },
  {
   "cell_type": "code",
   "execution_count": 15,
   "metadata": {},
   "outputs": [
    {
     "data": {
      "text/plain": [
       "'AAA'"
      ]
     },
     "execution_count": 15,
     "metadata": {},
     "output_type": "execute_result"
    }
   ],
   "source": [
    "out = ''\n",
    "if len(str1) < len(str2):\n",
    "    for i in range(len(str1)):\n",
    "        if all([s == '' for s in str2.split(str1[0:i+1])]):\n",
    "            out = str1[0:i+1]\n",
    "else:\n",
    "    for i in range(len(str2)):\n",
    "        if all([s == '' for s in str1.split(str2[0:i+1])]):\n",
    "            out = str2[0:i+1]\n",
    "out"
   ]
  },
  {
   "cell_type": "code",
   "execution_count": 16,
   "metadata": {},
   "outputs": [
    {
     "data": {
      "text/plain": [
       "[True, True, True]"
      ]
     },
     "execution_count": 16,
     "metadata": {},
     "output_type": "execute_result"
    }
   ],
   "source": [
    "[s == '' for s in str1.split(str2[0:i+1])]"
   ]
  },
  {
   "cell_type": "code",
   "execution_count": 21,
   "metadata": {},
   "outputs": [
    {
     "name": "stdout",
     "output_type": "stream",
     "text": [
      "AAA\n",
      "A\n"
     ]
    }
   ],
   "source": [
    "len1, len2 = len(str1), len(str2)\n",
    "\n",
    "def divisor(l):\n",
    "    if len1 % l or len2 % l:\n",
    "        return False\n",
    "    f1, f2 = len1//l, len2//l\n",
    "    return str1[:l]*f1==str1 and str1[:l]*f2==str2\n",
    "\n",
    "for l in range(min(len1,len2),0,-1):\n",
    "    if divisor(l):\n",
    "        print(str1[:l])"
   ]
  },
  {
   "cell_type": "code",
   "execution_count": 30,
   "metadata": {},
   "outputs": [
    {
     "name": "stdout",
     "output_type": "stream",
     "text": [
      "0 [1, 0, 0] 0\n",
      "1 [0, 0, 0] 0\n",
      "2 [1, 0, 1] 1\n",
      "3 [0, 1, 0] 1\n",
      "4 [1, 0, 0] 1\n"
     ]
    }
   ],
   "source": [
    "flowerbed = [1,0,0,0,1,0,0]\n",
    "count = 0\n",
    "for i in range(len(flowerbed)-2):\n",
    "    print(i, flowerbed[i:i+3], count)\n",
    "\n",
    "    # Left edge\n",
    "    if i == 0:\n",
    "        window = flowerbed[i:i+2]\n",
    "        if sum(window) == 0:\n",
    "            count += 1\n",
    "            flowerbed[0] = 1\n",
    "\n",
    "    # Right edge\n",
    "    if i == (len(flowerbed)-2):\n",
    "        window = flowerbed[i+1:i+3]\n",
    "        if sum(window) == 0:\n",
    "            count += 1\n",
    "            flowerbed[i+3] = 1\n",
    "\n",
    "    # Middle\n",
    "    window = flowerbed[i:i+3]\n",
    "    if sum(window) == 0:\n",
    "        count += 1\n",
    "        flowerbed[i+1] = 1"
   ]
  },
  {
   "cell_type": "code",
   "execution_count": 45,
   "metadata": {},
   "outputs": [
    {
     "data": {
      "text/plain": [
       "'ABCABC'"
      ]
     },
     "execution_count": 45,
     "metadata": {},
     "output_type": "execute_result"
    }
   ],
   "source": [
    "str1 = s1 = \"ABCABC\"\n",
    "str2 = s2 = \"ABC\"\n",
    "s2 * 2"
   ]
  },
  {
   "cell_type": "code",
   "execution_count": 44,
   "metadata": {},
   "outputs": [
    {
     "data": {
      "text/plain": [
       "True"
      ]
     },
     "execution_count": 44,
     "metadata": {},
     "output_type": "execute_result"
    }
   ],
   "source": [
    "longest = max(len(s1), len(s2))\n",
    "l1, l2 = longest//len(s1),  longest//len(s2)\n",
    "s1*l1 == s2*l2"
   ]
  },
  {
   "cell_type": "code",
   "execution_count": 54,
   "metadata": {},
   "outputs": [
    {
     "data": {
      "text/plain": [
       "5"
      ]
     },
     "execution_count": 54,
     "metadata": {},
     "output_type": "execute_result"
    }
   ],
   "source": [
    "import math \n",
    "math.gcd(len(str1), len(str2))"
   ]
  },
  {
   "cell_type": "code",
   "execution_count": 53,
   "metadata": {},
   "outputs": [],
   "source": [
    "str1 = \"TAUXXTAUXXTAUXXTAUXXTAUXX\"\n",
    "str2 = \"TAUXXTAUXXTAUXXTAUXXTAUXXTAUXXTAUXXTAUXXTAUXX\""
   ]
  },
  {
   "cell_type": "code",
   "execution_count": null,
   "metadata": {},
   "outputs": [],
   "source": [
    "def can_construct_from_repeated_substring(string, substring):\n",
    "    repeated_times = len(string) // len(substring)\n",
    "    return substring * repeated_times == string\n",
    "\n",
    "gcd = math.gcd(len(str1), len(str2))\n",
    "if len(str1) <= len(str2):\n",
    "    candidate = str1[:gcd]\n",
    "    if can_construct_from_repeated_substring(str1, candidate) and can_construct_from_repeated_substring(str2, candidate):\n",
    "        return candidate\n",
    "    else:\n",
    "        return \"\"\n",
    "else:\n",
    "    candidate = str2[:gcd]\n",
    "    if can_construct_from_repeated_substring(str1, candidate) and can_construct_from_repeated_substring(str2, candidate):\n",
    "        return candidate\n",
    "    else:\n",
    "        return \"\"\n"
   ]
  },
  {
   "cell_type": "code",
   "execution_count": 128,
   "metadata": {},
   "outputs": [
    {
     "name": "stdout",
     "output_type": "stream",
     "text": [
      "[0, 1, 2]\n"
     ]
    }
   ],
   "source": [
    "import heapq\n",
    "data = [1, 3, 5, 7, 9, 2, 4, 6, 8, 0]\n",
    "smallest = heapq.nsmallest(3, data)\n",
    "print(smallest) # Output: [0, 1, 2]"
   ]
  },
  {
   "cell_type": "code",
   "execution_count": 96,
   "metadata": {},
   "outputs": [
    {
     "data": {
      "text/plain": [
       "5"
      ]
     },
     "execution_count": 96,
     "metadata": {},
     "output_type": "execute_result"
    }
   ],
   "source": [
    "nums = [3,2,1,5,6,4]\n",
    "k = 2\n",
    "heapq.nlargest(k, nums)[-1]"
   ]
  },
  {
   "cell_type": "code",
   "execution_count": 132,
   "metadata": {},
   "outputs": [],
   "source": [
    "heapq.heappush([], 1)"
   ]
  },
  {
   "cell_type": "code",
   "execution_count": 135,
   "metadata": {},
   "outputs": [
    {
     "data": {
      "text/plain": [
       "[1, 2, 3, 4, 5, 6, 7]"
      ]
     },
     "execution_count": 135,
     "metadata": {},
     "output_type": "execute_result"
    }
   ],
   "source": [
    "m = 3\n",
    "n = 7\n",
    "curr_row = [1] * n\n",
    "prev_row = [1] * n\n",
    "\n",
    "for i in range(1, m):\n",
    "    for j in range(1, n):\n",
    "        curr_row[j] = curr_row[j - 1] + prev_row[j]\n",
    "    curr_row, prev_row = prev_row, curr_row\n",
    "\n",
    "curr_row"
   ]
  },
  {
   "cell_type": "code",
   "execution_count": 136,
   "metadata": {},
   "outputs": [
    {
     "data": {
      "text/plain": [
       "[1, 3, 6, 10, 15, 21, 28]"
      ]
     },
     "execution_count": 136,
     "metadata": {},
     "output_type": "execute_result"
    }
   ],
   "source": [
    "prev_row"
   ]
  },
  {
   "cell_type": "code",
   "execution_count": 137,
   "metadata": {},
   "outputs": [
    {
     "data": {
      "text/plain": [
       "[1, 3, 6, 10, 15, 21, 28]"
      ]
     },
     "execution_count": 137,
     "metadata": {},
     "output_type": "execute_result"
    }
   ],
   "source": [
    "dp = [1] * n\n",
    "for i in range(1, m):\n",
    "    for j in range(1, n):\n",
    "        dp[j] += dp[j-1] \n",
    "dp"
   ]
  },
  {
   "cell_type": "code",
   "execution_count": 131,
   "metadata": {},
   "outputs": [
    {
     "ename": "TypeError",
     "evalue": "argument of type 'NoneType' is not iterable",
     "output_type": "error",
     "traceback": [
      "\u001b[0;31m---------------------------------------------------------------------------\u001b[0m",
      "\u001b[0;31mTypeError\u001b[0m                                 Traceback (most recent call last)",
      "Cell \u001b[0;32mIn[131], line 2\u001b[0m\n\u001b[1;32m      1\u001b[0m myset \u001b[38;5;241m=\u001b[39m heapq\u001b[38;5;241m.\u001b[39mheapify([\u001b[38;5;241m2\u001b[39m])\n\u001b[0;32m----> 2\u001b[0m \u001b[38;5;28;01mif\u001b[39;00m \u001b[38;5;241;43m1\u001b[39;49m\u001b[43m \u001b[49m\u001b[38;5;129;43;01min\u001b[39;49;00m\u001b[43m \u001b[49m\u001b[43mmyset\u001b[49m:\n\u001b[1;32m      3\u001b[0m     \u001b[38;5;28mprint\u001b[39m(\u001b[38;5;241m1\u001b[39m)\n",
      "\u001b[0;31mTypeError\u001b[0m: argument of type 'NoneType' is not iterable"
     ]
    }
   ],
   "source": [
    "myset = heapq.heapify([])\n",
    "if 1 in myset:\n",
    "    print(1)"
   ]
  },
  {
   "cell_type": "code",
   "execution_count": 143,
   "metadata": {},
   "outputs": [
    {
     "name": "stdout",
     "output_type": "stream",
     "text": [
      "0\n",
      "1\n"
     ]
    },
    {
     "data": {
      "text/plain": [
       "1"
      ]
     },
     "execution_count": 143,
     "metadata": {},
     "output_type": "execute_result"
    }
   ],
   "source": [
    "n=4\n",
    "t0 = 0\n",
    "t1 = 1\n",
    "t2 = 1\n",
    "next_t = 0\n",
    "for _ in range(n-2):\n",
    "    print(_)\n",
    "    if next_t%3 == 0:\n",
    "        t0 = t0 + t1 + t2\n",
    "    elif next_t%3 == 1:\n",
    "        t1 = t0 + t1 + t2\n",
    "    else: # next_t%3 == 2:\n",
    "        t2 = t0 + t1 + t2\n",
    "    next_t += 1\n",
    "t2"
   ]
  },
  {
   "cell_type": "code",
   "execution_count": 213,
   "metadata": {},
   "outputs": [],
   "source": [
    "costs = [28,35,21,13,21,72,35,52,74,92,25,65,77,1,73,32,43,68,8,100,84,80,14,88,42,53,98,69,64,40,60,23,99,83,5,21,76,34]\n",
    "k = 32\n",
    "n = 12"
   ]
  },
  {
   "cell_type": "code",
   "execution_count": 214,
   "metadata": {},
   "outputs": [
    {
     "data": {
      "text/plain": [
       "(12, [98, 69, 64, 40, 60, 23, 99, 83, 5, 21, 76, 34])"
      ]
     },
     "execution_count": 214,
     "metadata": {},
     "output_type": "execute_result"
    }
   ],
   "source": [
    "len(costs[R:]), costs[R:]"
   ]
  },
  {
   "cell_type": "code",
   "execution_count": 215,
   "metadata": {},
   "outputs": [
    {
     "data": {
      "text/plain": [
       "53"
      ]
     },
     "execution_count": 215,
     "metadata": {},
     "output_type": "execute_result"
    }
   ],
   "source": [
    "costs[R-1]"
   ]
  },
  {
   "cell_type": "code",
   "execution_count": 216,
   "metadata": {},
   "outputs": [
    {
     "data": {
      "text/plain": [
       "(12, [28, 35, 21, 13, 21, 72, 35, 52, 74, 92, 25, 65])"
      ]
     },
     "execution_count": 216,
     "metadata": {},
     "output_type": "execute_result"
    }
   ],
   "source": [
    "len(costs[:L+1]), costs[:L+1]"
   ]
  },
  {
   "cell_type": "code",
   "execution_count": 217,
   "metadata": {},
   "outputs": [
    {
     "data": {
      "text/plain": [
       "77"
      ]
     },
     "execution_count": 217,
     "metadata": {},
     "output_type": "execute_result"
    }
   ],
   "source": [
    "costs[L+1]"
   ]
  },
  {
   "cell_type": "code",
   "execution_count": 242,
   "metadata": {},
   "outputs": [],
   "source": [
    "costs = [17,12,10,2, 7, 2,2,20,8]\n",
    "k = 9\n",
    "n = 4"
   ]
  },
  {
   "cell_type": "code",
   "execution_count": 243,
   "metadata": {},
   "outputs": [],
   "source": [
    "total_cost = 0\n",
    "L = n - 1\n",
    "R = len(costs) - n"
   ]
  },
  {
   "cell_type": "code",
   "execution_count": 236,
   "metadata": {},
   "outputs": [
    {
     "name": "stdout",
     "output_type": "stream",
     "text": [
      "0 3 5 [2, 12, 10, 17] [2, 20, 8]\n",
      "2 4 5 [7, 10, 17, 12] [2, 20, 8]\n",
      "4 4 4 [7, 10, 17, 12] [7, 20, 8]\n",
      "11 5 4 [10, 12, 17] [7, 20, 8]\n",
      "18 5 3 [10, 12, 17] [8, 20]\n",
      "26 5 2 [10, 12, 17] [20]\n",
      "36 6 2 [12, 17] [20]\n",
      "48 7 2 [17] [20]\n",
      "65 8 2 [] [20]\n"
     ]
    },
    {
     "ename": "ValueError",
     "evalue": "min() arg is an empty sequence",
     "output_type": "error",
     "traceback": [
      "\u001b[0;31m---------------------------------------------------------------------------\u001b[0m",
      "\u001b[0;31mValueError\u001b[0m                                Traceback (most recent call last)",
      "Cell \u001b[0;32mIn[236], line 13\u001b[0m\n\u001b[1;32m     11\u001b[0m \u001b[38;5;28;01mfor\u001b[39;00m _ \u001b[38;5;129;01min\u001b[39;00m \u001b[38;5;28mrange\u001b[39m(k):\n\u001b[1;32m     12\u001b[0m     \u001b[38;5;28mprint\u001b[39m(total_cost, L, R, lheap, rheap)\n\u001b[0;32m---> 13\u001b[0m     \u001b[38;5;28;01mif\u001b[39;00m (rheap \u001b[38;5;129;01mis\u001b[39;00m \u001b[38;5;28;01mNone\u001b[39;00m \u001b[38;5;129;01mand\u001b[39;00m lheap \u001b[38;5;129;01mis\u001b[39;00m \u001b[38;5;129;01mnot\u001b[39;00m \u001b[38;5;28;01mNone\u001b[39;00m) \u001b[38;5;129;01mor\u001b[39;00m (\u001b[38;5;28;43mmin\u001b[39;49m\u001b[43m(\u001b[49m\u001b[43mlheap\u001b[49m\u001b[43m)\u001b[49m \u001b[38;5;241m<\u001b[39m\u001b[38;5;241m=\u001b[39m \u001b[38;5;28mmin\u001b[39m(rheap)):\n\u001b[1;32m     14\u001b[0m         total_cost \u001b[38;5;241m+\u001b[39m\u001b[38;5;241m=\u001b[39m heapq\u001b[38;5;241m.\u001b[39mheappop(lheap)\n\u001b[1;32m     15\u001b[0m         L \u001b[38;5;241m+\u001b[39m\u001b[38;5;241m=\u001b[39m \u001b[38;5;241m1\u001b[39m\n",
      "\u001b[0;31mValueError\u001b[0m: min() arg is an empty sequence"
     ]
    }
   ],
   "source": [
    "heap = costs if n*2 >= len(costs) else costs[:L+1] + costs[R+1:]\n",
    "heapq.heapify(heap)\n",
    "\n",
    "for _ in range(k):\n",
    "    print(total_cost, L, R, heap)\n",
    "    total_cost += heapq.heappop(heap)\n",
    "    if L <= R:\n",
    "        L += 1\n",
    "        heapq.heappush(lheap, costs[L])\n",
    "    else: # min(lheap) <= min(rheap):\n",
    "        total_cost += heapq.heappop(rheap)\n",
    "        R -= 1\n",
    "        if R >= L:\n",
    "            heapq.heappush(rheap, costs[R])\n",
    "total_cost"
   ]
  },
  {
   "cell_type": "code",
   "execution_count": 251,
   "metadata": {},
   "outputs": [
    {
     "name": "stdout",
     "output_type": "stream",
     "text": [
      "52 8 3 [2, 2, 2, 8, 7, 17, 10, 20, 12] [2, 2, 2, 7, 20, 8]\n",
      "54 9 3 [2, 2, 10, 8, 7, 17, 12, 20] None\n",
      "56 10 3 [2, 7, 10, 8, 20, 17, 12] None\n",
      "58 11 3 [7, 8, 10, 12, 20, 17] None\n",
      "65 12 3 [8, 12, 10, 17, 20] None\n",
      "73 13 3 [10, 12, 20, 17] None\n",
      "83 14 3 [12, 17, 20] None\n",
      "95 15 3 [17, 20] None\n",
      "112 16 3 [20] None\n"
     ]
    }
   ],
   "source": [
    "if n*2 >= len(costs):\n",
    "    lheap = costs\n",
    "    heapq.heapify(lheap)\n",
    "    rheap = None\n",
    "else:\n",
    "    lheap = costs[:L+1]\n",
    "    rheap = costs[R:]\n",
    "    heapq.heapify(lheap)\n",
    "    heapq.heapify(rheap)\n",
    "\n",
    "for _ in range(k):\n",
    "    print(total_cost, L, R, lheap, rheap)\n",
    "    if rheap is None or min(lheap) <= min(rheap):\n",
    "        total_cost += heapq.heappop(lheap)\n",
    "        L += 1\n",
    "        if L <= R:\n",
    "            heapq.heappush(lheap, costs[L])\n",
    "        else:\n",
    "            heapq.merge(lheap, rheap)\n",
    "            rheap = None\n",
    "    else:\n",
    "        total_cost += heapq.heappop(rheap)\n",
    "        R -= 1\n",
    "        if R >= L:\n",
    "            heapq.heappush(rheap, costs[R])"
   ]
  },
  {
   "cell_type": "code",
   "execution_count": 250,
   "metadata": {},
   "outputs": [
    {
     "data": {
      "text/plain": [
       "<generator object merge at 0x148771fe0>"
      ]
     },
     "execution_count": 250,
     "metadata": {},
     "output_type": "execute_result"
    }
   ],
   "source": [
    "heapq.merge(lheap, rheap)"
   ]
  },
  {
   "cell_type": "code",
   "execution_count": 248,
   "metadata": {},
   "outputs": [
    {
     "data": {
      "text/plain": [
       "[2, 2, 2, 8, 7, 17, 10, 20, 12]"
      ]
     },
     "execution_count": 248,
     "metadata": {},
     "output_type": "execute_result"
    }
   ],
   "source": [
    "lheap"
   ]
  },
  {
   "cell_type": "code",
   "execution_count": 178,
   "metadata": {},
   "outputs": [
    {
     "data": {
      "text/plain": [
       "(6, 4, 11, 9)"
      ]
     },
     "execution_count": 178,
     "metadata": {},
     "output_type": "execute_result"
    }
   ],
   "source": [
    "L, R, costs[L], len(costs)"
   ]
  },
  {
   "cell_type": "code",
   "execution_count": 163,
   "metadata": {},
   "outputs": [
    {
     "data": {
      "text/plain": [
       "[36, 37]"
      ]
     },
     "execution_count": 163,
     "metadata": {},
     "output_type": "execute_result"
    }
   ],
   "source": [
    "[i for i in range(len(costs)-2, len(costs))]"
   ]
  },
  {
   "cell_type": "code",
   "execution_count": 161,
   "metadata": {},
   "outputs": [
    {
     "name": "stdout",
     "output_type": "stream",
     "text": [
      "0 False\n",
      "1 False\n",
      "2 False\n",
      "3 False\n",
      "4 False\n",
      "5 False\n",
      "6 False\n",
      "7 False\n",
      "8 False\n",
      "9 False\n",
      "10 False\n",
      "11 False\n",
      "36 False\n",
      "37 False\n"
     ]
    }
   ],
   "source": [
    "for i, cost in zip(indexes, candidates):\n",
    "    print(i, cost==lowest_cost)"
   ]
  },
  {
   "cell_type": "code",
   "execution_count": 151,
   "metadata": {},
   "outputs": [
    {
     "name": "stdout",
     "output_type": "stream",
     "text": [
      "1\n",
      "2\n"
     ]
    }
   ],
   "source": [
    "for i in range(len(costs)-2, len(costs)):\n",
    "    print(costs[i]) "
   ]
  },
  {
   "cell_type": "code",
   "execution_count": 98,
   "metadata": {},
   "outputs": [],
   "source": [
    "spells = [5,1,3]\n",
    "potions = [1,2,3,4,5]\n",
    "success = 7"
   ]
  },
  {
   "cell_type": "code",
   "execution_count": 109,
   "metadata": {},
   "outputs": [
    {
     "name": "stdout",
     "output_type": "stream",
     "text": [
      "4 5 4\n",
      "0 1 1\n",
      "3 4 4\n"
     ]
    }
   ],
   "source": [
    "out = [0]*len(spells)\n",
    "potions = sorted(potions)\n",
    "Rj = len(potions) - 1\n",
    "for i, spell in enumerate(spells):\n",
    "    count = 0\n",
    "    L = 0\n",
    "    R = Rj\n",
    "    while L <= R:\n",
    "        M = (L+R) // 2\n",
    "        if potions[M] * spell < success:\n",
    "            L = M + 1\n",
    "        else:\n",
    "            R = M - 1\n",
    "    # print(L, R, M)\n",
    "    print(len(potions[L:]), len(potions[R:]), len(potions[M:]))\n",
    "    out[i] = len(spells[M:])"
   ]
  },
  {
   "cell_type": "code",
   "execution_count": 113,
   "metadata": {},
   "outputs": [
    {
     "name": "stdout",
     "output_type": "stream",
     "text": [
      "0\n",
      "3\n",
      "4\n"
     ]
    }
   ],
   "source": [
    "out = [0]*len(spells)\n",
    "\n",
    "spell_index = {}\n",
    "for i, s in enumerate(spells):\n",
    "    list_of_indexes = spell_index.get(s, [])\n",
    "    list_of_indexes.append(i)\n",
    "    spell_index[s] = list_of_indexes\n",
    "\n",
    "spells = sorted(spells)\n",
    "potions = sorted(potions)\n",
    "best_R = len(potions) - 1 \n",
    "for spell in spells:\n",
    "    L = 0\n",
    "    R = best_R\n",
    "    while L <= R:\n",
    "        M = (L + R) // 2\n",
    "        if potions[M] * spell < success:\n",
    "            L = M + 1\n",
    "        else:\n",
    "            best_R = R\n",
    "            R = M - 1\n",
    "    print(len(potions[L:]))\n",
    "    for i in spell_index[s]:\n",
    "        out[i] = len(potions[L:])"
   ]
  },
  {
   "cell_type": "code",
   "execution_count": 123,
   "metadata": {},
   "outputs": [],
   "source": [
    "import bisect\n",
    "n = len(potions)"
   ]
  },
  {
   "cell_type": "code",
   "execution_count": 117,
   "metadata": {},
   "outputs": [
    {
     "data": {
      "text/plain": [
       "5"
      ]
     },
     "execution_count": 117,
     "metadata": {},
     "output_type": "execute_result"
    }
   ],
   "source": [
    "spells[i]"
   ]
  },
  {
   "cell_type": "code",
   "execution_count": 126,
   "metadata": {},
   "outputs": [
    {
     "data": {
      "text/plain": [
       "2"
      ]
     },
     "execution_count": 126,
     "metadata": {},
     "output_type": "execute_result"
    }
   ],
   "source": [
    "potions[1]"
   ]
  },
  {
   "cell_type": "code",
   "execution_count": 127,
   "metadata": {},
   "outputs": [
    {
     "ename": "TypeError",
     "evalue": "list indices must be integers or slices, not list",
     "output_type": "error",
     "traceback": [
      "\u001b[0;31m---------------------------------------------------------------------------\u001b[0m",
      "\u001b[0;31mTypeError\u001b[0m                                 Traceback (most recent call last)",
      "Cell \u001b[0;32mIn[127], line 2\u001b[0m\n\u001b[1;32m      1\u001b[0m out \u001b[38;5;241m=\u001b[39m [\u001b[38;5;241m0\u001b[39m]\u001b[38;5;241m*\u001b[39m\u001b[38;5;241m10\u001b[39m\n\u001b[0;32m----> 2\u001b[0m \u001b[43mout\u001b[49m\u001b[43m[\u001b[49m\u001b[43m[\u001b[49m\u001b[38;5;241;43m1\u001b[39;49m\u001b[43m,\u001b[49m\u001b[43m \u001b[49m\u001b[38;5;241;43m2\u001b[39;49m\u001b[43m]\u001b[49m\u001b[43m]\u001b[49m\n",
      "\u001b[0;31mTypeError\u001b[0m: list indices must be integers or slices, not list"
     ]
    }
   ],
   "source": [
    "out = [0]*10\n",
    "out[[1, 2]]"
   ]
  },
  {
   "cell_type": "code",
   "execution_count": 116,
   "metadata": {},
   "outputs": [
    {
     "data": {
      "text/plain": [
       "2"
      ]
     },
     "execution_count": 116,
     "metadata": {},
     "output_type": "execute_result"
    }
   ],
   "source": [
    "math.ceil(success/spells[i])"
   ]
  },
  {
   "cell_type": "code",
   "execution_count": null,
   "metadata": {},
   "outputs": [],
   "source": [
    "bisect.bisect_left(potions, math.ceil(success/spells[i]))"
   ]
  },
  {
   "cell_type": "code",
   "execution_count": 1,
   "metadata": {},
   "outputs": [
    {
     "data": {
      "text/plain": [
       "2"
      ]
     },
     "execution_count": 1,
     "metadata": {},
     "output_type": "execute_result"
    }
   ],
   "source": [
    "nums = [1, 1, 2, 3, 4]\n",
    "nums.count(1)"
   ]
  },
  {
   "cell_type": "code",
   "execution_count": 37,
   "metadata": {},
   "outputs": [
    {
     "data": {
      "text/plain": [
       "13"
      ]
     },
     "execution_count": 37,
     "metadata": {},
     "output_type": "execute_result"
    }
   ],
   "source": [
    "s = \"hello\"\n",
    "sum([abs(ord(a) - ord(b)) for a,b in zip(s[1:], s[:-1])])"
   ]
  },
  {
   "cell_type": "code",
   "execution_count": 45,
   "metadata": {},
   "outputs": [
    {
     "data": {
      "text/plain": [
       "3"
      ]
     },
     "execution_count": 45,
     "metadata": {},
     "output_type": "execute_result"
    }
   ],
   "source": [
    "import math\n",
    "math.ceil(5 / 2)"
   ]
  },
  {
   "cell_type": "code",
   "execution_count": 46,
   "metadata": {},
   "outputs": [
    {
     "data": {
      "text/plain": [
       "2.5"
      ]
     },
     "execution_count": 46,
     "metadata": {},
     "output_type": "execute_result"
    }
   ],
   "source": [
    "5 / 2"
   ]
  },
  {
   "cell_type": "code",
   "execution_count": 50,
   "metadata": {},
   "outputs": [
    {
     "data": {
      "text/plain": [
       "'a'"
      ]
     },
     "execution_count": 50,
     "metadata": {},
     "output_type": "execute_result"
    }
   ],
   "source": [
    "chr(ord('a'))"
   ]
  },
  {
   "cell_type": "code",
   "execution_count": 51,
   "metadata": {},
   "outputs": [
    {
     "data": {
      "text/plain": [
       "'r'"
      ]
     },
     "execution_count": 51,
     "metadata": {},
     "output_type": "execute_result"
    }
   ],
   "source": [
    "s = 'charizard'\n",
    "s[3]"
   ]
  },
  {
   "cell_type": "code",
   "execution_count": 69,
   "metadata": {},
   "outputs": [
    {
     "data": {
      "text/plain": [
       "{'a', 'c', 'd', 'h', 'i', 'r', 'z'}"
      ]
     },
     "execution_count": 69,
     "metadata": {},
     "output_type": "execute_result"
    }
   ],
   "source": [
    "set(s)"
   ]
  },
  {
   "cell_type": "code",
   "execution_count": 71,
   "metadata": {},
   "outputs": [
    {
     "data": {
      "text/plain": [
       "['l', 'l', 'e']"
      ]
     },
     "execution_count": 71,
     "metadata": {},
     "output_type": "execute_result"
    }
   ],
   "source": [
    "words = [\"bella\",\"label\",\"roller\"]\n",
    "\n",
    "arr = []\n",
    "l = set(words[0])\n",
    "for i in l:\n",
    "    t = min(w.count(i) for w in words)\n",
    "    arr += [i]*t\n",
    "    \n",
    "arr"
   ]
  },
  {
   "cell_type": "code",
   "execution_count": 99,
   "metadata": {},
   "outputs": [
    {
     "name": "stdout",
     "output_type": "stream",
     "text": [
      "1 1 0\n",
      "2 2 1\n",
      "3 2 2\n",
      "2 3 2\n"
     ]
    },
    {
     "data": {
      "text/plain": [
       "2"
      ]
     },
     "execution_count": 99,
     "metadata": {},
     "output_type": "execute_result"
    }
   ],
   "source": [
    "nums = [3,2,1,2,1,7]\n",
    "nums = sorted(nums)\n",
    "count = 0\n",
    "L = nums[0]\n",
    "for i in range(1, len(nums[1:])):\n",
    "    print(L, nums[i], count)\n",
    "    if L == nums[i]:\n",
    "        # count += \n",
    "        nums[i] += 1\n",
    "    L = nums[i]\n",
    "\n",
    "count"
   ]
  },
  {
   "cell_type": "code",
   "execution_count": 95,
   "metadata": {},
   "outputs": [
    {
     "data": {
      "text/plain": [
       "[1, 1, 2, 2, 3, 7]"
      ]
     },
     "execution_count": 95,
     "metadata": {},
     "output_type": "execute_result"
    }
   ],
   "source": [
    "nums = [3,2,1,2,1,7]\n",
    "# sorted(nums)[1:]\n",
    "sorted(nums)"
   ]
  },
  {
   "cell_type": "code",
   "execution_count": 112,
   "metadata": {},
   "outputs": [
    {
     "data": {
      "text/plain": [
       "False"
      ]
     },
     "execution_count": 112,
     "metadata": {},
     "output_type": "execute_result"
    }
   ],
   "source": [
    "import math\n",
    "\n",
    "def judgeSquareSum(c):\n",
    "    L = 0\n",
    "    R = int(math.sqrt(c))\n",
    "    while L <= R:\n",
    "        curr = L**2 + R**2\n",
    "        if curr == c:\n",
    "            return True\n",
    "        if curr < c:\n",
    "            L += 1\n",
    "        else:\n",
    "            R -= 1\n",
    "    return False\n",
    "\n",
    "judgeSquareSum(c=2147482647)"
   ]
  },
  {
   "cell_type": "code",
   "execution_count": 123,
   "metadata": {},
   "outputs": [
    {
     "name": "stdout",
     "output_type": "stream",
     "text": [
      "0 0 0 False\n",
      "0 1 0 False\n"
     ]
    }
   ],
   "source": [
    "def isBadVersion(m):\n",
    "    if m >= 1:\n",
    "        return True\n",
    "    else:\n",
    "        return False\n",
    "        \n",
    "n = 1\n",
    "L = 0\n",
    "R = n-1\n",
    "first = 0\n",
    "while L <= R:\n",
    "    m = (R+L) // 2\n",
    "    print(R, L, m, isBadVersion(m))\n",
    "    if isBadVersion(m) == False:\n",
    "        L = m+1\n",
    "    else:\n",
    "        first = m\n",
    "        R = m-1\n",
    "print(R, L, m, isBadVersion(m))"
   ]
  },
  {
   "cell_type": "code",
   "execution_count": 109,
   "metadata": {},
   "outputs": [
    {
     "data": {
      "text/plain": [
       "9"
      ]
     },
     "execution_count": 109,
     "metadata": {},
     "output_type": "execute_result"
    }
   ],
   "source": [
    "c = 6\n",
    "\n",
    "L = 0\n",
    "R = c // 2\n",
    "curr = L**2 + R**2 \n",
    "# if diff == 1:\n",
    "#     return True\n",
    "# diff // 2, diff, b**2, c\n",
    "curr"
   ]
  },
  {
   "cell_type": "code",
   "execution_count": null,
   "metadata": {},
   "outputs": [],
   "source": [
    "min(w.count(i) for w in words)"
   ]
  },
  {
   "cell_type": "code",
   "execution_count": 63,
   "metadata": {},
   "outputs": [
    {
     "name": "stdout",
     "output_type": "stream",
     "text": [
      "0\n",
      "1\n",
      "2\n",
      "3\n",
      "4\n",
      "5\n",
      "6\n",
      "7\n",
      "8\n"
     ]
    }
   ],
   "source": [
    "for i, c in enumerate(s):\n",
    "    print(i)"
   ]
  },
  {
   "cell_type": "code",
   "execution_count": 81,
   "metadata": {},
   "outputs": [
    {
     "data": {
      "text/plain": [
       "0"
      ]
     },
     "execution_count": 81,
     "metadata": {},
     "output_type": "execute_result"
    }
   ],
   "source": [
    "nums = [4,5,0,-2,-3,1]\n",
    "k = 5\n",
    "out = []\n",
    "diff = sum(nums) % k\n",
    "diff"
   ]
  },
  {
   "cell_type": "code",
   "execution_count": 82,
   "metadata": {},
   "outputs": [],
   "source": [
    "if diff == 0:\n",
    "    out.append(nums)"
   ]
  },
  {
   "cell_type": "code",
   "execution_count": 79,
   "metadata": {},
   "outputs": [
    {
     "data": {
      "text/plain": [
       "5"
      ]
     },
     "execution_count": 79,
     "metadata": {},
     "output_type": "execute_result"
    }
   ],
   "source": [
    "from collections import deque\n",
    "nums = deque(nums)\n",
    "nums.popleft()"
   ]
  },
  {
   "cell_type": "code",
   "execution_count": 83,
   "metadata": {},
   "outputs": [
    {
     "data": {
      "text/plain": [
       "[[4, 5, 0, -2, -3, 1]]"
      ]
     },
     "execution_count": 83,
     "metadata": {},
     "output_type": "execute_result"
    }
   ],
   "source": [
    "out"
   ]
  },
  {
   "cell_type": "code",
   "execution_count": 124,
   "metadata": {},
   "outputs": [
    {
     "name": "stdout",
     "output_type": "stream",
     "text": [
      "P-value: 0.0324\n"
     ]
    }
   ],
   "source": [
    "from scipy.stats import poisson\n",
    "\n",
    "# Observed number of infections\n",
    "observed_infections = 10\n",
    "\n",
    "# Expected number of infections under the null hypothesis\n",
    "expected_infections = 0.01 * 1787\n",
    "\n",
    "# Calculate the p-value for the one-sided test\n",
    "p_value = poisson.cdf(observed_infections, expected_infections)\n",
    "\n",
    "print(f\"P-value: {p_value:.4f}\")"
   ]
  },
  {
   "cell_type": "code",
   "execution_count": 159,
   "metadata": {},
   "outputs": [
    {
     "name": "stdout",
     "output_type": "stream",
     "text": [
      "0 0 0\n",
      "[1]\n",
      "0 0 1\n",
      "[1, 0]\n",
      "0 0 2\n",
      "[1, 0, 1]\n",
      "2 1 3\n",
      "[0, 1, 2]\n",
      "2 1 4\n",
      "[0, 1, 2, 1]\n",
      "3 3 5\n",
      "[2, 1, 1]\n",
      "3 3 6\n",
      "[2, 1, 1, 7]\n",
      "6 5 7\n",
      "[1, 7, 5]\n"
     ]
    },
    {
     "data": {
      "text/plain": [
       "(10, 6)"
      ]
     },
     "execution_count": 159,
     "metadata": {},
     "output_type": "execute_result"
    }
   ],
   "source": [
    "customers = [1,0,1,2,1,1,7,5]\n",
    "grumpy =    [0,1,0,1,0,1,0,1]\n",
    "minutes = 3\n",
    "# customers = [5,8]\n",
    "# grumpy =    [0,1]\n",
    "# minutes = 1\n",
    "\n",
    "L = 0\n",
    "best_window = curr_window =  total = 0\n",
    "for i in range(len(grumpy)):\n",
    "    if grumpy[i] == 0:\n",
    "        total += customers[i]\n",
    "    else:\n",
    "        curr_window += customers[i]\n",
    "        while i - L >= minutes:\n",
    "            curr_window -= grumpy[L] * customers[L]\n",
    "            L += 1\n",
    "        best_window = max(best_window, curr_window)\n",
    "\n",
    "    print(curr_window, L, i)\n",
    "    print(customers[L:i+1])\n",
    "        \n",
    "total, best_window"
   ]
  },
  {
   "cell_type": "code",
   "execution_count": 160,
   "metadata": {},
   "outputs": [
    {
     "name": "stdout",
     "output_type": "stream",
     "text": [
      "4\n",
      "4\n",
      "4\n",
      "4\n"
     ]
    },
    {
     "data": {
      "text/plain": [
       "16"
      ]
     },
     "execution_count": 160,
     "metadata": {},
     "output_type": "execute_result"
    }
   ],
   "source": [
    "nums = [2,2,2,1,2,2,1,2,2,2]\n",
    "k = 2\n",
    "\n",
    "for i in range(len(nums)):\n",
    "    nums[i] %= 2\n",
    "\n",
    "prefix_count = [0] * (len(nums) + 1)\n",
    "prefix_count[0] = 1\n",
    "s = 0\n",
    "ans = 0\n",
    "\n",
    "for num in nums:\n",
    "    s += num\n",
    "    if s >= k:\n",
    "        print(prefix_count[s - k])\n",
    "        ans += prefix_count[s - k]\n",
    "    prefix_count[s] += 1\n",
    "\n",
    "ans"
   ]
  },
  {
   "cell_type": "code",
   "execution_count": 161,
   "metadata": {},
   "outputs": [
    {
     "data": {
      "text/plain": [
       "[4, 3, 4, 0, 0, 0, 0, 0, 0, 0, 0]"
      ]
     },
     "execution_count": 161,
     "metadata": {},
     "output_type": "execute_result"
    }
   ],
   "source": [
    "prefix_count"
   ]
  },
  {
   "cell_type": "code",
   "execution_count": null,
   "metadata": {},
   "outputs": [],
   "source": []
  }
 ],
 "metadata": {
  "kernelspec": {
   "display_name": "py311",
   "language": "python",
   "name": "python3"
  },
  "language_info": {
   "codemirror_mode": {
    "name": "ipython",
    "version": 3
   },
   "file_extension": ".py",
   "mimetype": "text/x-python",
   "name": "python",
   "nbconvert_exporter": "python",
   "pygments_lexer": "ipython3",
   "version": "3.11.6"
  }
 },
 "nbformat": 4,
 "nbformat_minor": 2
}
