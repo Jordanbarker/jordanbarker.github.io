{
 "cells": [
  {
   "cell_type": "markdown",
   "metadata": {},
   "source": [
    "# Steps to Assess Statistical Significance:\n",
    "1. Formulate Hypotheses:\n",
    "    - Null Hypothesis (H0): there is no effect, and any observed results are due to random chance.\n",
    "    - Alternative Hypothesis (H1 or Ha): there is a real effect or difference.\n",
    "\n",
    "2. Choose a Significance Level (α): The probability of rejecting the null hypothesis when it is true (Type I error). Commonly 0.05.\n",
    "\n",
    "3. Select an Appropriate Statistical Test: Common tests include t-tests, chi-square tests, ANOVA, and regression analysis.\n",
    "\n",
    "4. Calculate the Test Statistic and P-value\n",
    "\n",
    "5. Report Results and Consider Practical Significance"
   ]
  },
  {
   "cell_type": "markdown",
   "metadata": {},
   "source": [
    "# Common Statstical Tests\n",
    "### 1. T-tests\n",
    "**Purpose** : Compare the means of two groups. <br>\n",
    "**Assumptions**: Normal distribution of data, equal variances between groups, and independence of observations.<br>\n",
    "**Types**: <br>\n",
    "    - Independent (Two-sample) T-test: Compares the means of two independent groups (e.g., comparing the heights of men and women). <br>\n",
    "    - Paired (Dependent) T-test: Compares the means of two related groups (e.g., comparing the weights of individuals before and after a diet).\n",
    "\n",
    "### 2. ANOVA (Analysis of Variance):\n",
    "**Purpose**: Compare the means of two or more groups.<br>\n",
    "**Assumptions**: Assumes normal distribution of data, homogeneity of variances, and independence of observations.<br>\n",
    "**Types**:<br>\n",
    "    - One-way ANOVA: Compares the means of multiple groups based on one factor (e.g., comparing the test scores of students from different schools).<br>\n",
    "    - Two-way ANOVA: Compares the means of groups based on two factors (e.g., comparing the test scores of students from different schools and different grades). <br>\n",
    "**Note**: Analysis on a one way ANOVA with two independent samples is a T-test.\n",
    "\n",
    "### 3. Chi-square Tests:\n",
    "**Purpose**: Test the relationship between categorical variables. <br>\n",
    "**Assumptions**: Assumes a sufficient sample size (expected frequencies in each cell should be at least 5) and independence of observations. <br>\n",
    "**Types**: <br>\n",
    "    - Test of Independence: Assesses whether there is an association between two categorical variables (e.g., gender and voting preference). <br>\n",
    "    - Goodness-of-Fit Test: Tests whether the distribution of a single categorical variable matches an expected distribution (e.g., testing if a die is fair).\n",
    "\n",
    "### 4. Regression Analysis:\n",
    "**Purpose**: Model the relationship between a dependent variable and one or more independent variables.<br>\n",
    "**Assumptions**: Assumes linearity (linear relationship between dependent and independent variables), independence of errors, homoscedasticity (constant variance of errors), and normality of errors for linear regression. <br>\n",
    "**Types**:<br>\n",
    "    - Simple Linear Regression: Models the relationship between a dependent variable and a single independent variable (e.g., predicting sales based on advertising budget).<br>\n",
    "    - Multiple Linear Regression: Models the relationship between a dependent variable and multiple independent variables (e.g., predicting house prices based on size, location, and number of rooms).<br>\n",
    "    - Logistic Regression: Used for binary classification problems (e.g., predicting whether a customer will buy a product or not).<br>"
   ]
  },
  {
   "cell_type": "markdown",
   "metadata": {},
   "source": [
    "# Examples"
   ]
  },
  {
   "cell_type": "code",
   "execution_count": 2,
   "metadata": {},
   "outputs": [],
   "source": [
    "import numpy as np\n",
    "import pandas as pd\n",
    "import matplotlib.pyplot as plt\n",
    "import scipy.stats as stats\n",
    "rng = np.random.default_rng()"
   ]
  },
  {
   "cell_type": "markdown",
   "metadata": {},
   "source": [
    "## T-Tests\n",
    "### Independent (Two-sample):\n",
    "**Groups**: Compares the means of two independent groups. Subjects in one group have no connection to the subjects in the other group.<br>\n",
    "**Examples**: Comparing the heights of men and women, or test scores of students from two different schools"
   ]
  },
  {
   "cell_type": "code",
   "execution_count": 3,
   "metadata": {},
   "outputs": [
    {
     "name": "stdout",
     "output_type": "stream",
     "text": [
      "Alpha = 0.05 ______________________________________________________\n",
      "Sample Size: 10      Reject: 951, Accepted: 49\n",
      "Sample Size: 100     Reject: 939, Accepted: 61\n",
      "Sample Size: 1000    Reject: 942, Accepted: 58\n",
      "Sample Size: 10000   Reject: 949, Accepted: 51\n",
      "\n",
      "Alpha = 0.1 ______________________________________________________\n",
      "Sample Size: 10      Reject: 889, Accepted: 111\n",
      "Sample Size: 100     Reject: 899, Accepted: 101\n",
      "Sample Size: 1000    Reject: 910, Accepted: 90\n",
      "Sample Size: 10000   Reject: 899, Accepted: 101\n"
     ]
    }
   ],
   "source": [
    "def reject_or_accept(A, B, alpha=0.05, type='independent'):\n",
    "    if type == 'independent':\n",
    "        t_stat, p_value = stats.ttest_ind(A, B) # Group 1 vs Group 2\n",
    "    elif type == 'paired':\n",
    "        t_stat, p_value = stats.ttest_rel(A, B) # Before and After\n",
    "    else:\n",
    "        ValueError('Test type should be either independent or paired.')\n",
    "    return True if p_value < alpha else False\n",
    "\n",
    "def simulate_t_tests(alpha=0.05, type='independent'):\n",
    "    results = {\n",
    "        10: [], \n",
    "        100: [],\n",
    "        1000: [],\n",
    "        10000: []\n",
    "    }\n",
    "    for i, sample_size in enumerate(results.keys()):\n",
    "        for _ in range(1000):\n",
    "            A = rng.standard_normal(sample_size)\n",
    "            B = rng.standard_normal(sample_size)\n",
    "            results[sample_size].append(reject_or_accept(A, B, alpha, type='independent'))\n",
    "        _, counts = np.unique(np.array(results[sample_size]), return_counts=True)\n",
    "        print(f\"Sample Size: {sample_size} {(len(results)-i)*' '} Reject: {counts[0]}, Accepted: {counts[1]}\")\n",
    "\n",
    "print(\"Alpha = 0.05 ______________________________________________________\")\n",
    "simulate_t_tests(alpha=0.05, type='independent')\n",
    "print(\"\\nAlpha = 0.1 ______________________________________________________\")\n",
    "simulate_t_tests(alpha=0.1, type='independent')"
   ]
  },
  {
   "cell_type": "markdown",
   "metadata": {},
   "source": [
    "### Paired (Dependent):\n",
    "**Groups**: Compares the means of two related groups. Subjects in these groups are connected. Typically through repeated measurements on the same subjects. <br>\n",
    "**Examples**: Comparing the weights of individuals before and after a diet, or the test scores of students before and after a specific training program"
   ]
  },
  {
   "cell_type": "code",
   "execution_count": 4,
   "metadata": {},
   "outputs": [
    {
     "name": "stdout",
     "output_type": "stream",
     "text": [
      "Alpha = 0.05 ______________________________________________________\n",
      "Sample Size: 10      Reject: 953, Accepted: 47\n",
      "Sample Size: 100     Reject: 949, Accepted: 51\n",
      "Sample Size: 1000    Reject: 953, Accepted: 47\n",
      "Sample Size: 10000   Reject: 951, Accepted: 49\n",
      "\n",
      "Alpha = 0.1 ______________________________________________________\n",
      "Sample Size: 10      Reject: 913, Accepted: 87\n",
      "Sample Size: 100     Reject: 903, Accepted: 97\n",
      "Sample Size: 1000    Reject: 894, Accepted: 106\n",
      "Sample Size: 10000   Reject: 902, Accepted: 98\n"
     ]
    }
   ],
   "source": [
    "print(\"Alpha = 0.05 ______________________________________________________\")\n",
    "simulate_t_tests(alpha=0.05, type='paired')\n",
    "print(\"\\nAlpha = 0.1 ______________________________________________________\")\n",
    "simulate_t_tests(alpha=0.1, type='paired')"
   ]
  },
  {
   "cell_type": "markdown",
   "metadata": {},
   "source": [
    "### Bonferroni correction\n",
    "When multiple hypothesis tests are conducted, the Bonferroni correction can help to maintain the overall type I error rate at a desired level."
   ]
  },
  {
   "cell_type": "code",
   "execution_count": 6,
   "metadata": {},
   "outputs": [
    {
     "name": "stdout",
     "output_type": "stream",
     "text": [
      "Original p-values: 0.3707, 0.3088, 0.0686\n",
      "Bonferroni corrected alpha: 0.0167\n",
      "Adjusted p-values: 1.0000, 0.9263, 0.2059\n"
     ]
    }
   ],
   "source": [
    "sample_size = 100\n",
    "n_tests = 3\n",
    "data1 = rng.standard_normal(sample_size)\n",
    "data2 = rng.standard_normal(sample_size)\n",
    "data3 = rng.standard_normal(sample_size)\n",
    "t_stat1, p_val1 = stats.ttest_ind(data1, data2)\n",
    "t_stat2, p_val2 = stats.ttest_ind(data1, data3)\n",
    "t_stat3, p_val3 = stats.ttest_ind(data2, data3)\n",
    "print(f\"Original p-values: {p_val1:.4f}, {p_val2:.4f}, {p_val3:.4f}\")\n",
    "\n",
    "# Bonferroni correction\n",
    "alpha = 0.05\n",
    "bonferroni_alpha = alpha / n_tests\n",
    "print(f\"Bonferroni corrected alpha: {bonferroni_alpha:.4f}\")\n",
    "\n",
    "adjusted_p_val1 = min(p_val1 * n_tests, 1)\n",
    "adjusted_p_val2 = min(p_val2 * n_tests, 1)\n",
    "adjusted_p_val3 = min(p_val3 * n_tests, 1)\n",
    "print(f\"Adjusted p-values: {adjusted_p_val1:.4f}, {adjusted_p_val2:.4f}, {adjusted_p_val3:.4f}\")"
   ]
  },
  {
   "cell_type": "markdown",
   "metadata": {},
   "source": [
    "## Chi-square \n",
    "### Test of Independence:"
   ]
  },
  {
   "cell_type": "code",
   "execution_count": 101,
   "metadata": {},
   "outputs": [
    {
     "data": {
      "text/plain": [
       "False"
      ]
     },
     "execution_count": 101,
     "metadata": {},
     "output_type": "execute_result"
    }
   ],
   "source": [
    "# Rows represent categories of variable 1 (e.g., Gender: Male, Female)\n",
    "# Columns represent categories of variable 2 (e.g., Preference: Yes, No)\n",
    "data = np.array([[30, 20],   #   Male: 30 Yes, 20 No\n",
    "                 [35, 15]])  # Female: 35 Yes, 15 No\n",
    "\n",
    "chi2_stat, p_value, dof, expected = stats.chi2_contingency(data)\n",
    "True if p_value < 0.05 else False"
   ]
  },
  {
   "cell_type": "markdown",
   "metadata": {},
   "source": [
    "[Khan Academy: Contingency table chi-square test](https://www.youtube.com/watch?v=hpWdDmgsIRE)\n",
    "\n",
    "Null Hypothesis: Herbs do nothing <br>\n",
    "Alternative Hypothesis: Herbs do something"
   ]
  },
  {
   "cell_type": "code",
   "execution_count": 122,
   "metadata": {},
   "outputs": [
    {
     "name": "stdout",
     "output_type": "stream",
     "text": [
      "Chi-squared Statistic: 2.5258\n",
      "P-value: 0.2828\n",
      "Fail to reject the null hypothesis - the observed frequencies match the expected distribution.\n"
     ]
    }
   ],
   "source": [
    "#                 Herb 1      Herb 2   Placebo\n",
    "data = np.array([[20,         30,      30],        # Sick \n",
    "                 [100,        110,     90]])       # Not Sick\n",
    "\n",
    "chi2_stat, p_value, dof, expected = stats.chi2_contingency(data)\n",
    "print(f\"Chi-squared Statistic: {chi2_stat:.04f}\")\n",
    "print(f\"P-value: {p_value:.04f}\")\n",
    "\n",
    "alpha = 0.05\n",
    "if p_value < alpha:\n",
    "    print(\"Reject the null hypothesis - the herbs offer patient benefit.\")\n",
    "else:\n",
    "    print(\"Fail to reject the null hypothesis - we are not confident that the herbs improved patient outcomes.\")"
   ]
  },
  {
   "cell_type": "markdown",
   "metadata": {},
   "source": [
    "## Chi-square Goodness-of-Fit Test:\n",
    "[Khan Academy Example](https://www.youtube.com/watch?v=2QeDRsxSF9M)"
   ]
  },
  {
   "cell_type": "code",
   "execution_count": 118,
   "metadata": {},
   "outputs": [
    {
     "name": "stdout",
     "output_type": "stream",
     "text": [
      "Chi-squared Statistic: 11.4417\n",
      "P-value: 0.0433\n",
      "Reject the null hypothesis - the observed frequencies do not match the expected distribution.\n"
     ]
    }
   ],
   "source": [
    "#          Day:     M   T   W   T   F   S\n",
    "expected_freq =   [.1, .1, .15, .2, .3, .15]  # Expected frequencies in each category. By default the categories are assumed to be equally likely.\n",
    "observed_counts = [30, 14, 34, 45, 57, 20]  # Observed values in each category.\n",
    "observed_freq = [i/sum(observed_counts) for i in observed_counts] # Normalize observed values to frequencies.\n",
    "expected_counts = [int(i*sum(observed_counts)) for i in expected_freq]\n",
    "\n",
    "chi2_stat, p_value = stats.chisquare(f_obs=observed_counts, f_exp=expected_counts)\n",
    "\n",
    "print(f\"Chi-squared Statistic: {chi2_stat:.04f}\")\n",
    "print(f\"P-value: {p_value:.04f}\")\n",
    "\n",
    "alpha = 0.05\n",
    "if p_value < alpha:\n",
    "    print(\"Reject the null hypothesis - the observed frequencies do not match the expected distribution.\")\n",
    "else:\n",
    "    print(\"Fail to reject the null hypothesis - the observed frequencies match the expected distribution.\")\n"
   ]
  },
  {
   "cell_type": "markdown",
   "metadata": {},
   "source": [
    "# One-way ANOVA\n",
    "Tests whether two or more groups have the same population mean. \n",
    "\n",
    "[Zedstatstics Example](https://www.youtube.com/watch?v=9cnSWads6oo)"
   ]
  },
  {
   "cell_type": "markdown",
   "metadata": {},
   "source": [
    "$\n",
    "\\text{Sum of Squares = SST} = \\sum ({X - \\overline{X}})^2\n",
    "$\n",
    "\n",
    "$\n",
    "\\text{Sum of Squares Within Groups = SSW} = \\sum ({\\overline{X} - \\overline{\\overline{X}_i}})^2\n",
    "$\n",
    "\n",
    "$\n",
    "\\text{Sum of Squares Between Groups = SSB} = \\sum ({X_i - \\overline{X}})^2\n",
    "$\n",
    "\n",
    "\n",
    "$\n",
    "\\text{F} = \\frac{\\frac{\\text{SSB}}{c - 1}} {\\frac{\\text{SSW}}{n - c}}\n",
    "\\\\ \\text{Where:}\n",
    "\\\\ \\quad \\text{c = number of categories}\n",
    "\\\\ \\quad \\text{n = number of observations}\n",
    "$\n"
   ]
  },
  {
   "cell_type": "code",
   "execution_count": 149,
   "metadata": {},
   "outputs": [
    {
     "name": "stdout",
     "output_type": "stream",
     "text": [
      "[1, 5, 9]      F-Statstic: 0.0    SSW: 32.0    SSB: 0.0\n",
      "[3, 5, 7]      F-Statstic: 0.0    SSW: 8.0    SSB: 0.0\n",
      "[4, 5, 6]      F-Statstic: 0.0    SSW: 2.0    SSB: 0.0\n"
     ]
    }
   ],
   "source": [
    "def SSW(group):\n",
    "    X_bar = sum(group) / len(group)\n",
    "    return sum([(num-X_bar)**2 for num in group])\n",
    "\n",
    "def SSB(group, global_mean):\n",
    "    X_bar = sum(group) / len(group)\n",
    "    return len(group) * (X_bar - global_mean)**2\n",
    "\n",
    "def f_stat(SSB, SSW, n, c):\n",
    "    return (SSB / (c-1)) / ((SSW)/(n-c))\n",
    "\n",
    "group1 = [1, 5, 9]\n",
    "group2 = [3, 5, 7]\n",
    "group3 = [4, 5, 6]\n",
    "groups = [group1, group2, group3]\n",
    "\n",
    "n = sum([len(group) for group in groups])\n",
    "c = len(groups)\n",
    "group_means = [sum(group)/len(group) for group in groups]\n",
    "global_mean = sum(group_means) / len(group_means)\n",
    "\n",
    "for group in groups:\n",
    "    print(group, \"     F-Statstic:\", f_stat(SSB(group, global_mean), SSW(group), n, c), \"   SSW:\", SSW(group), \"   SSB:\", SSB(group, global_mean))"
   ]
  },
  {
   "cell_type": "code",
   "execution_count": 150,
   "metadata": {},
   "outputs": [
    {
     "name": "stdout",
     "output_type": "stream",
     "text": [
      "[1, 3, 5]      F-Statstic: 4.5    SSW: 8.0    SSB: 12.0\n",
      "[5, 7, 9]      F-Statstic: 4.5    SSW: 8.0    SSB: 12.0\n",
      "[4, 5, 6]      F-Statstic: 0.0    SSW: 2.0    SSB: 0.0\n"
     ]
    }
   ],
   "source": [
    "group1 = [1, 3, 5]\n",
    "group2 = [5, 7, 9]\n",
    "group3 = [4, 5, 6]\n",
    "groups = [group1, group2, group3]\n",
    "\n",
    "n = sum([len(group) for group in groups])\n",
    "c = len(groups)\n",
    "group_means = [sum(group)/len(group) for group in groups]\n",
    "global_mean = sum(group_means) / len(group_means)\n",
    "\n",
    "for group in groups:\n",
    "    print(group, \"     F-Statstic:\", f_stat(SSB(group, global_mean), SSW(group), n, c), \"   SSW:\", SSW(group), \"   SSB:\", SSB(group, global_mean))"
   ]
  },
  {
   "cell_type": "code",
   "execution_count": 126,
   "metadata": {},
   "outputs": [
    {
     "name": "stdout",
     "output_type": "stream",
     "text": [
      "F-statistic: 25.8788\n",
      "P-value: 0.0000\n",
      "Reject null hypothesis - significant differences exist between the groups.\n"
     ]
    }
   ],
   "source": [
    "# Sample data\n",
    "group1 = [20, 21, 19, 22, 24]\n",
    "group2 = [28, 32, 30, 29, 27]\n",
    "group3 = [25, 29, 27, 26, 28]\n",
    "\n",
    "# Perform one-way ANOVA\n",
    "f_statistic, p_value = stats.f_oneway(group1, group2, group3)\n",
    "\n",
    "print(f\"F-statistic: {f_statistic:.04f}\")\n",
    "print(f\"P-value: {p_value:.04f}\")\n",
    "\n",
    "# Interpretation\n",
    "alpha = 0.05\n",
    "if p_value < alpha:\n",
    "    print(\"Reject null hypothesis - significant differences exist between the groups.\")\n",
    "else:\n",
    "    print(\"Fail to reject null hypothesis - no significant difference between the groups.\")"
   ]
  },
  {
   "cell_type": "markdown",
   "metadata": {},
   "source": []
  },
  {
   "cell_type": "code",
   "execution_count": null,
   "metadata": {},
   "outputs": [],
   "source": []
  }
 ],
 "metadata": {
  "kernelspec": {
   "display_name": "Python 3",
   "language": "python",
   "name": "python3"
  },
  "language_info": {
   "codemirror_mode": {
    "name": "ipython",
    "version": 3
   },
   "file_extension": ".py",
   "mimetype": "text/x-python",
   "name": "python",
   "nbconvert_exporter": "python",
   "pygments_lexer": "ipython3",
   "version": "3.11.5"
  }
 },
 "nbformat": 4,
 "nbformat_minor": 2
}
