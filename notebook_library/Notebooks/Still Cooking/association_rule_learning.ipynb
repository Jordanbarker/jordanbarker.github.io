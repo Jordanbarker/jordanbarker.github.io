{
 "cells": [
  {
   "cell_type": "markdown",
   "metadata": {},
   "source": [
    "# Association Rule Learning\n",
    "We can use ML to find relationships between variables in datasets. These techniques are commonly applied to data mining, market basket analysis, and recommendation systems."
   ]
  },
  {
   "cell_type": "code",
   "execution_count": null,
   "metadata": {},
   "outputs": [],
   "source": [
    "from bs4 import BeautifulSoup\n",
    "import pandas as pd\n",
    "import requests\n",
    "\n",
    "url = \"https://victoryroad.pro/2024-naic/\"\n",
    "response = requests.get(url, headers={\"User-Agent\": \"Mozilla/5.0\"}, verify=False)\n",
    "\n",
    "# Check if the request was successful\n",
    "if response.status_code == 200:\n",
    "    html_content = response.text  # Get the HTML content\n",
    "    soup = BeautifulSoup(html_content, \"html.parser\")  # Parse the HTML\n",
    "    print(\"Successfully fetched the HTML content!\")\n",
    "else:\n",
    "    print(f\"Failed to retrieve the page. Status code: {response.status_code}\")"
   ]
  },
  {
   "cell_type": "code",
   "execution_count": null,
   "metadata": {},
   "outputs": [],
   "source": [
    "soup = BeautifulSoup(html_content, \"html.parser\")\n",
    "\n",
    "teams = []\n",
    "team_columns = [\"p0\", \"p1\", \"p2\", \"p3\", \"p4\", \"p5\"]\n",
    "for row in soup.find_all(\"tr\")[1:]:  # Skip the header row\n",
    "    team_div = row.find(\"div\", class_=\"table-team-wrapper\")\n",
    "    if team_div:\n",
    "        # Extract all Pokémon names from the `title` attribute in <img> tags\n",
    "        pokemon = [img[\"title\"] for img in team_div.find_all(\"img\")]\n",
    "        if len(pokemon) == 6:  # Ensure each row has exactly 6 Pokémon\n",
    "            teams.append(pokemon)\n",
    "\n",
    "df = pd.DataFrame(teams, columns=team_columns)"
   ]
  },
  {
   "cell_type": "code",
   "execution_count": null,
   "metadata": {},
   "outputs": [],
   "source": [
    "# teams = []\n",
    "# team_columns = [\"Player\", \"p0\", \"p1\", \"p2\", \"p3\", \"p4\", \"p5\"]\n",
    "\n",
    "# for row in soup.find_all(\"tr\")[1:]:  # Skip the header row\n",
    "#     # Extract Player Name\n",
    "#     if len(row.find_all(\"td\")) > 3:\n",
    "#         player_td = row.find_all(\"td\")[3]  # 4th column (index 3) is the Player column\n",
    "#         player_name = player_td.find(\"b\").text.strip() if player_td.find(\"b\") else player_td.text.strip()\n",
    "\n",
    "#     # Extract Pokémon Team\n",
    "#     team_div = row.find(\"div\", class_=\"table-team-wrapper\")\n",
    "#     if team_div:\n",
    "#         pokemon = [img[\"title\"] for img in team_div.find_all(\"img\")]\n",
    "#         if len(pokemon) == 6:  # Ensure each row has exactly 6 Pokémon\n",
    "#             teams.append([player_name] + pokemon)  # Add player name as the first column\n",
    "\n",
    "# df = pd.DataFrame(teams, columns=team_columns)\n",
    "# df"
   ]
  },
  {
   "cell_type": "code",
   "execution_count": 27,
   "metadata": {},
   "outputs": [
    {
     "data": {
      "text/html": [
       "<div>\n",
       "<style scoped>\n",
       "    .dataframe tbody tr th:only-of-type {\n",
       "        vertical-align: middle;\n",
       "    }\n",
       "\n",
       "    .dataframe tbody tr th {\n",
       "        vertical-align: top;\n",
       "    }\n",
       "\n",
       "    .dataframe thead th {\n",
       "        text-align: right;\n",
       "    }\n",
       "</style>\n",
       "<table border=\"1\" class=\"dataframe\">\n",
       "  <thead>\n",
       "    <tr style=\"text-align: right;\">\n",
       "      <th></th>\n",
       "      <th>p0</th>\n",
       "      <th>p1</th>\n",
       "      <th>p2</th>\n",
       "      <th>p3</th>\n",
       "      <th>p4</th>\n",
       "      <th>p5</th>\n",
       "    </tr>\n",
       "  </thead>\n",
       "  <tbody>\n",
       "    <tr>\n",
       "      <th>0</th>\n",
       "      <td>Calyrex Ice</td>\n",
       "      <td>Rillaboom</td>\n",
       "      <td>Incineroar</td>\n",
       "      <td>Urshifu Rapid</td>\n",
       "      <td>Pelipper</td>\n",
       "      <td>Raging Bolt</td>\n",
       "    </tr>\n",
       "    <tr>\n",
       "      <th>1</th>\n",
       "      <td>Terapagos Terastal</td>\n",
       "      <td>Flutter Mane</td>\n",
       "      <td>Chi Yu</td>\n",
       "      <td>Urshifu Rapid</td>\n",
       "      <td>Grimmsnarl</td>\n",
       "      <td>Iron Hands</td>\n",
       "    </tr>\n",
       "    <tr>\n",
       "      <th>2</th>\n",
       "      <td>Calyrex Shadow</td>\n",
       "      <td>Rillaboom</td>\n",
       "      <td>Incineroar</td>\n",
       "      <td>Urshifu Rapid</td>\n",
       "      <td>Smeargle</td>\n",
       "      <td>Raging Bolt</td>\n",
       "    </tr>\n",
       "  </tbody>\n",
       "</table>\n",
       "</div>"
      ],
      "text/plain": [
       "                   p0            p1          p2             p3          p4  \\\n",
       "0         Calyrex Ice     Rillaboom  Incineroar  Urshifu Rapid    Pelipper   \n",
       "1  Terapagos Terastal  Flutter Mane      Chi Yu  Urshifu Rapid  Grimmsnarl   \n",
       "2      Calyrex Shadow     Rillaboom  Incineroar  Urshifu Rapid    Smeargle   \n",
       "\n",
       "            p5  \n",
       "0  Raging Bolt  \n",
       "1   Iron Hands  \n",
       "2  Raging Bolt  "
      ]
     },
     "execution_count": 27,
     "metadata": {},
     "output_type": "execute_result"
    }
   ],
   "source": [
    "df"
   ]
  },
  {
   "cell_type": "markdown",
   "metadata": {},
   "source": [
    "Support: Measures how frequently the itemset appears in the dataset.\n",
    "\n",
    "$$ \\text{Support(A)} = \\frac{\\text{Number of sets containing A}}{\\text{Number of sets}}  $$\n",
    "\n",
    "<br>\n",
    "Confidence: Measures how often we expect to see items together.\n",
    "\n",
    "\n",
    "$$ \\text{Confidence(A, B)} = P(B|A) = \\frac{\\text{Number of sets containing A and B}}{\\text{Number of sets containing A}}  $$\n",
    "\n",
    "<br>\n",
    "Lift: Measures the strength of an association rule relative to the independent occurances.\n",
    "\n",
    "$$ \\text{Lift(A, B)} = \\frac{\\text{Confidence(A, B)}}{\\text{Support(A)}}  $$\n"
   ]
  },
  {
   "cell_type": "code",
   "execution_count": 38,
   "metadata": {},
   "outputs": [
    {
     "name": "stdout",
     "output_type": "stream",
     "text": [
      "Count of Incineroar in teams: 129\n",
      "Total count of teams: 296\n",
      "Support for Incineroar: 0.436\n"
     ]
    }
   ],
   "source": [
    "# Support for Incineroar\n",
    "incineroar_count = df[team_columns].apply(lambda row: \"Incineroar\" in row.values, axis=1).sum()\n",
    "team_count = len(df)\n",
    "support_incineroar = incineroar_count / team_count\n",
    "print(f\"Count of Incineroar in teams: {incineroar_count}\")\n",
    "print(f\"Total count of teams: {team_count}\")\n",
    "print(f\"Support for Incineroar: {support_incineroar:.3f}\")"
   ]
  },
  {
   "cell_type": "code",
   "execution_count": 39,
   "metadata": {},
   "outputs": [
    {
     "name": "stdout",
     "output_type": "stream",
     "text": [
      "Count of Incineroar and Rillaboom in teams: 59\n",
      "Count of Incineroar in teams: 129\n",
      "Confidence for Incineroar and Rillaboom: 0.457\n"
     ]
    }
   ],
   "source": [
    "# Confidence for Incineroar and Rillaboom together\n",
    "both_count = df[team_columns].apply(lambda row: (\"Incineroar\" in row.values) and (\"Rillaboom\" in row.values), axis=1).sum()\n",
    "confidence_incineroar_rillaboom = both_count / incineroar_count if incineroar_count > 0 else 0\n",
    "print(f\"Count of Incineroar and Rillaboom in teams: {both_count}\")\n",
    "print(f\"Count of Incineroar in teams: {incineroar_count}\")\n",
    "print(f\"Confidence for Incineroar and Rillaboom: {confidence_incineroar_rillaboom:.3f}\")"
   ]
  },
  {
   "cell_type": "code",
   "execution_count": 35,
   "metadata": {},
   "outputs": [
    {
     "name": "stdout",
     "output_type": "stream",
     "text": [
      "Lift for Incineroar and Rillaboom: 1.05\n"
     ]
    }
   ],
   "source": [
    "# Lift \n",
    "print(f\"Lift for Incineroar and Rillaboom: {confidence_incineroar_rillaboom / support_incineroar:.2f}\")"
   ]
  },
  {
   "cell_type": "markdown",
   "metadata": {},
   "source": [
    "The lift indicates that the likelihood of Incineroar and Rillaboom being together is 1.05 times higher than that of Incineroar being used alone."
   ]
  },
  {
   "cell_type": "markdown",
   "metadata": {},
   "source": [
    "## Algorithms \n",
    "- Apriori is the classical approach. It's useful for small datasets or when interpretability is crucial.\n",
    "- FP-Growth is generally better than Apriori in terms of efficiency and scalability."
   ]
  },
  {
   "cell_type": "code",
   "execution_count": 45,
   "metadata": {},
   "outputs": [],
   "source": [
    "from mlxtend.frequent_patterns import apriori, fpgrowth, fpmax, association_rules\n",
    "from mlxtend.preprocessing import TransactionEncoder\n",
    "\n",
    "# Convert the DataFrame into a list of lists format\n",
    "transactions = df.values.tolist()\n",
    "\n",
    "# Convert transactions into one-hot encoded format\n",
    "te = TransactionEncoder()\n",
    "te_ary = te.fit(transactions).transform(transactions)\n",
    "df_encoded = pd.DataFrame(te_ary, columns=te.columns_)\n",
    "\n",
    "min_support = 0.2\n",
    "frequent_itemsets_apriori = apriori(df_encoded, min_support=min_support, use_colnames=True)\n",
    "frequent_itemsets_fpgrowth = fpgrowth(df_encoded, min_support=min_support, use_colnames=True)"
   ]
  },
  {
   "cell_type": "code",
   "execution_count": 50,
   "metadata": {},
   "outputs": [
    {
     "data": {
      "text/html": [
       "<div>\n",
       "<style scoped>\n",
       "    .dataframe tbody tr th:only-of-type {\n",
       "        vertical-align: middle;\n",
       "    }\n",
       "\n",
       "    .dataframe tbody tr th {\n",
       "        vertical-align: top;\n",
       "    }\n",
       "\n",
       "    .dataframe thead th {\n",
       "        text-align: right;\n",
       "    }\n",
       "</style>\n",
       "<table border=\"1\" class=\"dataframe\">\n",
       "  <thead>\n",
       "    <tr style=\"text-align: right;\">\n",
       "      <th></th>\n",
       "      <th>support</th>\n",
       "      <th>itemsets</th>\n",
       "    </tr>\n",
       "  </thead>\n",
       "  <tbody>\n",
       "    <tr>\n",
       "      <th>0</th>\n",
       "      <td>0.435811</td>\n",
       "      <td>(Incineroar)</td>\n",
       "    </tr>\n",
       "    <tr>\n",
       "      <th>1</th>\n",
       "      <td>0.385135</td>\n",
       "      <td>(Urshifu Rapid)</td>\n",
       "    </tr>\n",
       "    <tr>\n",
       "      <th>2</th>\n",
       "      <td>0.341216</td>\n",
       "      <td>(Rillaboom)</td>\n",
       "    </tr>\n",
       "    <tr>\n",
       "      <th>3</th>\n",
       "      <td>0.307432</td>\n",
       "      <td>(Raging Bolt)</td>\n",
       "    </tr>\n",
       "    <tr>\n",
       "      <th>4</th>\n",
       "      <td>0.236486</td>\n",
       "      <td>(Iron Hands)</td>\n",
       "    </tr>\n",
       "    <tr>\n",
       "      <th>5</th>\n",
       "      <td>0.216216</td>\n",
       "      <td>(Flutter Mane)</td>\n",
       "    </tr>\n",
       "    <tr>\n",
       "      <th>6</th>\n",
       "      <td>0.202703</td>\n",
       "      <td>(Chi Yu)</td>\n",
       "    </tr>\n",
       "    <tr>\n",
       "      <th>7</th>\n",
       "      <td>0.246622</td>\n",
       "      <td>(Amoonguss)</td>\n",
       "    </tr>\n",
       "    <tr>\n",
       "      <th>8</th>\n",
       "      <td>0.222973</td>\n",
       "      <td>(Tornadus Incarnate)</td>\n",
       "    </tr>\n",
       "    <tr>\n",
       "      <th>9</th>\n",
       "      <td>0.229730</td>\n",
       "      <td>(Urshifu Rapid, Incineroar)</td>\n",
       "    </tr>\n",
       "  </tbody>\n",
       "</table>\n",
       "</div>"
      ],
      "text/plain": [
       "    support                     itemsets\n",
       "0  0.435811                 (Incineroar)\n",
       "1  0.385135              (Urshifu Rapid)\n",
       "2  0.341216                  (Rillaboom)\n",
       "3  0.307432                (Raging Bolt)\n",
       "4  0.236486                 (Iron Hands)\n",
       "5  0.216216               (Flutter Mane)\n",
       "6  0.202703                     (Chi Yu)\n",
       "7  0.246622                  (Amoonguss)\n",
       "8  0.222973         (Tornadus Incarnate)\n",
       "9  0.229730  (Urshifu Rapid, Incineroar)"
      ]
     },
     "execution_count": 50,
     "metadata": {},
     "output_type": "execute_result"
    }
   ],
   "source": [
    "# frequent_itemsets_apriori\n",
    "frequent_itemsets_fpgrowth"
   ]
  },
  {
   "cell_type": "code",
   "execution_count": 51,
   "metadata": {},
   "outputs": [
    {
     "data": {
      "text/html": [
       "<div>\n",
       "<style scoped>\n",
       "    .dataframe tbody tr th:only-of-type {\n",
       "        vertical-align: middle;\n",
       "    }\n",
       "\n",
       "    .dataframe tbody tr th {\n",
       "        vertical-align: top;\n",
       "    }\n",
       "\n",
       "    .dataframe thead th {\n",
       "        text-align: right;\n",
       "    }\n",
       "</style>\n",
       "<table border=\"1\" class=\"dataframe\">\n",
       "  <thead>\n",
       "    <tr style=\"text-align: right;\">\n",
       "      <th></th>\n",
       "      <th>antecedents</th>\n",
       "      <th>consequents</th>\n",
       "      <th>antecedent support</th>\n",
       "      <th>consequent support</th>\n",
       "      <th>support</th>\n",
       "      <th>confidence</th>\n",
       "      <th>lift</th>\n",
       "      <th>representativity</th>\n",
       "      <th>leverage</th>\n",
       "      <th>conviction</th>\n",
       "      <th>zhangs_metric</th>\n",
       "      <th>jaccard</th>\n",
       "      <th>certainty</th>\n",
       "      <th>kulczynski</th>\n",
       "    </tr>\n",
       "  </thead>\n",
       "  <tbody>\n",
       "    <tr>\n",
       "      <th>0</th>\n",
       "      <td>(Urshifu Rapid)</td>\n",
       "      <td>(Incineroar)</td>\n",
       "      <td>0.385135</td>\n",
       "      <td>0.435811</td>\n",
       "      <td>0.22973</td>\n",
       "      <td>0.596491</td>\n",
       "      <td>1.368693</td>\n",
       "      <td>1.0</td>\n",
       "      <td>0.061884</td>\n",
       "      <td>1.398208</td>\n",
       "      <td>0.438106</td>\n",
       "      <td>0.388571</td>\n",
       "      <td>0.284799</td>\n",
       "      <td>0.561812</td>\n",
       "    </tr>\n",
       "    <tr>\n",
       "      <th>1</th>\n",
       "      <td>(Incineroar)</td>\n",
       "      <td>(Urshifu Rapid)</td>\n",
       "      <td>0.435811</td>\n",
       "      <td>0.385135</td>\n",
       "      <td>0.22973</td>\n",
       "      <td>0.527132</td>\n",
       "      <td>1.368693</td>\n",
       "      <td>1.0</td>\n",
       "      <td>0.061884</td>\n",
       "      <td>1.300288</td>\n",
       "      <td>0.477457</td>\n",
       "      <td>0.388571</td>\n",
       "      <td>0.230940</td>\n",
       "      <td>0.561812</td>\n",
       "    </tr>\n",
       "  </tbody>\n",
       "</table>\n",
       "</div>"
      ],
      "text/plain": [
       "       antecedents      consequents  antecedent support  consequent support  \\\n",
       "0  (Urshifu Rapid)     (Incineroar)            0.385135            0.435811   \n",
       "1     (Incineroar)  (Urshifu Rapid)            0.435811            0.385135   \n",
       "\n",
       "   support  confidence      lift  representativity  leverage  conviction  \\\n",
       "0  0.22973    0.596491  1.368693               1.0  0.061884    1.398208   \n",
       "1  0.22973    0.527132  1.368693               1.0  0.061884    1.300288   \n",
       "\n",
       "   zhangs_metric   jaccard  certainty  kulczynski  \n",
       "0       0.438106  0.388571   0.284799    0.561812  \n",
       "1       0.477457  0.388571   0.230940    0.561812  "
      ]
     },
     "execution_count": 51,
     "metadata": {},
     "output_type": "execute_result"
    }
   ],
   "source": [
    "# Generate Association Rules for Apriori\n",
    "association_rules_apriori = association_rules(frequent_itemsets_apriori, \n",
    "                                              num_itemsets=team_count, \n",
    "                                              metric=\"confidence\", \n",
    "                                              min_threshold=0.2)\n",
    "association_rules_apriori"
   ]
  },
  {
   "cell_type": "code",
   "execution_count": null,
   "metadata": {},
   "outputs": [],
   "source": [
    "association_rules_fpgrowth = association_rules(frequent_itemsets_fpgrowth, \n",
    "                                              num_itemsets=team_count, \n",
    "                                              metric=\"confidence\", \n",
    "                                              min_threshold=0.2)\n",
    "association_rules_fpgrowth"
   ]
  }
 ],
 "metadata": {
  "kernelspec": {
   "display_name": "py310",
   "language": "python",
   "name": "python3"
  },
  "language_info": {
   "codemirror_mode": {
    "name": "ipython",
    "version": 3
   },
   "file_extension": ".py",
   "mimetype": "text/x-python",
   "name": "python",
   "nbconvert_exporter": "python",
   "pygments_lexer": "ipython3",
   "version": "3.10.15"
  }
 },
 "nbformat": 4,
 "nbformat_minor": 2
}
