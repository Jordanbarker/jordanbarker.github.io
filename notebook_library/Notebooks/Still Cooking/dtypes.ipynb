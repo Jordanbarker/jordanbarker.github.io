{
 "cells": [
  {
   "cell_type": "markdown",
   "metadata": {},
   "source": [
    "## Integer Data Types\n",
    "\n",
    "| Data Type | Bit Size | Value Range |\n",
    "|-----------|---------|-------------|\n",
    "| int8      | 8-bit   | -128 to 127 |\n",
    "| int16     | 16-bit  | -32,768 to 32,767 |\n",
    "| int32     | 32-bit  | -2,147,483,648 to 2,147,483,647 |\n",
    "| int64     | 64-bit  | -9,223,372,036,854,775,808 to 9,223,372,036,854,775,807 |\n",
    "\n",
    "## Unsigned Integer Data Types (Only Positive Values)\n",
    "| Data Type | Bit Size | Value Range |\n",
    "|-----------|---------|-------------|\n",
    "| uint8     | 8-bit   | 0 to 255 |\n",
    "| uint16    | 16-bit  | 0 to 65,535 |\n",
    "| uint32    | 32-bit  | 0 to 4,294,967,295 |\n",
    "| uint64    | 64-bit  | 0 to 18,446,744,073,709,551,615 |\n",
    "\n",
    "## Floating-Point Data Types\n",
    "| Data Type | Bit Size | Value Range (Approximate) |\n",
    "|-----------|---------|--------------------------|\n",
    "| float16  | 16-bit  | ±6.1 × 10⁻⁵ to ±65,504 |\n",
    "| float32  | 32-bit  | ±1.2 × 10⁻³⁸ to ±3.4 × 10³⁸ |\n",
    "| float64  | 64-bit  | ±2.2 × 10⁻³⁰⁸ to ±1.8 × 10³⁰⁸ |"
   ]
  },
  {
   "cell_type": "markdown",
   "metadata": {},
   "source": [
    "These are approximate; some numbers might be represented more precisely, while others less so, depending on their exact binary representation.\n",
    "* float32 has about 7 decimal digits of precision.\n",
    "* float64 has about 15–17 decimal digits of precision. \n",
    "\n",
    "## Terms\n",
    "**Significand** is the part of a floating-point number that contains its significant digits.\n",
    "\n",
    "**Machine epsilon** is the smallest positive number that, when added to 1.0, results in a number distinguishable from 1.0:\n",
    "* float32 (single precision): The machine epsilon is approximately 1.1920929e-07.\n",
    "* float64 (double precision): The machine epsilon is approximately 2.220446049250313e-16.\n",
    "\n",
    "float32 example:\n",
    "* 1.0 + 1.1920929e-07, you’ll get a value that is slightly greater than 1.0.\n",
    "* 1.0 + (a number smaller than 1.1920929e-07) might still result in 1.0."
   ]
  },
  {
   "cell_type": "code",
   "execution_count": 7,
   "metadata": {},
   "outputs": [
    {
     "name": "stdout",
     "output_type": "stream",
     "text": [
      "1.0000001\n",
      "1.0\n"
     ]
    }
   ],
   "source": [
    "import numpy as np\n",
    "\n",
    "print(np.array(1, dtype='float32') + np.array(1.1920929e-07, dtype='float32'))\n",
    "print(np.array(1, dtype='float32') + np.array(1e-08, dtype='float32'))"
   ]
  }
 ],
 "metadata": {
  "kernelspec": {
   "display_name": "py311",
   "language": "python",
   "name": "python3"
  },
  "language_info": {
   "codemirror_mode": {
    "name": "ipython",
    "version": 3
   },
   "file_extension": ".py",
   "mimetype": "text/x-python",
   "name": "python",
   "nbconvert_exporter": "python",
   "pygments_lexer": "ipython3",
   "version": "3.11.10"
  }
 },
 "nbformat": 4,
 "nbformat_minor": 2
}
