{
 "cells": [
  {
   "cell_type": "markdown",
   "metadata": {},
   "source": [
    "# P-Value Correction for Multiple Tests\n",
    "**Family-Wise Error Rate (FWER)**: the probability of rejecting the null hypothesis when it is actually true while performing multiple hypotheses tests.\n",
    "\n",
    "We often need do account for multiple tests by adjusting the $\\alpha$ to keep the type 1 error rate down. Common methods to adjusting $\\alpha$ include:\n",
    "- **Bonferroni:**\n",
    "  - When strict control over false positives is paramount.\n",
    "  - When number of tests is relatively small.\n",
    "\n",
    "- **Holm-Bonferroni:**\n",
    "  - Balances power and strictness.\n",
    "  - Default for most business/scientific scenarios.\n",
    "\n",
    "- **False Discovery Rate (FDR):**\n",
    "  - For exploratory analyses or many tests.\n",
    "  - When maximizing discovery outweighs risk of false positives."
   ]
  },
  {
   "cell_type": "markdown",
   "metadata": {},
   "source": [
    "## How Each Method is Calculated\n",
    "\n",
    "For each of the examples, assume we have a family of three tests. The test is considered statistically significant when: $\\text{p-value} \\leq \\alpha $\n",
    "\n",
    "| Test       | P-value | Statistically Significant? |\n",
    "|------------|---------|----------------------------|\n",
    "| 1          | 0.01    | Yes ✅                    |\n",
    "| 2          | 0.02    | Yes ✅                    |\n",
    "| 3          | 0.05    | Yes ✅                    |"
   ]
  },
  {
   "cell_type": "markdown",
   "metadata": {},
   "source": [
    "### Bonferroni Correction\n",
    "\n",
    "Found by dividing $\\alpha$ by the number of tests ($m$).\n",
    "  \n",
    "$$\n",
    "\\alpha_{adjusted} = \\frac{\\alpha}{m}\n",
    "$$\n",
    "\n",
    "| Test       | P-value | Adjusted $\\alpha$           | Statistically Significant? |\n",
    "|------------|---------|-----------------------------|----------------------------|\n",
    "| 1          | 0.01    | 0.05/3 = 0.0167             | Yes ✅                    |\n",
    "| 2          | 0.02    | 0.05/3 = 0.0167             | No ❌                     |\n",
    "| 3          | 0.05    | 0.05/3 = 0.0167             | No ❌                     |"
   ]
  },
  {
   "cell_type": "markdown",
   "metadata": {},
   "source": [
    "### Holm-Bonferroni Correction\n",
    "\n",
    "- Sort p-values from lowest to highest: $ p_{(1)}, p_{(2)}, ..., p_{(m)} $\n",
    "- Compare each p-value against decreasing alpha thresholds.\n",
    "- For the ith test, the adjusted alpha is:\n",
    "$$\n",
    "\\alpha_{i} = \\frac{\\alpha}{m - i + 1}\n",
    "$$\n",
    "\n",
    "| Test       | P-value     | Adjusted $\\alpha$ | Statistically Significant? |\n",
    "|------------|-------------|-----------------------------|----------------------------|\n",
    "| 1          | 0.01        | 0.05/3 = 0.0167  | Yes ✅                    |\n",
    "| 2          | 0.02        | 0.05/2 = 0.025   | Yes ✅                    |\n",
    "| 3          | 0.05        | 0.05/1 = 0.05    | No ❌                     |"
   ]
  },
  {
   "cell_type": "markdown",
   "metadata": {},
   "source": [
    "### False discovery rate (FDR)\n",
    "There are a few different methods to control the FDR. Here is the BH step-up procedure:\n",
    "- Order p-values smallest to largest: $ p_{(1)} \\le p_{(2)} \\le ... \\le p_{(m)} $\n",
    "- For each p-value, compute the threshold:\n",
    "$$\n",
    "\\alpha_i = \\frac{i}{m}\\alpha\n",
    "$$\n",
    "\n",
    "| Test       | P-value     | Adjusted $\\alpha$   | Statistically Significant? |\n",
    "|------------|-------------|---------------------|----------------------------|\n",
    "| 1          | 0.01       | (1/3)*0.05 = 0.0167  | Yes ✅                    |\n",
    "| 2          | 0.02       | (2/3)*0.05 = 0.0333  | Yes ✅                    |\n",
    "| 3          | 0.05       | (3/3)*0.05 = 0.05    | Yes ✅                    |\n",
    "\n",
    "There are several methods available on [statsmodels](https://www.statsmodels.org/stable/generated/statsmodels.stats.multitest.multipletests.html).\n",
    "- Benjamini–Hochberg: Proven for independent test statistics, and has been shown to be robust to violations of the independence assumption.\n",
    "- Benjamini–Yekutieli: A more conservative extension that controls for correlated tests.\n",
    "\n",
    "[Matti Pirinen](https://www.mv.helsinki.fi/home/mjxpirin/HDS_course/material/HDS2_FDR.html) has great lecture notes online that dive deeper into the details of FDR.\n"
   ]
  },
  {
   "cell_type": "markdown",
   "metadata": {},
   "source": [
    "### Multiple Tests Example\n",
    "Three independent two-sample t-tests are performed comparing random data for three groups"
   ]
  },
  {
   "cell_type": "code",
   "execution_count": null,
   "metadata": {},
   "outputs": [
    {
     "name": "stdout",
     "output_type": "stream",
     "text": [
      "Original p-values: 0.5700, 0.6228, 0.9499\n",
      "\n",
      "Bonferroni Correction Results:\n",
      "\tTest 1: Original p = 0.5700, Adjusted p = 1.0000, Not rejected\n",
      "\tTest 2: Original p = 0.6228, Adjusted p = 1.0000, Not rejected\n",
      "\tTest 3: Original p = 0.9499, Adjusted p = 1.0000, Not rejected\n",
      "\n",
      "FDR with Benjamini-Hochberg Procedure:\n",
      "\tTest 1: Original p = 0.5700, Adjusted p = 0.9342, Not rejected\n",
      "\tTest 2: Original p = 0.6228, Adjusted p = 0.9342, Not rejected\n",
      "\tTest 3: Original p = 0.9499, Adjusted p = 0.9499, Not rejected\n",
      "\n",
      "FDR with Benjamini–Yekutieli Procedure:\n",
      "\tTest 1: Original p = 0.5700, Adjusted p = 1.0000, Not rejected\n",
      "\tTest 2: Original p = 0.6228, Adjusted p = 1.0000, Not rejected\n",
      "\tTest 3: Original p = 0.9499, Adjusted p = 1.0000, Not rejected\n"
     ]
    }
   ],
   "source": [
    "import numpy as np\n",
    "import scipy.stats as stats\n",
    "from statsmodels.stats.multitest import multipletests\n",
    "\n",
    "rng = np.random.default_rng()\n",
    "\n",
    "alpha = 0.05\n",
    "sample_size = 100\n",
    "n_tests = 3\n",
    "\n",
    "data1 = rng.standard_normal(sample_size)\n",
    "data2 = rng.standard_normal(sample_size)\n",
    "data3 = rng.standard_normal(sample_size)\n",
    "\n",
    "t_stat1, p_val1 = stats.ttest_ind(data1, data2)\n",
    "t_stat2, p_val2 = stats.ttest_ind(data1, data3)\n",
    "t_stat3, p_val3 = stats.ttest_ind(data2, data3)\n",
    "\n",
    "p_values = [p_val1, p_val2, p_val3]\n",
    "print(f\"Original p-values: {p_val1:.4f}, {p_val2:.4f}, {p_val3:.4f}\")\n",
    "\n",
    "print(\"\\nBonferroni Correction Results:\")\n",
    "rejected, pvals_corrected, _, _ = multipletests(p_values, alpha=0.05, method='bonferroni')\n",
    "for i, (orig_p, adj_p, rej) in enumerate(zip(p_values, pvals_corrected, rejected), start=1):\n",
    "    status = 'Rejected' if rej else 'Not rejected'\n",
    "    print(f\"\\tTest {i}: Original p = {orig_p:.4f}, Adjusted p = {adj_p:.4f}, {status}\")\n",
    "\n",
    "print(\"\\nFDR with Benjamini-Hochberg Procedure:\")\n",
    "rejected, pvals_corrected, _, _ = multipletests(p_values, alpha=0.05, method='fdr_bh')\n",
    "for i, (orig_p, adj_p, rej) in enumerate(zip(p_values, pvals_corrected, rejected), start=1):\n",
    "    status = 'Rejected' if rej else 'Not rejected'\n",
    "    print(f\"\\tTest {i}: Original p = {orig_p:.4f}, Adjusted p = {adj_p:.4f}, {status}\")\n",
    "\n",
    "print(\"\\nFDR with Benjamini-Yekutieli Procedure:\")\n",
    "rejected, pvals_corrected, _, _ = multipletests(p_values, alpha=0.05, method='fdr_by')\n",
    "for i, (orig_p, adj_p, rej) in enumerate(zip(p_values, pvals_corrected, rejected), start=1):\n",
    "    status = 'Rejected' if rej else 'Not rejected'\n",
    "    print(f\"\\tTest {i}: Original p = {orig_p:.4f}, Adjusted p = {adj_p:.4f}, {status}\")"
   ]
  },
  {
   "cell_type": "code",
   "execution_count": null,
   "metadata": {},
   "outputs": [],
   "source": []
  }
 ],
 "metadata": {
  "kernelspec": {
   "display_name": "kg",
   "language": "python",
   "name": "python3"
  },
  "language_info": {
   "codemirror_mode": {
    "name": "ipython",
    "version": 3
   },
   "file_extension": ".py",
   "mimetype": "text/x-python",
   "name": "python",
   "nbconvert_exporter": "python",
   "pygments_lexer": "ipython3",
   "version": "3.9.21"
  }
 },
 "nbformat": 4,
 "nbformat_minor": 2
}
