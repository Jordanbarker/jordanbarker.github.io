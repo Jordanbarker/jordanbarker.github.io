{
 "cells": [
  {
   "cell_type": "markdown",
   "metadata": {},
   "source": [
    "# Cookbook Meta\n",
    "This notebook holds some notes around building the cookbook itself. It is built with [Jupyter Book](https://jupyterbook.org/en/stable/intro.html) so huge thank you to them for their create work! \n",
    "\n",
    "\n",
    "## Execution statistics `nb-exec-table`\n",
    "```{nb-exec-table}\n",
    "```"
   ]
  },
  {
   "cell_type": "markdown",
   "metadata": {},
   "source": [
    "## Tags\n",
    "You can add tags to notebook cells to control various display options.\n",
    "\n",
    "- `remove-input`: Hide the code input but display the output of the cell.\n",
    "- `remove-output`: Display the code input but hide the output of the cell.\n",
    "- `remove-cell`: Completely exclude the cell (both input and output) from the final built book.\n",
    "- `hide-input`: Hide the code input but allow users to toggle it open if needed. The output remains visible.\n",
    "- `hide-output`: Hide the output but keep the code visible. Users can toggle the output if they want to see it.\n",
    "- `remove-stderr`: Hide any error or warning messages (stderr) from the output.\n",
    "- `remove`: remove all stderr\n",
    "- `remove-warn`: remove all stderr, but log a warning if any found\n",
    "- `skip`: Skip the execution of the cell entirely. The content of the cell will remain in the notebook, but it won’t be executed when you rebuild the book.\n",
    "- `no-execute`: Do not execute this cell when building the book, but include its content (code and/or output) in the final build.\n",
    "- `output-scroll`: Add scrollbars to long outputs so they don’t take up too much space in the final book.\n",
    "- `full-width`: Allow cell to take the full screen width."
   ]
  },
  {
   "cell_type": "markdown",
   "metadata": {},
   "source": [
    "```{note}\n",
    "note\n",
    "```"
   ]
  },
  {
   "cell_type": "markdown",
   "metadata": {},
   "source": [
    "* `cite:p` {cite:p}`kohavi2020trustworthy`.\n",
    "* `cite:t` {cite:t}`kohavi2020trustworthy`.\n",
    "* `cite:ps` {cite:ps}`kohavi2020trustworthy`.\n",
    "* `cite:ts` {cite:ts}`kohavi2020trustworthy`.\n",
    "\n",
    "`:filter: docname in docnames` is used to dynamically include only the references that are cited in the current document.\n",
    "\n",
    "```{bibliography}\n",
    ":filter: docname in docnames\n",
    "```"
   ]
  }
 ],
 "metadata": {
  "language_info": {
   "name": "python"
  }
 },
 "nbformat": 4,
 "nbformat_minor": 2
}
