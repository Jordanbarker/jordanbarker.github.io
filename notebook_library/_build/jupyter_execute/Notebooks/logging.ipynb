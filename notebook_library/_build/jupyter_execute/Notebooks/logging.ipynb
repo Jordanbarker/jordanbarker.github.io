{
 "cells": [
  {
   "cell_type": "markdown",
   "metadata": {},
   "source": [
    "# Logging\n",
    "Loguru is a library that simplifies logging and has useful features.\n",
    "\n",
    "Log levels:\n",
    "- `debug`: Detailed information useful during development\n",
    "- `info`: High level operation of the code\n",
    "- `warning`: Might be an issue\n",
    "- `error`: Problem that needs attention\n",
    "- `critical`: Fatal error"
   ]
  },
  {
   "cell_type": "markdown",
   "metadata": {},
   "source": [
    "## loguru"
   ]
  },
  {
   "cell_type": "code",
   "execution_count": null,
   "metadata": {},
   "outputs": [],
   "source": [
    "from loguru import logger\n",
    "\n",
    "def fit_model(model, params):\n",
    "    logger.debug(f\"Using params: {params}\")\n",
    "    logger.info(f'Starting training.')\n",
    "\n",
    "    if params['learning_rate'] is None:\n",
    "        logger.warning(\"learning_rate param not specified, using 3e-4.\")\n",
    "\n",
    "    if hasattr(model, 'fit'):\n",
    "        model.fit()\n",
    "    else:\n",
    "        logger.error(\"The model provided does not have a fit() method.\")"
   ]
  },
  {
   "cell_type": "markdown",
   "metadata": {},
   "source": [
    "## Logging to a File\n",
    "By default, Loguru will output to the console (stdout). The `logger.add()` method is use to save logs to a file.\n",
    "\n",
    "`logger.add(\"file.log\")`: Save log data to \"file.log\" path. Parameters of note:\n",
    "- `retention` pamameter controls how long we keep logs. E.g. `retention=\"1 HOUR\"`\n",
    "- `rotation`: Rotates log file when it exceeds a certain size. E.g. `rotation=\"10 MB\"`"
   ]
  },
  {
   "cell_type": "markdown",
   "metadata": {},
   "source": [
    "## Function Decoratoring: \n",
    "`@logger.catch` allows us to automatically log the function’s entry, exit, and exceptions. Parameters:\n",
    "- `reraise`: If set to True, the decorator will re-raise the exception after logging it. This allows the program to continue handling the error as it normally would.\n",
    "- `level`: Specify the log level (e.g., \"DEBUG\", \"ERROR\", etc.) at which the exception should be logged.\n",
    "- `onerror`: Provide a fallback function to execute when an exception occurs."
   ]
  },
  {
   "cell_type": "code",
   "execution_count": 8,
   "metadata": {},
   "outputs": [],
   "source": [
    "from loguru import logger\n",
    "\n",
    "@logger.catch(onerror=lambda _: print(\"An error occurred, but we are moving on.\"))\n",
    "def run_error():\n",
    "    return 1 / 0\n",
    "\n",
    "# run_error()  # This will raise ZeroDivisionError and log it"
   ]
  }
 ],
 "metadata": {
  "kernelspec": {
   "display_name": "py311",
   "language": "python",
   "name": "python3"
  },
  "language_info": {
   "codemirror_mode": {
    "name": "ipython",
    "version": 3
   },
   "file_extension": ".py",
   "mimetype": "text/x-python",
   "name": "python",
   "nbconvert_exporter": "python",
   "pygments_lexer": "ipython3",
   "version": "3.11.6"
  }
 },
 "nbformat": 4,
 "nbformat_minor": 2
}