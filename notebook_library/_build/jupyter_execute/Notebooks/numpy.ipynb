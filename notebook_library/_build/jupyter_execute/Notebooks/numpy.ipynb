{
 "cells": [
  {
   "cell_type": "markdown",
   "metadata": {},
   "source": [
    "# Numpy"
   ]
  },
  {
   "cell_type": "code",
   "execution_count": 6,
   "metadata": {},
   "outputs": [
    {
     "name": "stdout",
     "output_type": "stream",
     "text": [
      "1.26.4\n"
     ]
    }
   ],
   "source": [
    "import numpy as np\n",
    "\n",
    "np.random.seed(42)\n",
    "\n",
    "print(np.__version__)"
   ]
  },
  {
   "cell_type": "markdown",
   "metadata": {},
   "source": [
    "## Array creation"
   ]
  },
  {
   "cell_type": "code",
   "execution_count": 10,
   "metadata": {},
   "outputs": [
    {
     "name": "stdout",
     "output_type": "stream",
     "text": [
      " np.zeros((3, 4))\n",
      "[[0. 0. 0. 0.]\n",
      " [0. 0. 0. 0.]\n",
      " [0. 0. 0. 0.]]\n",
      "\n",
      " np.ones((3, 4))\n",
      "[[1. 1. 1. 1.]\n",
      " [1. 1. 1. 1.]\n",
      " [1. 1. 1. 1.]]\n",
      "\n",
      " np.eye(3)\n",
      "[[1. 0. 0.]\n",
      " [0. 1. 0.]\n",
      " [0. 0. 1.]]\n",
      "\n",
      " np.diag([1, 2, 3])\n",
      "[[1 0 0]\n",
      " [0 2 0]\n",
      " [0 0 3]]\n",
      "\n",
      " np.empty((3, 4))\n",
      "[[1. 1. 1. 1.]\n",
      " [1. 1. 1. 1.]\n",
      " [1. 1. 1. 1.]]\n"
     ]
    }
   ],
   "source": [
    "# creates an array from available memory space, and then fills it with zeros for your chosen dtype.\n",
    "print(' np.zeros((3, 4))')\n",
    "print(np.zeros((3, 4))) \n",
    "\n",
    "print('\\n np.ones((3, 4))')\n",
    "print(np.ones((3, 4)))\n",
    "\n",
    "print('\\n np.eye(3)')\n",
    "print(np.eye(3))\n",
    "\n",
    "print('\\n np.diag([1, 2, 3])')\n",
    "print(np.diag([1, 2, 3]))\n",
    "\n",
    "# creates an array from available memory space, \n",
    "# leaving whatever values happened to be hanging around in memory as the values.\n",
    "print('\\n np.empty((3, 4))')\n",
    "print(np.empty((3, 4))) "
   ]
  },
  {
   "cell_type": "code",
   "execution_count": 28,
   "metadata": {},
   "outputs": [
    {
     "name": "stdout",
     "output_type": "stream",
     "text": [
      "[1 2 3 4] \n",
      "\n",
      "[[0 1 2]\n",
      " [3 4 5]\n",
      " [6 7 8]] \n",
      "\n",
      "[[ 0  1  2  3]\n",
      " [ 4  5  6  7]\n",
      " [ 8  9 10 11]] \n",
      "\n"
     ]
    }
   ],
   "source": [
    "a = np.array([1,2,3,4])\n",
    "print(a,\"\\n\")\n",
    "\n",
    "a = np.arange(9).reshape(3, 3)\n",
    "print(a,\"\\n\")\n",
    "\n",
    "# Create a two-dimensional array of size 3 rows x 4 columns:\n",
    "b = np.array([[0, 1, 2, 3],\n",
    "              [4, 5, 6, 7],\n",
    "              [8, 9, 10, 11]])\n",
    "print(b,\"\\n\")"
   ]
  },
  {
   "cell_type": "markdown",
   "metadata": {},
   "source": [
    "## Random\n",
    "Numbers are created from 0 (inclusive) to 10 (exclusive)"
   ]
  },
  {
   "cell_type": "code",
   "execution_count": 45,
   "metadata": {},
   "outputs": [
    {
     "data": {
      "text/plain": [
       "array([7.73956049, 4.3887844 , 8.5859792 , 6.97368029, 0.94177348,\n",
       "       9.75622352, 7.61139702, 7.86064305, 1.28113633, 4.50385938])"
      ]
     },
     "execution_count": 45,
     "metadata": {},
     "output_type": "execute_result"
    }
   ],
   "source": [
    "rng = np.random.default_rng(seed=42)\n",
    "\n",
    "rng.uniform(low=0, high=10, size=10) # 10 random numbers in [0, 10)"
   ]
  },
  {
   "cell_type": "code",
   "execution_count": 46,
   "metadata": {},
   "outputs": [
    {
     "data": {
      "text/plain": [
       "array([[5, 3, 1],\n",
       "       [9, 7, 6],\n",
       "       [4, 8, 5],\n",
       "       [4, 4, 2]])"
      ]
     },
     "execution_count": 46,
     "metadata": {},
     "output_type": "execute_result"
    }
   ],
   "source": [
    "rng.integers(low=0, high=10, size=(4, 3))"
   ]
  },
  {
   "cell_type": "markdown",
   "metadata": {},
   "source": [
    "## Concatenate\n",
    "https://numpy.org/doc/stable/reference/generated/numpy.concatenate.html"
   ]
  },
  {
   "cell_type": "code",
   "execution_count": 32,
   "metadata": {},
   "outputs": [
    {
     "name": "stdout",
     "output_type": "stream",
     "text": [
      "[[1 2]\n",
      " [3 4]\n",
      " [5 6]]\n"
     ]
    }
   ],
   "source": [
    "a = np.array([[1, 2], [3, 4]])\n",
    "b = np.array([[5, 6]])\n",
    "c = np.concatenate((a, b), axis=0)\n",
    "print(c)"
   ]
  },
  {
   "cell_type": "markdown",
   "metadata": {},
   "source": [
    "## Append\n",
    "\n",
    "Parameters:\n",
    "- arr: Values are appended to a copy of this array.\n",
    "- values: These values are appended to a copy of arr.\n",
    "- axis (opt)\n",
    "\n",
    "https://numpy.org/doc/stable/reference/generated/numpy.append.html"
   ]
  },
  {
   "cell_type": "code",
   "execution_count": 34,
   "metadata": {},
   "outputs": [
    {
     "data": {
      "text/plain": [
       "array([1, 2, 3, 4, 5, 6, 7, 8, 9])"
      ]
     },
     "execution_count": 34,
     "metadata": {},
     "output_type": "execute_result"
    }
   ],
   "source": [
    "a = np.array([1, 2, 3, 4, 5, 6])\n",
    "a = np.append(a, [7, 8, 9])\n",
    "a"
   ]
  },
  {
   "cell_type": "markdown",
   "metadata": {},
   "source": [
    "## Astype"
   ]
  },
  {
   "cell_type": "code",
   "execution_count": null,
   "metadata": {},
   "outputs": [],
   "source": [
    "a = a.astype(float)"
   ]
  },
  {
   "cell_type": "markdown",
   "metadata": {},
   "source": [
    "## Boolean Masks"
   ]
  },
  {
   "cell_type": "code",
   "execution_count": 44,
   "metadata": {},
   "outputs": [
    {
     "name": "stdout",
     "output_type": "stream",
     "text": [
      "x:  [ 3  1  2  3 -5 -3 -2 -4  1  5]\n",
      "mask:  [ True False False  True False False False False False False]\n",
      "True values:  [3 3]\n",
      "True indeces:  (array([0, 3]),)\n"
     ]
    }
   ],
   "source": [
    "x = rng.integers(low=-5, high=10, size=10)\n",
    "mask_mult_3 = (x > 0) & (x % 3 == 0)\n",
    "\n",
    "print(\"x: \", x)\n",
    "print(\"mask: \", mask_mult_3)\n",
    "print(\"True values: \", x[mask_mult_3])\n",
    "print(\"True indeces: \", np.where(mask_mult_3))"
   ]
  },
  {
   "cell_type": "markdown",
   "metadata": {},
   "source": [
    "## Broadcasting\n",
    "https://numpy.org/doc/stable/reference/ufuncs.html#broadcasting\n",
    "\n",
    "Combine operations on numpy arrays that have different shapes but are _compatible_. Technically, `A` and `3` have different shapes: the former is a $4 \\times 3$ matrix, while the latter is a scalar ($1 \\times 1$). However, they are compatible because Numpy knows how to _extend_---or **broadcast**---the value 3 into an equivalent matrix object of the same shape in order to combine them."
   ]
  },
  {
   "cell_type": "code",
   "execution_count": 35,
   "metadata": {},
   "outputs": [
    {
     "name": "stdout",
     "output_type": "stream",
     "text": [
      "[[1 2]\n",
      " [3 4]\n",
      " [5 6]] \n",
      "\n",
      " [[4 5]\n",
      " [6 7]\n",
      " [8 9]]\n",
      "\n",
      " [3. 4.]\n",
      "\n",
      " [1.5 3.5 5.5]\n",
      "(3, 2) (2,)\n",
      "(3, 2) (3,)\n",
      "\n",
      "[[1.5]\n",
      " [3.5]\n",
      " [5.5]] => (3, 1)\n",
      "\n",
      "A - A_col_means2\n",
      "\n",
      " [[1 2]\n",
      " [3 4]\n",
      " [5 6]] \n",
      "- [[1.5]\n",
      " [3.5]\n",
      " [5.5]]\n",
      "\n",
      "=>\n",
      " [[-0.5  0.5]\n",
      " [-0.5  0.5]\n",
      " [-0.5  0.5]]\n"
     ]
    }
   ],
   "source": [
    "print(c,\"\\n\\n\",c+3)\n",
    "c_row_means = np.mean(c, axis=0)\n",
    "print(\"\\n\", c_row_means)\n",
    "c_col_means = np.mean(c, axis=1)\n",
    "print(\"\\n\", c_col_means)\n",
    "\n",
    "print(c.shape, c_row_means.shape)\n",
    "print(c.shape, c_col_means.shape)\n",
    "print()\n",
    "c_col_means2 = np.reshape(c_col_means, (len(c_col_means), 1))\n",
    "print(c_col_means2, \"=>\", c_col_means2.shape)\n",
    "print()\n",
    "print(\"A - A_col_means2\\n\\n\", c, \"\\n-\", c_col_means2) \n",
    "print(\"\\n=>\\n\", c - c_col_means2)"
   ]
  },
  {
   "cell_type": "markdown",
   "metadata": {},
   "source": [
    "## Indexing / Slicing\n",
    "When you slice a Numpy array, you are actually creating a view into that array. That means modifications through the view will modify the original array."
   ]
  },
  {
   "cell_type": "code",
   "execution_count": 50,
   "metadata": {},
   "outputs": [
    {
     "name": "stdout",
     "output_type": "stream",
     "text": [
      "A[:, :] -> \n",
      " [[1. 2. 3.]\n",
      " [4. 5. 6.]\n",
      " [7. 8. 9.]]\n",
      "\n",
      "A[0, :] ->\n",
      " [1. 2. 3.]\n",
      "\n",
      "A[:, 0:1] ->\n",
      " [[1.]\n",
      " [4.]\n",
      " [7.]]\n",
      "\n",
      "A[:, 2:3] ->\n",
      " [[3.]\n",
      " [6.]\n",
      " [9.]]\n"
     ]
    }
   ],
   "source": [
    "A = np.array ([[1, 2, 3],\n",
    "               [4, 5, 6],\n",
    "               [7, 8, 9]\n",
    "              ], dtype=float)\n",
    "\n",
    "print (\"A[:, :] -> \\n\", A)\n",
    "print (\"\\nA[0, :] ->\\n\", A[0, :])\n",
    "print (\"\\nA[:, 0:1] ->\\n\", A[:, 0:1])\n",
    "print (\"\\nA[:, 2:3] ->\\n\", A[:, 2:3])"
   ]
  },
  {
   "cell_type": "markdown",
   "metadata": {},
   "source": [
    "## Functions"
   ]
  },
  {
   "cell_type": "code",
   "execution_count": 52,
   "metadata": {},
   "outputs": [
    {
     "name": "stdout",
     "output_type": "stream",
     "text": [
      "arr.ndim: 2\n",
      "arr.shape (3, 4)\n",
      "len(arr) 3\n",
      "\n",
      "np.max: 11\n",
      "np.min: 0\n",
      "np.sum: 66\n",
      "np.mean: 5.5\n",
      "np.nanmean: 5.5\n",
      "np.std: 3.452052529534663\n",
      "\n",
      "Max in each column: [ 8  9 10 11]\n",
      "Max in each row: [ 3  7 11]\n"
     ]
    }
   ],
   "source": [
    "npFunc = np.array([[0, 1, 2, 3],\n",
    "                  [4, 5, 6, 7],\n",
    "                  [8, 9, 10, 11]])\n",
    "print(\"arr.ndim:\", npFunc.ndim) # Number of array dimensions\n",
    "print(\"arr.shape\", npFunc.shape) # Rows x Columns\n",
    "print(\"len(arr)\", len(npFunc)) # Number of rows\n",
    "print()\n",
    "print(\"np.max:\", np.max(npFunc))\n",
    "print(\"np.min:\",np.min(npFunc))\n",
    "print(\"np.sum:\",np.sum(npFunc))\n",
    "print(\"np.mean:\",np.mean(npFunc))\n",
    "print(\"np.nanmean:\",np.nanmean(npFunc)) # ignore NaN values\n",
    "print(\"np.std:\",np.std(npFunc))\n",
    "print()\n",
    "# aggregate along a dimension\n",
    "print(\"Max in each column:\", np.amax(npFunc, axis=0)) # i.e., aggregate along axis 0, the rows, producing column maxes\n",
    "print(\"Max in each row:\", np.amax(npFunc, axis=1)) # i.e., aggregate along axis 1, the columns, producing row maxes"
   ]
  },
  {
   "cell_type": "markdown",
   "metadata": {},
   "source": [
    "## Universal functions\n",
    "Universal functions apply a given function _elementwise_ to one or more Numpy objects.\n",
    "\n",
    "[np.frompyfunc()](https://docs.scipy.org/doc/numpy/reference/generated/numpy.frompyfunc.html)"
   ]
  },
  {
   "cell_type": "code",
   "execution_count": 26,
   "metadata": {},
   "outputs": [
    {
     "name": "stdout",
     "output_type": "stream",
     "text": [
      "[[   1   -9  -19  -29]\n",
      " [ -39  -49  -59  -69]\n",
      " [ -79  -89  -99 -109]] \n",
      "\n",
      "np.abs(c) \n",
      " [[ -1   9  19  29]\n",
      " [ 39  49  59  69]\n",
      " [ 79  89  99 109]] \n",
      "==>\n",
      " [[  1   9  19  29]\n",
      " [ 39  49  59  69]\n",
      " [ 79  89  99 109]] \n",
      "\n",
      "maximum(c,d)\n",
      " [[ -1   9  19  29]\n",
      " [ 39  49  59  69]\n",
      " [ 79  89  99 109]] \n",
      "\n",
      "[[0.36787944117144233 6.639677199580735e-36 1.6584104776811452e-157 0.0]\n",
      " [0.0 0.0 0.0 0.0]\n",
      " [0.0 0.0 0.0 0.0]]\n"
     ]
    }
   ],
   "source": [
    "print(-npFunc,\"\\n\")\n",
    "print(\"np.abs(c)\",\"\\n\",npFunc, \"\\n==>\\n\", np.abs(npFunc),\"\\n\")\n",
    "print(\"maximum(c,d)\\n\",np.maximum(npFunc,npFunc),\"\\n\")\n",
    "\n",
    "# Create universal functions\n",
    "def f(x):\n",
    "    from math import exp\n",
    "    return exp(-(x**2))\n",
    "\n",
    "f_np = np.frompyfunc(f,1,1)\n",
    "print(f_np(npFunc))"
   ]
  },
  {
   "cell_type": "markdown",
   "metadata": {},
   "source": [
    "## Matrix Multiplication\n",
    "You can only multiply two matrices if the number of columns in the first matrix equals the number of rows in the second matrix."
   ]
  },
  {
   "cell_type": "code",
   "execution_count": 27,
   "metadata": {},
   "outputs": [
    {
     "name": "stdout",
     "output_type": "stream",
     "text": [
      "(4,) (4, 6)\n",
      "\n",
      " [0 1 2 3]\n",
      "[[0]\n",
      " [1]\n",
      " [2]\n",
      " [3]] \n",
      "\n",
      "(4, 1) (4, 6)\n",
      "[[ 0  0  0  0  0  0]\n",
      " [ 6  7  8  9 10 11]\n",
      " [24 26 28 30 32 34]\n",
      " [54 57 60 63 66 69]]\n"
     ]
    }
   ],
   "source": [
    "mm = [0, 1, 2, 3]\n",
    "mm = np.array(mm)\n",
    "MM = [[ 0,  1,  2,  3,  4,  5],\n",
    "     [ 6,  7,  8,  9, 10, 11],\n",
    "     [12, 13, 14, 15, 16, 17],\n",
    "     [18, 19, 20, 21, 22, 23]]\n",
    "MM = np.array(MM)\n",
    "print(mm.shape, MM.shape)\n",
    "print(\"\\n\",mm)\n",
    "mm = np.expand_dims(mm, axis=-1) # Add an extra dimension in the last axis.\n",
    "print(mm,\"\\n\")\n",
    "print(mm.shape, MM.shape)\n",
    "print(mm*MM)\n",
    "#print(mm.dot(MM)) # shapes (4,1) and (4,6) not aligned: 1 (dim 1) != 4 (dim 0)"
   ]
  }
 ],
 "metadata": {
  "kernelspec": {
   "display_name": "py311",
   "language": "python",
   "name": "python3"
  },
  "language_info": {
   "codemirror_mode": {
    "name": "ipython",
    "version": 3
   },
   "file_extension": ".py",
   "mimetype": "text/x-python",
   "name": "python",
   "nbconvert_exporter": "python",
   "pygments_lexer": "ipython3",
   "version": "3.11.6"
  }
 },
 "nbformat": 4,
 "nbformat_minor": 2
}