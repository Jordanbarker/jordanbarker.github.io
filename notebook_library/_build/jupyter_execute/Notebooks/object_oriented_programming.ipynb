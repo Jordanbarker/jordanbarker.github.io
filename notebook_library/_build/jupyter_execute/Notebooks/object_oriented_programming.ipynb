{
 "cells": [
  {
   "cell_type": "markdown",
   "metadata": {},
   "source": [
    "# Object-Oriented Programming\n",
    "Why? Modularity, reusability, scalability."
   ]
  },
  {
   "cell_type": "markdown",
   "metadata": {},
   "source": [
    "## Encapsulation\n",
    "Information hiding. Only the necessary parts are exposed.\n",
    "\n",
    "### Decorators \n",
    "Decorators allow you to modify the behavior of functions or methods.\n",
    "\n",
    "#### Properties (Getter / Setter / Deleter Methods)\n",
    "Use these to control how variables are accessed, set, and deleted. "
   ]
  },
  {
   "cell_type": "code",
   "execution_count": 2,
   "metadata": {},
   "outputs": [
    {
     "name": "stdout",
     "output_type": "stream",
     "text": [
      "Circle(radius=5)\n",
      "5\n"
     ]
    }
   ],
   "source": [
    "class Circle:\n",
    "    def __init__(self, radius):\n",
    "        self._radius = radius\n",
    "\n",
    "    def __repr__(self):\n",
    "        return f'Circle(radius={self.radius})'\n",
    "\n",
    "    @property\n",
    "    def radius(self):\n",
    "        return self._radius\n",
    "\n",
    "    @radius.setter\n",
    "    def radius(self, value):\n",
    "        if value < 0:\n",
    "            raise ValueError(\"Radius cannot be negative\")\n",
    "        self._radius = value\n",
    "\n",
    "    @radius.deleter\n",
    "    def radius(self):\n",
    "        del self._radius\n",
    "\n",
    "circle = Circle(5)\n",
    "\n",
    "print(circle)  # \n",
    "print(circle.radius)  # Accessing the method\n",
    "\n",
    "circle.radius = 10  # Invokes the setter\n",
    "del circle.radius  # Invokes the deleter"
   ]
  },
  {
   "cell_type": "markdown",
   "metadata": {},
   "source": [
    "#### Custom decorators"
   ]
  },
  {
   "cell_type": "code",
   "execution_count": 2,
   "metadata": {},
   "outputs": [
    {
     "name": "stdout",
     "output_type": "stream",
     "text": [
      "Calling function 'add' with arguments (3, 5) and {}\n",
      "Function 'add' returned 8\n"
     ]
    }
   ],
   "source": [
    "def log_decorator(func):\n",
    "    def wrapper(*args, **kwargs):\n",
    "        print(f\"Calling function '{func.__name__}' with arguments {args} and {kwargs}\")\n",
    "        result = func(*args, **kwargs)\n",
    "        print(f\"Function '{func.__name__}' returned {result}\")\n",
    "        return result\n",
    "    return wrapper\n",
    "\n",
    "@log_decorator\n",
    "def add(a, b):\n",
    "    return a + b\n",
    "\n",
    "sum_result = add(3, 5)"
   ]
  },
  {
   "cell_type": "markdown",
   "metadata": {},
   "source": [
    "### Abstraction\n",
    "Implementation hiding. In Python, this can be implemented through abstract base classes (``ABC``).\n",
    "\n",
    "Abstract classes cannot be instantiated, and any subclass of the abstract class must implement the abstract methods."
   ]
  },
  {
   "cell_type": "code",
   "execution_count": 3,
   "metadata": {},
   "outputs": [],
   "source": [
    "from abc import ABC, abstractmethod\n",
    "\n",
    "class MachineLearningModel(ABC):\n",
    "    @abstractmethod\n",
    "    def predict(self):\n",
    "        pass\n",
    "\n",
    "class NaiveModel(MachineLearningModel):\n",
    "    def predict(self, input):\n",
    "        return input.mean()"
   ]
  },
  {
   "cell_type": "markdown",
   "metadata": {},
   "source": [
    "### Dataclass\n",
    "\n",
    "In this example, Python automatically generates:\n",
    "- ``__init__``: initialize the class with the attributes name, age, and country.\n",
    "- ``__repr__``: readable string representation of the object.\n",
    "- ``__eq__``: allows comparison of two objects."
   ]
  },
  {
   "cell_type": "code",
   "execution_count": 4,
   "metadata": {},
   "outputs": [
    {
     "name": "stdout",
     "output_type": "stream",
     "text": [
      "Person(name='Alice', age=25, country='United States')\n"
     ]
    }
   ],
   "source": [
    "from dataclasses import dataclass\n",
    "from typing import List, Union\n",
    "\n",
    "@dataclass\n",
    "class Person:\n",
    "    name: str\n",
    "    age: int = 25\n",
    "    country: str = \"United States\"\n",
    "\n",
    "person = Person(name=\"Alice\") # Person(name='Alice', age=25, country='Unknown')\n",
    "print(person)"
   ]
  },
  {
   "cell_type": "markdown",
   "metadata": {},
   "source": [
    "### Static and Class Methods \n",
    "- Static Method (``@staticmethod``): A method that belongs to the class rather than an instance of the class. It doesn't require access to self or cls.\n",
    "- Class Method (``@classmethod``): A method that operates on the class itself and is passed the class (cls) as its first argument."
   ]
  },
  {
   "cell_type": "code",
   "execution_count": 5,
   "metadata": {},
   "outputs": [],
   "source": [
    "class MyClass:\n",
    "    @staticmethod\n",
    "    def static_method():\n",
    "        return \"Static Method\"\n",
    "\n",
    "    @classmethod\n",
    "    def class_method(cls):\n",
    "        return \"Class Method\""
   ]
  },
  {
   "cell_type": "markdown",
   "metadata": {},
   "source": [
    "### Protected and Private Variables"
   ]
  },
  {
   "cell_type": "code",
   "execution_count": 6,
   "metadata": {},
   "outputs": [],
   "source": [
    "class Dog:\n",
    "    def __init__(self, name, age):\n",
    "        self._name = name  # Protected variable\n",
    "        self.__age = age  # Private variable"
   ]
  },
  {
   "cell_type": "markdown",
   "metadata": {},
   "source": [
    "## Inheritance"
   ]
  },
  {
   "cell_type": "code",
   "execution_count": 3,
   "metadata": {},
   "outputs": [],
   "source": [
    "class Base:\n",
    "    def foo(self):\n",
    "        return 'foo'\n",
    "\n",
    "class Inheritor(Base):\n",
    "    def bar(self):\n",
    "        return f\"bar\"\n",
    "    \n",
    "assert hasattr(Base, 'foo'), \"Base class should have 'foo' method.\""
   ]
  },
  {
   "cell_type": "markdown",
   "metadata": {},
   "source": [
    "### Method Overriding"
   ]
  },
  {
   "cell_type": "code",
   "execution_count": 4,
   "metadata": {},
   "outputs": [],
   "source": [
    "class Base:\n",
    "    def foo(self):\n",
    "        return 'foo'\n",
    "\n",
    "class Overrider(Base):\n",
    "    def foo(self): # Overrides the parent method\n",
    "        return f\"foo from BaseOverrider\""
   ]
  },
  {
   "cell_type": "markdown",
   "metadata": {},
   "source": [
    "### `super()`\n",
    "Allows you to call methods from a parent class. `super()` must be used inside a method of the class"
   ]
  },
  {
   "cell_type": "code",
   "execution_count": 8,
   "metadata": {},
   "outputs": [
    {
     "name": "stdout",
     "output_type": "stream",
     "text": [
      "My name is Alice. I work as a Data Scientist.\n"
     ]
    }
   ],
   "source": [
    "class Person:\n",
    "    def __init__(self, name):\n",
    "        self.name = name\n",
    "    \n",
    "    def speak(self):\n",
    "        return f\"My name is {self.name}.\"\n",
    "\n",
    "class Employee(Person):\n",
    "    def __init__(self, name, position):\n",
    "        super().__init__(name)\n",
    "        self.position = position\n",
    "    \n",
    "    def speak(self):\n",
    "        # Extend the parent class's method, keeping its functionality\n",
    "        base_speak = super().speak()\n",
    "        return f\"{base_speak} I work as a {self.position}.\"\n",
    "\n",
    "# Create an instance of Employee and call the speak method\n",
    "employee = Employee('Alice', 'Data Scientist')\n",
    "print(employee.speak())"
   ]
  },
  {
   "cell_type": "markdown",
   "metadata": {},
   "source": [
    "### Single and Multiple Inheritance"
   ]
  },
  {
   "cell_type": "code",
   "execution_count": 9,
   "metadata": {},
   "outputs": [],
   "source": [
    "class A:\n",
    "    pass\n",
    "\n",
    "class B:\n",
    "    pass\n",
    "\n",
    "class C(A, B):  # Multiple inheritance\n",
    "    pass"
   ]
  },
  {
   "cell_type": "markdown",
   "metadata": {},
   "source": [
    "### Method Resolution Order (MRO)\n",
    "MRO determines the order in which base classes are searched when executing a method. Python uses the C3 linearization algorithm to compute the MRO, ensuring a consistent and predictable order."
   ]
  },
  {
   "cell_type": "code",
   "execution_count": 10,
   "metadata": {},
   "outputs": [
    {
     "name": "stdout",
     "output_type": "stream",
     "text": [
      "Method in D\n",
      "Method in B\n",
      "Method in C\n",
      "Method in A\n",
      "[<class '__main__.D'>, <class '__main__.B'>, <class '__main__.C'>, <class '__main__.A'>, <class 'object'>]\n"
     ]
    }
   ],
   "source": [
    "class A:\n",
    "    def method(self):\n",
    "        print(\"Method in A\")\n",
    "\n",
    "class B(A):\n",
    "    def method(self):\n",
    "        print(\"Method in B\")\n",
    "        super().method()\n",
    "\n",
    "class C(A):\n",
    "    def method(self):\n",
    "        print(\"Method in C\")\n",
    "        super().method()\n",
    "\n",
    "class D(B, C):\n",
    "    def method(self):\n",
    "        print(\"Method in D\")\n",
    "        super().method()\n",
    "\n",
    "d = D()\n",
    "d.method()\n",
    "print(D.mro())"
   ]
  },
  {
   "cell_type": "markdown",
   "metadata": {},
   "source": [
    "### Mixin\n",
    "Add functionality to other classes, without being intended for independent use."
   ]
  },
  {
   "cell_type": "code",
   "execution_count": 11,
   "metadata": {},
   "outputs": [
    {
     "name": "stdout",
     "output_type": "stream",
     "text": [
      "Log: Doing something...\n"
     ]
    }
   ],
   "source": [
    "class LoggingMixin:\n",
    "    def log(self, message):\n",
    "        print(f\"Log: {message}\")\n",
    "\n",
    "class MyClass(LoggingMixin):\n",
    "    def do_something(self):\n",
    "        self.log(\"Doing something...\")\n",
    "\n",
    "obj = MyClass()\n",
    "obj.do_something()"
   ]
  },
  {
   "cell_type": "markdown",
   "metadata": {},
   "source": [
    "## Polymorphism\n",
    "Polymorphism allows objects of different classes to be treated as objects of a common parent class. It provides the ability to define methods in a way that they can operate on objects of different types."
   ]
  },
  {
   "cell_type": "code",
   "execution_count": 13,
   "metadata": {},
   "outputs": [
    {
     "name": "stdout",
     "output_type": "stream",
     "text": [
      "Woof!\n",
      "Meow\n"
     ]
    }
   ],
   "source": [
    "class Animal:\n",
    "    def speak(self):\n",
    "        raise NotImplementedError(\"Subclass must implement this method\")\n",
    "\n",
    "class Dog(Animal):\n",
    "    def speak(self):\n",
    "        return \"Woof!\"\n",
    "\n",
    "class Cat(Animal):\n",
    "    def speak(self):\n",
    "        return f\"Meow\"\n",
    "\n",
    "animals = [Dog(), Cat()]\n",
    "for animal in animals:\n",
    "    print(animal.speak())  # Calls speak() from respective class"
   ]
  },
  {
   "cell_type": "markdown",
   "metadata": {},
   "source": [
    "## Method Overriding\n",
    "Overriding occurs when a subclass provides a specific implementation of a method that is already defined in its superclass. This is a key part of inheritance and polymorphism."
   ]
  },
  {
   "cell_type": "code",
   "execution_count": 7,
   "metadata": {},
   "outputs": [],
   "source": [
    "class Person:\n",
    "    def greet(self):\n",
    "        return \"Hello!\"\n",
    "\n",
    "class Aussie(Person):\n",
    "    def greet(self):\n",
    "        return \"G'day mate!\"  # Overrides the parent method"
   ]
  },
  {
   "cell_type": "markdown",
   "metadata": {},
   "source": [
    "## Dunder (Magic) Methods\n",
    "Magic methods allow you to define special behaviors for built-in operations.\n",
    "\n",
    "They are called dunder methods because they begin and end with double underscores, e.g., `__init__`, `__str__`"
   ]
  },
  {
   "cell_type": "code",
   "execution_count": 8,
   "metadata": {},
   "outputs": [
    {
     "data": {
      "text/plain": [
       "'Book: Dune by Frank Herbert'"
      ]
     },
     "execution_count": 8,
     "metadata": {},
     "output_type": "execute_result"
    }
   ],
   "source": [
    "class Book:\n",
    "    def __init__(self, title, author):\n",
    "        self.title = title\n",
    "        self.author = author\n",
    "\n",
    "    def __str__(self):\n",
    "        return f\"Book: {self.title} by {self.author}\"\n",
    "    \n",
    "str(Book(\"Dune\", \"Frank Herbert\"))"
   ]
  },
  {
   "cell_type": "markdown",
   "metadata": {},
   "source": [
    "Full list of methods is nicely summarized here: \n",
    "https://www.pythonmorsels.com/every-dunder-method/"
   ]
  },
  {
   "cell_type": "markdown",
   "metadata": {},
   "source": [
    "## Composition\n",
    "Composition is a design principle where one class contains an object of another class to reuse code and functionality. It represents a \"has-a\" relationship between objects."
   ]
  },
  {
   "cell_type": "code",
   "execution_count": 8,
   "metadata": {},
   "outputs": [],
   "source": [
    "class Engine:\n",
    "    def __init__(self, horsepower):\n",
    "        self.horsepower = horsepower\n",
    "\n",
    "class Car:\n",
    "    def __init__(self, model, engine):\n",
    "        self.model = model\n",
    "        self.engine = engine  # Composition: Car \"has an\" Engine"
   ]
  },
  {
   "cell_type": "markdown",
   "metadata": {},
   "source": [
    "## Class vs. Instance Variables\n",
    "- Instance Variables: Variables that are unique to each instance of a class.\n",
    "- Class Variables: Variables that are shared across all instances of a class"
   ]
  },
  {
   "cell_type": "code",
   "execution_count": 9,
   "metadata": {},
   "outputs": [],
   "source": [
    "class Employee:\n",
    "    company_name = \"TechCorp\"  # Class variable\n",
    "\n",
    "    def __init__(self, name):\n",
    "        self.name = name  # Instance variable"
   ]
  },
  {
   "cell_type": "markdown",
   "metadata": {},
   "source": [
    "## SOLID Principles\n",
    "### Single Responsibility\n",
    "A class should have only one job or responsibility."
   ]
  },
  {
   "cell_type": "code",
   "execution_count": 3,
   "metadata": {},
   "outputs": [],
   "source": [
    "class UserAuth:\n",
    "    def login(self, username, password):\n",
    "        pass # Handle user login\n",
    "\n",
    "class UserData:\n",
    "    def store_user_data(self, user):\n",
    "        pass # Handle storing user data"
   ]
  },
  {
   "cell_type": "markdown",
   "metadata": {},
   "source": [
    "### Open/Closed\n",
    "Software entities (classes, modules, functions, etc.) should be open for extension but closed for modification."
   ]
  },
  {
   "cell_type": "code",
   "execution_count": 1,
   "metadata": {},
   "outputs": [],
   "source": [
    "class Shape:\n",
    "    def area(self):\n",
    "        raise NotImplementedError\n",
    "\n",
    "class Rectangle(Shape):\n",
    "    def __init__(self, width, height):\n",
    "        self.width = width\n",
    "        self.height = height\n",
    "\n",
    "    def area(self):\n",
    "        return self.width * self.height\n",
    "\n",
    "class Circle(Shape):\n",
    "    def __init__(self, radius):\n",
    "        self.radius = radius\n",
    "\n",
    "    def area(self):\n",
    "        return 3.14 * (self.radius ** 2)"
   ]
  },
  {
   "cell_type": "markdown",
   "metadata": {},
   "source": [
    "### Liskov Substitution\n",
    "Subtypes must be substitutable for their base types without affecting the correctness of the program.\n",
    "\n",
    "If you have a base class `Bird` with a method `fly`, any subclass of `Bird` should be able to fly as well. Otherwise, it would violate LSP.\n",
    "\n",
    "The `Penguin` class violates LSP because it cannot fly, even though it's a subclass of `Bird`. A better design would be to rethink the hierarchy or separate the flying behavior into another class."
   ]
  },
  {
   "cell_type": "code",
   "execution_count": null,
   "metadata": {},
   "outputs": [],
   "source": [
    "class Bird:\n",
    "    def fly(self):\n",
    "        print(\"Flying\")\n",
    "\n",
    "class Sparrow(Bird):\n",
    "    pass\n",
    "\n",
    "class Penguin(Bird):\n",
    "    def fly(self):\n",
    "        raise Exception(\"Penguins cannot fly\")"
   ]
  },
  {
   "cell_type": "markdown",
   "metadata": {},
   "source": [
    "### Interface Segregation\n",
    "Clients should not be forced to depend on interfaces they do not use.\n",
    "\n",
    "Example: If you have an interface `Worker` with methods `work()` and `eat()`, classes that don't need both methods will be forced to implement them, even if it doesn’t make sense."
   ]
  },
  {
   "cell_type": "code",
   "execution_count": null,
   "metadata": {},
   "outputs": [],
   "source": [
    "class WorkerInterface:\n",
    "    def work(self):\n",
    "        pass\n",
    "\n",
    "    def eat(self):\n",
    "        pass\n",
    "\n",
    "class Robot(WorkerInterface):\n",
    "    def work(self):\n",
    "        print(\"Robot is working\")\n",
    "\n",
    "    def eat(self):\n",
    "        raise NotImplementedError(\"Robots do not eat\")  # Violates ISP"
   ]
  },
  {
   "cell_type": "markdown",
   "metadata": {},
   "source": [
    "Instead, split the interface into two smaller ones:"
   ]
  },
  {
   "cell_type": "code",
   "execution_count": null,
   "metadata": {},
   "outputs": [],
   "source": [
    "class Workable:\n",
    "    def work(self):\n",
    "        pass\n",
    "\n",
    "class Eatable:\n",
    "    def eat(self):\n",
    "        pass\n",
    "\n",
    "class Robot(Workable):\n",
    "    def work(self):\n",
    "        print(\"Robot is working\")"
   ]
  },
  {
   "cell_type": "markdown",
   "metadata": {},
   "source": [
    "### Dependency Inversion\n",
    "High-level modules should not depend on low-level modules. Both should depend on abstractions. Also, abstractions should not depend on details; details should depend on abstractions.\n",
    "\n",
    "Example: Without DIP, a high-level class like `OrderProcessing` might directly depend on a specific payment processor implementation:"
   ]
  },
  {
   "cell_type": "code",
   "execution_count": null,
   "metadata": {},
   "outputs": [],
   "source": [
    "class PayPalPaymentProcessor:\n",
    "    def process_payment(self, amount):\n",
    "        print(f\"Processing payment of {amount} through PayPal\")\n",
    "\n",
    "class OrderProcessing:\n",
    "    def __init__(self):\n",
    "        self.payment_processor = PayPalPaymentProcessor()  # Tight coupling\n",
    "\n",
    "    def process_order(self, amount):\n",
    "        self.payment_processor.process_payment(amount)"
   ]
  },
  {
   "cell_type": "markdown",
   "metadata": {},
   "source": [
    "This tightly couples `OrderProcessing` with `PayPalPaymentProcessor`, making it difficult to change the payment processor. Instead, apply DIP by introducing an abstraction:"
   ]
  },
  {
   "cell_type": "code",
   "execution_count": null,
   "metadata": {},
   "outputs": [],
   "source": [
    "class PaymentProcessor:\n",
    "    def process_payment(self, amount):\n",
    "        pass\n",
    "\n",
    "class PayPalPaymentProcessor(PaymentProcessor):\n",
    "    def process_payment(self, amount):\n",
    "        print(f\"Processing payment of {amount} through PayPal\")\n",
    "\n",
    "class OrderProcessing:\n",
    "    def __init__(self, payment_processor: PaymentProcessor):\n",
    "        self.payment_processor = payment_processor  # Dependency Injection\n",
    "\n",
    "    def process_order(self, amount):\n",
    "        self.payment_processor.process_payment(amount)"
   ]
  }
 ],
 "metadata": {
  "kernelspec": {
   "display_name": "pymc",
   "language": "python",
   "name": "python3"
  },
  "language_info": {
   "codemirror_mode": {
    "name": "ipython",
    "version": 3
   },
   "file_extension": ".py",
   "mimetype": "text/x-python",
   "name": "python",
   "nbconvert_exporter": "python",
   "pygments_lexer": "ipython3",
   "version": "3.11.6"
  }
 },
 "nbformat": 4,
 "nbformat_minor": 2
}