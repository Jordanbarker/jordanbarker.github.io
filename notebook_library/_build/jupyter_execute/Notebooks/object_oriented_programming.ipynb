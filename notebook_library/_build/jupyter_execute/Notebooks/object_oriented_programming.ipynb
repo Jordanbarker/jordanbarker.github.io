{
 "cells": [
  {
   "cell_type": "markdown",
   "metadata": {},
   "source": [
    "# Object-Oriented Programming (OOP) in Python\n",
    "\n",
    "## Decorators \n",
    "### Properties (Getter / Setter / Deleter Methods)"
   ]
  },
  {
   "cell_type": "code",
   "execution_count": 1,
   "metadata": {},
   "outputs": [
    {
     "name": "stdout",
     "output_type": "stream",
     "text": [
      "5\n"
     ]
    }
   ],
   "source": [
    "class Circle:\n",
    "    def __init__(self, radius):\n",
    "        self._radius = radius\n",
    "\n",
    "    @property\n",
    "    def radius(self):\n",
    "        return self._radius\n",
    "\n",
    "    @radius.setter\n",
    "    def radius(self, value):\n",
    "        if value < 0:\n",
    "            raise ValueError(\"Radius cannot be negative\")\n",
    "        self._radius = value\n",
    "\n",
    "    @radius.deleter\n",
    "    def radius(self):\n",
    "        del self._radius\n",
    "\n",
    "circle = Circle(5)\n",
    "\n",
    "print(circle.radius)  # Accessing the method\n",
    "circle.radius = 10  # Invokes the setter\n",
    "del circle.radius  # Invokes the deleter"
   ]
  },
  {
   "cell_type": "markdown",
   "metadata": {},
   "source": [
    "### Abstraction\n",
    "Abstraction is the concept of hiding the complex implementation details and exposing only the necessary parts. In Python, this can be implemented through abstract base classes (``ABC``).\n",
    "\n",
    "Abstract classes cannot be instantiated, and any subclass of the abstract class must implement the abstract methods."
   ]
  },
  {
   "cell_type": "code",
   "execution_count": 2,
   "metadata": {},
   "outputs": [],
   "source": [
    "from abc import ABC, abstractmethod\n",
    "\n",
    "class MachineLearningModel(ABC):\n",
    "    @abstractmethod\n",
    "    def predict(self):\n",
    "        pass\n",
    "\n",
    "class NaiveModel(MachineLearningModel):\n",
    "    def predict(self, input):\n",
    "        return input.mean()"
   ]
  },
  {
   "cell_type": "markdown",
   "metadata": {},
   "source": [
    "### Dataclass\n",
    "\n",
    "In this example, Python automatically generates:\n",
    "- ``__init__``: initialize the class with the attributes name, age, and country.\n",
    "- ``__repr__``: readable string representation of the object.\n",
    "- ``__eq__``: allows comparison of two objects."
   ]
  },
  {
   "cell_type": "code",
   "execution_count": 3,
   "metadata": {},
   "outputs": [
    {
     "name": "stdout",
     "output_type": "stream",
     "text": [
      "Person(name='Alice', age=25, country='United States')\n"
     ]
    }
   ],
   "source": [
    "from dataclasses import dataclass\n",
    "from typing import List, Union\n",
    "\n",
    "@dataclass\n",
    "class Person:\n",
    "    name: str\n",
    "    age: int = 25\n",
    "    country: str = \"United States\"\n",
    "\n",
    "person = Person(name=\"Alice\") # Person(name='Alice', age=25, country='Unknown')\n",
    "print(person)"
   ]
  },
  {
   "cell_type": "markdown",
   "metadata": {},
   "source": [
    "### Static and Class Methods \n",
    "- Static Method (``@staticmethod``): A method that belongs to the class rather than an instance of the class. It doesn't require access to self or cls.\n",
    "- Class Method (``@classmethod``): A method that operates on the class itself and is passed the class (cls) as its first argument."
   ]
  },
  {
   "cell_type": "code",
   "execution_count": 4,
   "metadata": {},
   "outputs": [],
   "source": [
    "class MyClass:\n",
    "    @staticmethod\n",
    "    def static_method():\n",
    "        return \"Static Method\"\n",
    "\n",
    "    @classmethod\n",
    "    def class_method(cls):\n",
    "        return \"Class Method\""
   ]
  },
  {
   "cell_type": "markdown",
   "metadata": {},
   "source": [
    "## Protected and Private Variables"
   ]
  },
  {
   "cell_type": "code",
   "execution_count": 5,
   "metadata": {},
   "outputs": [],
   "source": [
    "class Dog:\n",
    "    def __init__(self, name, age):\n",
    "        self._name = name  # Protected variable\n",
    "        self.__age = age  # Private variable"
   ]
  },
  {
   "cell_type": "markdown",
   "metadata": {},
   "source": [
    "## Inheritance"
   ]
  },
  {
   "cell_type": "code",
   "execution_count": 6,
   "metadata": {},
   "outputs": [],
   "source": [
    "class Animal:\n",
    "    def speak(self):\n",
    "        pass\n",
    "\n",
    "class Dog(Animal):\n",
    "    def speak(self):\n",
    "        return f\"bark\""
   ]
  },
  {
   "cell_type": "markdown",
   "metadata": {},
   "source": [
    "## Polymorphism\n",
    "Polymorphism allows objects of different classes to be treated as objects of a common parent class. It provides the ability to define methods in a way that they can operate on objects of different types."
   ]
  },
  {
   "cell_type": "code",
   "execution_count": 7,
   "metadata": {},
   "outputs": [
    {
     "name": "stdout",
     "output_type": "stream",
     "text": [
      "bark\n",
      "meow\n"
     ]
    }
   ],
   "source": [
    "class Cat(Animal):\n",
    "    def speak(self):\n",
    "        return f\"meow\"\n",
    "\n",
    "animals = [Dog(), Cat()]\n",
    "for animal in animals:\n",
    "    print(animal.speak())  # Calls speak() from respective class"
   ]
  },
  {
   "cell_type": "markdown",
   "metadata": {},
   "source": [
    "## Method Overriding\n",
    "Overriding occurs when a subclass provides a specific implementation of a method that is already defined in its superclass. This is a key part of inheritance and polymorphism."
   ]
  },
  {
   "cell_type": "code",
   "execution_count": 8,
   "metadata": {},
   "outputs": [],
   "source": [
    "class Person:\n",
    "    def greet(self):\n",
    "        return \"Hello!\"\n",
    "\n",
    "class Aussie(Person):\n",
    "    def greet(self):\n",
    "        return \"G'day mate!\"  # Overrides the parent method"
   ]
  },
  {
   "cell_type": "markdown",
   "metadata": {},
   "source": [
    "## Dunder (Magic) Methods\n",
    "Magic methods (aka dunder because they begin and end with double underscores, e.g., `__init__`, `__str__`) allow you to define special behaviors for built-in operations."
   ]
  },
  {
   "cell_type": "code",
   "execution_count": 9,
   "metadata": {},
   "outputs": [
    {
     "data": {
      "text/plain": [
       "'Book: Dune by Frank Herbert'"
      ]
     },
     "execution_count": 9,
     "metadata": {},
     "output_type": "execute_result"
    }
   ],
   "source": [
    "class Book:\n",
    "    def __init__(self, title, author):\n",
    "        self.title = title\n",
    "        self.author = author\n",
    "\n",
    "    def __str__(self):\n",
    "        return f\"Book: {self.title} by {self.author}\"\n",
    "    \n",
    "str(Book(\"Dune\", \"Frank Herbert\"))"
   ]
  },
  {
   "cell_type": "markdown",
   "metadata": {},
   "source": [
    "## Composition\n",
    "Composition is a design principle where one class contains an object of another class to reuse code and functionality. It represents a \"has-a\" relationship between objects."
   ]
  },
  {
   "cell_type": "code",
   "execution_count": 10,
   "metadata": {},
   "outputs": [],
   "source": [
    "class Engine:\n",
    "    def __init__(self, horsepower):\n",
    "        self.horsepower = horsepower\n",
    "\n",
    "class Car:\n",
    "    def __init__(self, model, engine):\n",
    "        self.model = model\n",
    "        self.engine = engine  # Composition: Car \"has an\" Engine"
   ]
  },
  {
   "cell_type": "markdown",
   "metadata": {},
   "source": [
    "## Class vs. Instance Variables\n",
    "- Instance Variables: Variables that are unique to each instance of a class.\n",
    "- Class Variables: Variables that are shared across all instances of a class"
   ]
  },
  {
   "cell_type": "code",
   "execution_count": 11,
   "metadata": {},
   "outputs": [],
   "source": [
    "class Employee:\n",
    "    company_name = \"TechCorp\"  # Class variable\n",
    "\n",
    "    def __init__(self, name):\n",
    "        self.name = name  # Instance variable"
   ]
  },
  {
   "cell_type": "markdown",
   "metadata": {},
   "source": [
    "## Inheritance Types\n",
    "- Single Inheritance: A subclass inherits from one superclass.\n",
    "- Multiple Inheritance: A subclass can inherit from more than one superclass in Python. This adds flexibility but requires careful design to avoid complexity."
   ]
  },
  {
   "cell_type": "code",
   "execution_count": 12,
   "metadata": {},
   "outputs": [],
   "source": [
    "class A:\n",
    "    pass\n",
    "\n",
    "class B:\n",
    "    pass\n",
    "\n",
    "class C(A, B):  # Multiple inheritance\n",
    "    pass"
   ]
  },
  {
   "cell_type": "markdown",
   "metadata": {},
   "source": [
    "## SOLID Principles\n",
    "### Single Responsibility Principle\n",
    "A class should have only one job or responsibility."
   ]
  },
  {
   "cell_type": "code",
   "execution_count": 13,
   "metadata": {},
   "outputs": [],
   "source": [
    "class UserAuth:\n",
    "    def login(self, username, password):\n",
    "        pass # Handle user login\n",
    "\n",
    "class UserData:\n",
    "    def store_user_data(self, user):\n",
    "        pass # Handle storing user data"
   ]
  },
  {
   "cell_type": "markdown",
   "metadata": {},
   "source": [
    "### Open/Closed Principle\n",
    "Software entities (classes, modules, functions, etc.) should be open for extension but closed for modification."
   ]
  },
  {
   "cell_type": "code",
   "execution_count": 14,
   "metadata": {},
   "outputs": [],
   "source": [
    "class Shape:\n",
    "    def area(self):\n",
    "        raise NotImplementedError\n",
    "\n",
    "class Rectangle(Shape):\n",
    "    def __init__(self, width, height):\n",
    "        self.width = width\n",
    "        self.height = height\n",
    "\n",
    "    def area(self):\n",
    "        return self.width * self.height\n",
    "\n",
    "class Circle(Shape):\n",
    "    def __init__(self, radius):\n",
    "        self.radius = radius\n",
    "\n",
    "    def area(self):\n",
    "        return 3.14 * (self.radius ** 2)"
   ]
  },
  {
   "cell_type": "markdown",
   "metadata": {},
   "source": [
    "### Liskov Substitution Principle\n",
    "Subtypes must be substitutable for their base types without affecting the correctness of the program.\n",
    "\n",
    "If you have a base class `Bird` with a method `fly`, any subclass of `Bird` should be able to fly as well. Otherwise, it would violate LSP.\n",
    "\n",
    "The `Penguin` class violates LSP because it cannot fly, even though it's a subclass of `Bird`. A better design would be to rethink the hierarchy or separate the flying behavior into another class."
   ]
  },
  {
   "cell_type": "code",
   "execution_count": 15,
   "metadata": {},
   "outputs": [],
   "source": [
    "class Bird:\n",
    "    def fly(self):\n",
    "        print(\"Flying\")\n",
    "\n",
    "class Sparrow(Bird):\n",
    "    pass\n",
    "\n",
    "class Penguin(Bird):\n",
    "    def fly(self):\n",
    "        raise Exception(\"Penguins cannot fly\")"
   ]
  },
  {
   "cell_type": "markdown",
   "metadata": {},
   "source": [
    "### Interface Segregation Principle\n",
    "Clients should not be forced to depend on interfaces they do not use.\n",
    "\n",
    "Example: If you have an interface `Worker` with methods `work()` and `eat()`, classes that don't need both methods will be forced to implement them, even if it doesn’t make sense."
   ]
  },
  {
   "cell_type": "code",
   "execution_count": 16,
   "metadata": {},
   "outputs": [],
   "source": [
    "class WorkerInterface:\n",
    "    def work(self):\n",
    "        pass\n",
    "\n",
    "    def eat(self):\n",
    "        pass\n",
    "\n",
    "class Robot(WorkerInterface):\n",
    "    def work(self):\n",
    "        print(\"Robot is working\")\n",
    "\n",
    "    def eat(self):\n",
    "        raise NotImplementedError(\"Robots do not eat\")  # Violates ISP"
   ]
  },
  {
   "cell_type": "markdown",
   "metadata": {},
   "source": [
    "Instead, split the interface into two smaller ones:"
   ]
  },
  {
   "cell_type": "code",
   "execution_count": 17,
   "metadata": {},
   "outputs": [],
   "source": [
    "class Workable:\n",
    "    def work(self):\n",
    "        pass\n",
    "\n",
    "class Eatable:\n",
    "    def eat(self):\n",
    "        pass\n",
    "\n",
    "class Robot(Workable):\n",
    "    def work(self):\n",
    "        print(\"Robot is working\")"
   ]
  },
  {
   "cell_type": "markdown",
   "metadata": {},
   "source": [
    "### Dependency Inversion Principle\n",
    "High-level modules should not depend on low-level modules. Both should depend on abstractions. Also, abstractions should not depend on details; details should depend on abstractions.\n",
    "\n",
    "Example: Without DIP, a high-level class like `OrderProcessing` might directly depend on a specific payment processor implementation:"
   ]
  },
  {
   "cell_type": "code",
   "execution_count": 18,
   "metadata": {},
   "outputs": [],
   "source": [
    "class PayPalPaymentProcessor:\n",
    "    def process_payment(self, amount):\n",
    "        print(f\"Processing payment of {amount} through PayPal\")\n",
    "\n",
    "class OrderProcessing:\n",
    "    def __init__(self):\n",
    "        self.payment_processor = PayPalPaymentProcessor()  # Tight coupling\n",
    "\n",
    "    def process_order(self, amount):\n",
    "        self.payment_processor.process_payment(amount)"
   ]
  },
  {
   "cell_type": "markdown",
   "metadata": {},
   "source": [
    "This tightly couples `OrderProcessing` with `PayPalPaymentProcessor`, making it difficult to change the payment processor. Instead, apply DIP by introducing an abstraction:"
   ]
  },
  {
   "cell_type": "code",
   "execution_count": 19,
   "metadata": {},
   "outputs": [],
   "source": [
    "class PaymentProcessor:\n",
    "    def process_payment(self, amount):\n",
    "        pass\n",
    "\n",
    "class PayPalPaymentProcessor(PaymentProcessor):\n",
    "    def process_payment(self, amount):\n",
    "        print(f\"Processing payment of {amount} through PayPal\")\n",
    "\n",
    "class OrderProcessing:\n",
    "    def __init__(self, payment_processor: PaymentProcessor):\n",
    "        self.payment_processor = payment_processor  # Dependency Injection\n",
    "\n",
    "    def process_order(self, amount):\n",
    "        self.payment_processor.process_payment(amount)"
   ]
  }
 ],
 "metadata": {
  "kernelspec": {
   "display_name": "torch",
   "language": "python",
   "name": "python3"
  },
  "language_info": {
   "codemirror_mode": {
    "name": "ipython",
    "version": 3
   },
   "file_extension": ".py",
   "mimetype": "text/x-python",
   "name": "python",
   "nbconvert_exporter": "python",
   "pygments_lexer": "ipython3",
   "version": "3.11.6"
  }
 },
 "nbformat": 4,
 "nbformat_minor": 2
}