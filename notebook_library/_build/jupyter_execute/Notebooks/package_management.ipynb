{
 "cells": [
  {
   "cell_type": "markdown",
   "metadata": {},
   "source": [
    "# Package Management\n",
    "\n",
    "## [Mamba](https://mamba.readthedocs.io/en/latest/installation/mamba-installation.html)\n",
    "\n",
    "| **Task**                                       | **Command**                                             |\n",
    "|------------------------------------------------|---------------------------------------------------------|\n",
    "| Create a new environment                       | `mamba create --name myenv`                            |\n",
    "| Create a new environment with specific Python  | `mamba create --name myenv python=3.9`                 |\n",
    "| Activate an environment                        | `mamba activate myenv`                                 |\n",
    "| Deactivate an environment                      | `mamba deactivate`                                     |\n",
    "| Install a package                              | `mamba install numpy`                                  |\n",
    "| Install a package from a specific channel      | `mamba install -c mamba-forge pandas`                  |\n",
    "| Update a package                               | `mamba update scipy`                                   |\n",
    "| Remove a package                               | `mamba remove matplotlib`                              |\n",
    "| Remove an environment                          | `mamba remove --name myenv --all`                      |\n",
    "| List packages                                  | `mamba list`                                           |\n",
    "| List all environments                          | `mamba env list`                                       |\n",
    "| Export environment to a file                   | `mamba env export > environment.yml`                   |\n",
    "| Create an environment from a file              | `mamba env create -f environment.yml`                  |\n",
    "| Update mamba to the latest version             | `mamba update mamba`                                   |\n",
    "\n",
    "\n",
    "## [uv](https://docs.astral.sh/uv/#getting-started)\n",
    "\n",
    "| **Task**                                       | **Command**                                              |\n",
    "|------------------------------------------------|----------------------------------------------------------|\n",
    "| Create new project                             | `uv init myproj`                                         |\n",
    "| Install specific version of python             | `uv python install 3.12`                                 |\n",
    "| Install packages                               | `uv pip install pandas`                                  |\n",
    "| Add dependency                                 | `uv add django requests \"pandas>=2.3\"`                   |\n",
    "| Remove package                                 | `uv remove django`                                       |\n",
    "| List packages                                  | `uv python list`                                         |\n",
    "| See package dependency tree                    | `uv tree`                                                |\n",
    "| Run a python script directly w/o starting venv | `uv run main.py`                                         |\n",
    "| Run a cli tool like Ruff                       | `uv run tool ruff` (or `uvx ruff`)                       |\n",
    "| Update uv version to latest                    | `uv self update`                                         |"
   ]
  },
  {
   "cell_type": "markdown",
   "metadata": {},
   "source": [
    "## Installing a package in development mode\n",
    "`pip install -e .`"
   ]
  }
 ],
 "metadata": {
  "language_info": {
   "name": "python"
  }
 },
 "nbformat": 4,
 "nbformat_minor": 2
}