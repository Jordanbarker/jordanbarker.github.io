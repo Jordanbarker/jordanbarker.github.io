{
 "cells": [
  {
   "attachments": {},
   "cell_type": "markdown",
   "metadata": {},
   "source": [
    "# Python Fundamentals <a class=\"anchor\" id=\"chapter1\"></a>\n",
    "Compilation of Python code that I've found useful. "
   ]
  },
  {
   "cell_type": "code",
   "execution_count": 1,
   "metadata": {},
   "outputs": [
    {
     "name": "stdout",
     "output_type": "stream",
     "text": [
      "* Python version:\n",
      "3.10.6 (tags/v3.10.6:9c7b4bd, Aug  1 2022, 21:53:49) [MSC v.1932 64 bit (AMD64)]\n",
      "\n"
     ]
    }
   ],
   "source": [
    "import sys \n",
    "print(f\"* Python version:\\n{sys.version}\\n\")"
   ]
  },
  {
   "cell_type": "markdown",
   "metadata": {},
   "source": [
    "## Suppress Warnings"
   ]
  },
  {
   "cell_type": "code",
   "execution_count": null,
   "metadata": {},
   "outputs": [],
   "source": [
    "import warnings\n",
    "\n",
    "warnings.filterwarnings('ignore')\n",
    "\n",
    "# Or do filter FutureWarnings specifically\n",
    "warnings.simplefilter(action='ignore', category=FutureWarning)"
   ]
  },
  {
   "attachments": {},
   "cell_type": "markdown",
   "metadata": {},
   "source": [
    "## String Manipulation <a class=\"anchor\" id=\"String_Manipulation\"></a>"
   ]
  },
  {
   "cell_type": "code",
   "execution_count": 2,
   "metadata": {},
   "outputs": [
    {
     "name": "stdout",
     "output_type": "stream",
     "text": [
      "Hello, J! How are you?\n",
      "Hello, j! How are you?\n",
      "Hello, J!\n",
      "How are you?\n",
      "4\n",
      "3.1\n"
     ]
    }
   ],
   "source": [
    "x=\"J\"\n",
    "print(f'Hello, {x}! How are you?')\n",
    "print(f'Hello, {x.lower()}! How are you?')\n",
    "print(f'Hello, {x}!','How are you?', sep=\"\\n\")\n",
    "print(f\"{2*2}\")\n",
    "print(f'{3.1415:.2}')"
   ]
  },
  {
   "cell_type": "code",
   "execution_count": 6,
   "metadata": {},
   "outputs": [
    {
     "name": "stdout",
     "output_type": "stream",
     "text": [
      "H\n",
      "H\n",
      "Hel\n",
      "Hel\n",
      "llo\n",
      "lo\n",
      "He\n",
      "olleH\n"
     ]
    }
   ],
   "source": [
    "word = 'Hello'\n",
    "print(word[0])    # one char of the word\n",
    "print(word[0:1])  # one char of the word (same as above)\n",
    "print(word[0:3])  # the first three char\n",
    "print(word[:3])   # the first three char\n",
    "print(word[-3:])  # the last three char\n",
    "print(word[3:])   # all but the three first char\n",
    "print(word[:-3])  # all but the three last character\n",
    "print(word[::-1]) # reversed"
   ]
  },
  {
   "cell_type": "code",
   "execution_count": 6,
   "metadata": {},
   "outputs": [
    {
     "name": "stdout",
     "output_type": "stream",
     "text": [
      "2\n",
      "\n",
      "H e l l o   W o r l d\n",
      "H:e:l:l:o: :W:o:r:l:d\n",
      "d l r o W   o l l e H\n",
      "\n",
      "Hello World\n",
      "Hello world\n",
      "hELLO wORLD\n",
      "\n",
      "Hello World\n",
      "Hello World\n",
      "Hello World\n"
     ]
    }
   ],
   "source": [
    "word = \"Hello World\"\n",
    "print(word.count('o'))           # counting the character “o” in the givenstring\n",
    "word.split(' ')                  # Split on whitespace | ['Hello', 'World']\n",
    "word.replace(\"Hello\", \"Goodbye\") # 'Goodbye World'\n",
    "print()\n",
    "print(\" \".join(word))           # add a whitespace between every char\n",
    "print(\":\".join(word))           # add a : between every char\n",
    "print(' '.join(reversed(word))) # d l r o W   o l l e H\n",
    "print()\n",
    "print(word.title())             # Hello World\n",
    "print(word.capitalize())        # Hello world\n",
    "print(word.swapcase())          # hELLO wORLD\n",
    "print()\n",
    "print(word.strip())  # removes from both ends\n",
    "print(word.lstrip()) # removes leading characters (Left-strip)\n",
    "print(word.rstrip()) # removes trailing characters (Right-strip)"
   ]
  },
  {
   "cell_type": "code",
   "execution_count": 7,
   "metadata": {},
   "outputs": [
    {
     "data": {
      "text/plain": [
       "True"
      ]
     },
     "execution_count": 7,
     "metadata": {},
     "output_type": "execute_result"
    }
   ],
   "source": [
    "word.isalnum() # check if all char are alphanumeric \n",
    "word.isalpha() # check if all char in the string are alphabetic\n",
    "word.isdigit() # test if string contains digits\n",
    "word.istitle() # test if string contains title words\n",
    "word.isupper() # test if string contains upper case\n",
    "word.islower() # test if string contains lower case\n",
    "word.isspace() # test if string contains spaces\n",
    "word.endswith('d') # test if string endswith a d\n",
    "word.startswith('H') # test if string startswith H"
   ]
  },
  {
   "attachments": {},
   "cell_type": "markdown",
   "metadata": {},
   "source": [
    "## Loops <a class=\"anchor\" id=\"Loops\"></a>"
   ]
  },
  {
   "cell_type": "code",
   "execution_count": 2,
   "metadata": {},
   "outputs": [
    {
     "name": "stdout",
     "output_type": "stream",
     "text": [
      "0 1 2 3 4 5 6 7 8 9 \n",
      "1 3 5 7 9 "
     ]
    }
   ],
   "source": [
    "# range() function defaults to 0 as a starting value\n",
    "for n in range(10):\n",
    "    print(n, end=' ') # print all on same line\n",
    "\n",
    "print()\n",
    "start = 1\n",
    "end = 11\n",
    "inc = 2\n",
    "for n in range(start, end, inc):\n",
    "    print(n, end=' ') # print all on same line"
   ]
  },
  {
   "cell_type": "markdown",
   "metadata": {},
   "source": [
    "List comprehension"
   ]
  },
  {
   "cell_type": "code",
   "execution_count": 4,
   "metadata": {},
   "outputs": [
    {
     "name": "stdout",
     "output_type": "stream",
     "text": [
      "[0, 1, 2, 3, 4, 5, 6, 7, 8, 9]\n",
      "[0, 2, 4, 6, 8]\n"
     ]
    }
   ],
   "source": [
    "print([i for i in range(10)])\n",
    "\n",
    "# Select only even values\n",
    "print([i for i in range(10) if (i % 2) == 0])"
   ]
  },
  {
   "cell_type": "code",
   "execution_count": 8,
   "metadata": {},
   "outputs": [
    {
     "name": "stdout",
     "output_type": "stream",
     "text": [
      "1 3 5 7 9 11 13 15 17 19 "
     ]
    }
   ],
   "source": [
    "# With the continue statement we can stop the current iteration of the loop, and continue with the next:\n",
    "for n in range(20):\n",
    "    if n % 2 == 0:\n",
    "        continue\n",
    "    print(n, end=' ')"
   ]
  },
  {
   "cell_type": "code",
   "execution_count": 9,
   "metadata": {},
   "outputs": [
    {
     "name": "stdout",
     "output_type": "stream",
     "text": [
      "[1, 1, 2, 3, 5, 8, 13, 21, 34, 55, 89]\n"
     ]
    }
   ],
   "source": [
    "# With the break statement we can stop the loop before it has looped through all the items:\n",
    "# Print Fibonacci sequence for values <= 100\n",
    "a, b = 0, 1\n",
    "amax = 100\n",
    "L = []\n",
    "while True:\n",
    "    (a, b) = (b, a + b)\n",
    "    if a > amax:\n",
    "        break\n",
    "    L.append(a)\n",
    "print(L)"
   ]
  },
  {
   "cell_type": "code",
   "execution_count": 10,
   "metadata": {},
   "outputs": [
    {
     "name": "stdout",
     "output_type": "stream",
     "text": [
      "0 1 2 3 4\n"
     ]
    }
   ],
   "source": [
    "print(*range(5))  # same as print(0, 1, 2, 3, 4)"
   ]
  },
  {
   "attachments": {},
   "cell_type": "markdown",
   "metadata": {},
   "source": [
    "enumerate"
   ]
  },
  {
   "cell_type": "code",
   "execution_count": 1,
   "metadata": {},
   "outputs": [
    {
     "name": "stdout",
     "output_type": "stream",
     "text": [
      "0 25\n",
      "1 63\n",
      "2 145\n",
      "3 12\n"
     ]
    }
   ],
   "source": [
    "n = [25, 63, 145, 12]\n",
    "for i, n in enumerate(n):\n",
    "    print(i, n)"
   ]
  },
  {
   "attachments": {},
   "cell_type": "markdown",
   "metadata": {},
   "source": [
    "## Data Types <a class=\"anchor\" id=\"Data_Types\"></a>\n",
    "### Dictionaries"
   ]
  },
  {
   "cell_type": "code",
   "execution_count": 12,
   "metadata": {},
   "outputs": [
    {
     "name": "stdout",
     "output_type": "stream",
     "text": [
      "d = {'pi_approx': 3.14159265359, 'e_approx': 2.71828182846, 'c_approx': '299,792,458 m/s', 'h_bar_approx': '6.62607004e-34 m^2 kg / s'}\n",
      "\n",
      " 8 key-value pairs: {'pi_approx': 3.14159265359, 'e_approx': 2.71828182846, 'c_approx': '299,792,458 m/s', 'h_bar_approx': '6.62607004e-34 m^2 kg / s', 0: 0.0, 1: 1.0, -1: -1.0, 'minus_one': -1.0}\n",
      "299,792,458 m/s\n",
      "{1: 2, 2: 10, 'Hello': 1234}\n",
      "{'a': 0, 'b': 1, 'c': 2, 'd': 3, 'e': 4, 'f': 5}\n",
      "\n",
      " defaultdict(<class 'int'>, {'existing-key': 6, 'new-key': 1})\n"
     ]
    }
   ],
   "source": [
    "d = {'pi_approx': 3.14159265359,\n",
    "     'e_approx': 2.71828182846,\n",
    "     'c_approx': '299,792,458 m/s',\n",
    "     'h_bar_approx': '6.62607004e-34 m^2 kg / s'}\n",
    "print('d =', d)\n",
    "\n",
    "d[0] = 0.0\n",
    "d[1] = 1.0\n",
    "d[-1] = -1.0\n",
    "d['minus_one'] = d[-1]\n",
    "\n",
    "print(\"\\n\", len(d), 'key-value pairs:', d)\n",
    "\n",
    "# Deletion of keys:\n",
    "d.pop('minus_one')\n",
    "\n",
    "# Return key-value\n",
    "print(d['c_approx'])\n",
    "\n",
    "# List of dictionaries\n",
    "data = [{'first':'Guido', 'last':'Van Rossum', 'YOB':1956},\n",
    "        {'first':'Grace', 'last':'Hopper',     'YOB':1906},\n",
    "        {'first':'Alan',  'last':'Turing',     'YOB':1912}]\n",
    "\n",
    "sorted(data, key=lambda x: x['YOB'])\n",
    "'''\n",
    "[{'first': 'Grace', 'last': 'Hopper', 'YOB': 1906},\n",
    " {'first': 'Alan', 'last': 'Turing', 'YOB': 1912},\n",
    " {'first': 'Guido', 'last': 'Van Rossum', 'YOB': 1956}]\n",
    "'''\n",
    "\n",
    "# Sorting dictionaries\n",
    "my_dict = {1: 2, 2: 10, \"Hello\": 1234}\n",
    "print({key: value for key, value in sorted(my_dict.items(), key=lambda item: item[1])})\n",
    "# {1: 2, 2: 10, 'Hello': 1234}\n",
    "\n",
    "# Iterating over dictionaries\n",
    "D = {k: v for v, k in enumerate('abcdef')}\n",
    "print(D)\n",
    "\n",
    "\n",
    "'''\n",
    "Default Dictionaries\n",
    "    Python's built-in dictionaries require you to check whether a key exists before updating it. \n",
    "    A way around that is to use default dict\n",
    "'''\n",
    "from collections import defaultdict\n",
    "# you need to provide a \"factory\" function that the dictionary can use to create an initial value when the key does not exist.\n",
    "d = defaultdict(int)\n",
    "d['existing-key'] = 5 # Create one key-value pair\n",
    "d['existing-key'] += 1 # Update\n",
    "d['new-key'] += 1\n",
    "print('\\n', d)"
   ]
  },
  {
   "attachments": {},
   "cell_type": "markdown",
   "metadata": {},
   "source": [
    "### Lists"
   ]
  },
  {
   "cell_type": "code",
   "execution_count": 13,
   "metadata": {},
   "outputs": [
    {
     "name": "stdout",
     "output_type": "stream",
     "text": [
      "['a', 'b', 'c', 'd', 'e', 'f', 'g']\n",
      "[0, 1, 2, 3, 4, 5, 6, 7, 8, 9]\n",
      "[9, 8, 7, 6, 5, 4, 3, 2, 1, 0]\n",
      "[0, 1, 2, 3, 4, 5, 6, 7, 8, 9]\n",
      "[1, 2, 3]\n",
      "[5, 1, 3, 8, 4, 9, 0, 6, 7, 2]\n",
      "[8, 4, 0, 6, 2]\n"
     ]
    }
   ],
   "source": [
    "list_from_string = list('abcdefg')\n",
    "print(list_from_string)\n",
    "\n",
    "range_list = list(range(10))\n",
    "print(range_list)\n",
    "\n",
    "# Sorting lists, can also specify a sorting function with key=func\n",
    "range_list.sort(reverse=True)\n",
    "print(range_list)\n",
    "range_list.sort(reverse=False)\n",
    "print(range_list)\n",
    "\n",
    "y = [1,2,3]\n",
    "z = y.copy() # .copy() can be used to clone a list to be distinct references.\n",
    "y.append(4)\n",
    "print(z)\n",
    "\n",
    "g = [i for i in range(10)] # 0 .. 9\n",
    "\n",
    "from random import shuffle\n",
    "shuffle(g) # permute randomly\n",
    "print(g)\n",
    "\n",
    "# Select only even values\n",
    "h = [i for i in g if (i % 2) == 0]\n",
    "print(h)"
   ]
  },
  {
   "attachments": {},
   "cell_type": "markdown",
   "metadata": {},
   "source": [
    "### Sets"
   ]
  },
  {
   "cell_type": "code",
   "execution_count": 14,
   "metadata": {},
   "outputs": [
    {
     "name": "stdout",
     "output_type": "stream",
     "text": [
      "{'x', 'q', 'u'}\n",
      "{'x', 'p', 'q', 'u'}\n",
      "{'p', 'q', 'u'}\n",
      "{1, 'p', 'q', 2, 3, 'u'}\n",
      "False\n",
      "False\n",
      "set()\n",
      "{1, 2, 3, 4, 5} & {3, 4, 5, 6, 7} == {3, 4, 5}\n",
      "{1, 2, 3, 4, 5} | {3, 4, 5, 6, 7} == {1, 2, 3, 4, 5, 6, 7}\n",
      "{1, 2, 3, 4, 5} - {3, 4, 5, 6, 7} == {1, 2}\n",
      "{1, 2, 3, 4, 5} < {3, 4, 5, 6, 7} == False\n"
     ]
    }
   ],
   "source": [
    "# Sets are unordered, unchangeable, unindexed, and duplicates are not allowed.\n",
    "# Python is free to reorder your values\n",
    "s = 'quux'\n",
    "s = set(s)\n",
    "print(s)\n",
    "\n",
    "s.add('p')\n",
    "print(s)\n",
    "\n",
    "# Removes a random element from a set.\n",
    "s.pop()\n",
    "print(s)\n",
    "\n",
    "s.update({1,2,3})\n",
    "print(s)\n",
    "\n",
    "print('x' in s)\n",
    "print('y' in s)\n",
    "\n",
    "# Clears a set.\n",
    "s.clear()\n",
    "print(s)\n",
    "\n",
    "A = {1, 2, 3, 4, 5}\n",
    "B = {3, 4, 5, 6, 7}\n",
    "print(A, '&', B, '==', A & B) # intersection\n",
    "print(A, '|', B, '==', A | B) # union\n",
    "print(A, '-', B, '==', A - B) # difference\n",
    "print(A, '<', B, '==', A < B) # proper subset (use `<=` for subset, `>` or `>=` for superset, or '==' for equality)"
   ]
  },
  {
   "attachments": {},
   "cell_type": "markdown",
   "metadata": {},
   "source": [
    "### Tuples <br>\n",
    "Ordered, unchangeable, and allow duplicate values."
   ]
  },
  {
   "cell_type": "code",
   "execution_count": 15,
   "metadata": {},
   "outputs": [
    {
     "name": "stdout",
     "output_type": "stream",
     "text": [
      "apple\n",
      "3\n"
     ]
    }
   ],
   "source": [
    "t = (\"apple\", \"banana\", \"cherry\")\n",
    "print(t[0])\n",
    "print(len(t))"
   ]
  },
  {
   "attachments": {},
   "cell_type": "markdown",
   "metadata": {},
   "source": [
    "## Dates\n",
    "\n",
    "Python strftime cheatsheet: https://strftime.org/\n",
    "\n",
    "Example: '05SEP2014:00:00:00.000'='%d%b%Y:%H:%M:%S.%f'"
   ]
  },
  {
   "cell_type": "code",
   "execution_count": 5,
   "metadata": {},
   "outputs": [
    {
     "name": "stdout",
     "output_type": "stream",
     "text": [
      "2020-10-31 00:00:00\n"
     ]
    }
   ],
   "source": [
    "from datetime import datetime\n",
    "\n",
    "date_str = '2020-10-31'\n",
    "date = datetime.strptime(date_str, '%Y-%m-%d')\n",
    "print(date)"
   ]
  },
  {
   "cell_type": "code",
   "execution_count": 6,
   "metadata": {},
   "outputs": [
    {
     "name": "stdout",
     "output_type": "stream",
     "text": [
      "2020-10-31\n"
     ]
    }
   ],
   "source": [
    "date_str = date.strftime(\"%Y-%m-%d\")\n",
    "print(date_str)"
   ]
  },
  {
   "cell_type": "code",
   "execution_count": 7,
   "metadata": {},
   "outputs": [
    {
     "name": "stdout",
     "output_type": "stream",
     "text": [
      "Today: Sunday, 20 Oct 2024\n"
     ]
    }
   ],
   "source": [
    "print(\"Today:\", datetime.now().strftime(\"%A, %d %b %Y\"))"
   ]
  },
  {
   "attachments": {},
   "cell_type": "markdown",
   "metadata": {},
   "source": [
    "## Random\n",
    "https://docs.python.org/3/library/random.html\n",
    "\n",
    "https://www.w3schools.com/python/module_random.asp"
   ]
  },
  {
   "cell_type": "code",
   "execution_count": 18,
   "metadata": {},
   "outputs": [
    {
     "name": "stdout",
     "output_type": "stream",
     "text": [
      "3\n"
     ]
    }
   ],
   "source": [
    "import random\n",
    "\n",
    "# random.randint(start, stop)\n",
    "print(random.randint(3, 9))"
   ]
  },
  {
   "attachments": {},
   "cell_type": "markdown",
   "metadata": {},
   "source": [
    "## Timeit <a class=\"anchor\" id=\"Timeit\"></a>"
   ]
  },
  {
   "cell_type": "code",
   "execution_count": 1,
   "metadata": {},
   "outputs": [
    {
     "name": "stdout",
     "output_type": "stream",
     "text": [
      "Hi!\n",
      "The time taken by print statement is 0.001001596450805664 seconds\n"
     ]
    }
   ],
   "source": [
    "import time \n",
    "t1 = time.time()\n",
    "print(\"Hi!\")\n",
    "t2 = time.time()\n",
    "print(f\"The time taken by print statement is {t2 - t1} seconds\")"
   ]
  },
  {
   "cell_type": "code",
   "execution_count": 19,
   "metadata": {},
   "outputs": [
    {
     "data": {
      "text/plain": [
       "'\\n%timeit - Measure execution time of small code snippets\\n\\nfrom random import random\\nfrom decimal import Decimal\\n\\nNUM_TRIALS = 0\\n\\nprint(\"Native arithmetic:\")\\nA_native = [random() for _ in range(NUM_TRIALS)]\\nB_native = [random() for _ in range(NUM_TRIALS)]\\n%timeit [a+b for a, b in zip(A_native, B_native)]\\n\\nprint(\"\\nDecimal package:\")\\nA_decimal = [Decimal(a) for a in A_native]\\nB_decimal = [Decimal(b) for b in B_native]\\n%timeit [a+b for a, b in zip(A_decimal, B_decimal)]\\n'"
      ]
     },
     "execution_count": 19,
     "metadata": {},
     "output_type": "execute_result"
    }
   ],
   "source": [
    "'''\n",
    "%timeit - Measure execution time of small code snippets\n",
    "\n",
    "from random import random\n",
    "from decimal import Decimal\n",
    "\n",
    "NUM_TRIALS = 0\n",
    "\n",
    "print(\"Native arithmetic:\")\n",
    "A_native = [random() for _ in range(NUM_TRIALS)]\n",
    "B_native = [random() for _ in range(NUM_TRIALS)]\n",
    "%timeit [a+b for a, b in zip(A_native, B_native)]\n",
    "\n",
    "print(\"\\nDecimal package:\")\n",
    "A_decimal = [Decimal(a) for a in A_native]\n",
    "B_decimal = [Decimal(b) for b in B_native]\n",
    "%timeit [a+b for a, b in zip(A_decimal, B_decimal)]\n",
    "'''"
   ]
  },
  {
   "attachments": {},
   "cell_type": "markdown",
   "metadata": {},
   "source": [
    "## Misc <a class=\"anchor\" id=\"Misc\"></a>"
   ]
  },
  {
   "attachments": {},
   "cell_type": "markdown",
   "metadata": {},
   "source": [
    "### Windows Paths <a class=\"anchor\" id=\"paths\"></a>"
   ]
  },
  {
   "cell_type": "code",
   "execution_count": 20,
   "metadata": {},
   "outputs": [],
   "source": [
    "path = r'C:\\Users\\eric_\\Documents\\Code\\ChromeDriver\\chromedriver.exe'"
   ]
  },
  {
   "attachments": {},
   "cell_type": "markdown",
   "metadata": {},
   "source": [
    "### Assertions"
   ]
  },
  {
   "cell_type": "code",
   "execution_count": 21,
   "metadata": {},
   "outputs": [
    {
     "data": {
      "text/plain": [
       "-457.6"
      ]
     },
     "execution_count": 21,
     "metadata": {},
     "output_type": "execute_result"
    }
   ],
   "source": [
    "def KelvinToFahrenheit(Temperature):\n",
    "   assert (Temperature >= 0),\"Colder than absolute zero!\"\n",
    "   return ((Temperature-273)*1.8)+32\n",
    "\n",
    "KelvinToFahrenheit(1)"
   ]
  },
  {
   "cell_type": "code",
   "execution_count": 22,
   "metadata": {},
   "outputs": [
    {
     "name": "stdout",
     "output_type": "stream",
     "text": [
      "Positive\n",
      "hello world\n"
     ]
    }
   ],
   "source": [
    "\n",
    "''' \n",
    "One line if statement\n",
    "    value_when_true if condition else value_when_false\n",
    "    \n",
    "    Note: You cannot use Python if..elif..else block in one line. \n",
    "          Well you kind of can, but you shouldn't because it is hard to read.\n",
    "'''\n",
    "a = 1\n",
    "b = 'Positive' if a > 0 else 'Negative'\n",
    "print(b)\n",
    "\n",
    "# Split string and assign variables to each part\n",
    "helloworld = 'hello world'\n",
    "hello, world = helloworld.split(' ')\n",
    "print(hello,world)"
   ]
  },
  {
   "attachments": {},
   "cell_type": "markdown",
   "metadata": {},
   "source": [
    "## Pip\n",
    "https://pip.pypa.io/en/stable/user_guide/\n",
    "\n",
    "pip install --upgrade pip <br>\n",
    "pip install SomePackage --upgrade <br>\n",
    "pip uninstall SomePackage <br>\n",
    "pip install sklearn --upgrade <br>\n",
    "\n",
    "See outdate packages: <br>\n",
    "pip list --outdated\n",
    "\n",
    "Automatically upgrade all the outdated packages (that were installed using pip): <br>\n",
    "`pip install $(pip list --outdated | awk '{ print $1 }') --upgrade`\n",
    "\n",
    "<br>Another option<br>\n",
    "`for i in  $(pip list --outdated --format=columns |tail -n +3|cut -d\" \" -f1); do pip install $i --upgrade; done`\n"
   ]
  },
  {
   "attachments": {},
   "cell_type": "markdown",
   "metadata": {},
   "source": [
    "## Regular Expressions\n",
    "https://docs.python.org/3/howto/regex.html\n",
    "\n",
    "Build/test expressions - https://regex101.com/"
   ]
  },
  {
   "cell_type": "code",
   "execution_count": 23,
   "metadata": {},
   "outputs": [],
   "source": [
    "import re"
   ]
  },
  {
   "cell_type": "code",
   "execution_count": 24,
   "metadata": {},
   "outputs": [],
   "source": [
    "##################\n",
    "# METACHARACTERS #\n",
    "##################\n",
    "# [ ] - [abc] will match to any of the characters a, b, c. The same as [a-c]. Matches to metacharacters literally\n",
    "#       [^5] will match any character except '5'. '^' only works if its the first character. [5^] will match to either 5 or '^'\n",
    "#       [\\s,.] any whitespace, or ',' or '.'\n",
    "# \\ - can be used to escape all metacharacters, \\[] would match literally to '[]'\n",
    "# . - any character except a newline character. alternate mode (re.DOTALL) will match to even newlines\n",
    "#\n",
    "#\n",
    "# \\d - any decimal, = [0-9]\n",
    "# \\D - non-digit, = [^0-9]\n",
    "#\n",
    "# \\s - whitespace, = [ \\t\\n\\r\\f\\v]\n",
    "# \\S - non-whitespace, = [^ \\t\\n\\r\\f\\v]\n",
    "#\n",
    "# \\w - alphanumeric, = [a-zA-Z0-9_]\n",
    "# \\W - non-alphanumeric, = [^a-zA-Z0-9_]\n",
    "##################\n",
    "# REPEAT METACHARS #\n",
    "##################\n",
    "# * - previous character can be matched zero or more times\n",
    "#     ca*t will match ct, cat, caaaaat\n",
    "#\n",
    "# + - will match one or more times\n",
    "#     ca+t will match cat, caaaaat\n",
    "#\n",
    "# ? - matches zero or one times. \n",
    "#     home-?brew matches homebrew or home-brew\n",
    "#\n",
    "# {m,n} - at least m, at most n repeats. Omitting 'm' will be interpreted as 0. 'n' will be infinity \n",
    "#         a/{1,3}b will match a/b, a//b, and a///b\n",
    "##################\n",
    "# | - 'or' operator, A|B\n",
    "# ^ - beginning lines\n",
    "# $ - end of a line\n",
    "# \\A - start of string\n",
    "# \\Z - end of string\n",
    "# \\b - beginning or end of a word(sequence of alphanumeric characters)\n",
    "# \\B - only matches when current position is not a word boundary"
   ]
  },
  {
   "cell_type": "code",
   "execution_count": 25,
   "metadata": {},
   "outputs": [
    {
     "name": "stdout",
     "output_type": "stream",
     "text": [
      "<re.Match object; span=(16, 19), match='fox'>\n",
      "fox\n",
      "16\n",
      "19\n",
      "(16, 19)\n"
     ]
    }
   ],
   "source": [
    "##################\n",
    "# COMPILATION FLAGS #\n",
    "##################\n",
    "# ACSII, A - makes escapes like \\w, \\b, \\s match only on ASCII characters\n",
    "# DOTALL, S - make '.' match any character, including newlines\n",
    "# IGNORECASE, I \n",
    "# MULTILINE, M - affecting '^', and '$'\n",
    " \n",
    "pattern_matcher = re.compile ('fox', re.IGNORECASE)\n",
    "matches = pattern_matcher.search ('The quick brown fox jumps over the lazy dog')\n",
    "\n",
    "##################\n",
    "# PATTERN MATCHERS #\n",
    "##################\n",
    "# match() - if RE matches at the beginning of the string\n",
    "# search() - any location where the RE matches\n",
    "# findall() - all substrings where RE matches, returns list\n",
    "# finditer() - all substrings where RE matches, returns iterator\n",
    "\n",
    "print (matches)\n",
    "print (matches.group ()) # group() - return the string matched by RE\n",
    "print (matches.start ()) # start() - return the starting position of the match\n",
    "print (matches.end ())  # end() - return the ending position of the match\n",
    "print (matches.span ()) # span() - return a tuple containing the (start,end) positions"
   ]
  },
  {
   "cell_type": "code",
   "execution_count": 26,
   "metadata": {},
   "outputs": [],
   "source": [
    "##################\n",
    "# LOOKAHEAD ASSERTIONS #\n",
    "##################\n",
    "# (?=...) - positive lookahead\n",
    "# (?!...) - negative lookahead"
   ]
  },
  {
   "cell_type": "code",
   "execution_count": 27,
   "metadata": {},
   "outputs": [],
   "source": [
    "# (?P<name>...) - named group. Grab the names with match.group(). match.groupdict() returns a dict of groups\n",
    "#                 example: (?P<first>[a-zA-Z]+)"
   ]
  },
  {
   "cell_type": "code",
   "execution_count": 28,
   "metadata": {},
   "outputs": [
    {
     "name": "stdout",
     "output_type": "stream",
     "text": [
      "Rich\n",
      "S \n",
      "Vuduc\n"
     ]
    }
   ],
   "source": [
    "# Make the above more readable with a re.VERBOSE pattern\n",
    "# Named groups <name>\n",
    "re_names3 = re.compile ('''^\n",
    "                           (?P<first>[a-zA-Z]+)\n",
    "                           \\s\n",
    "                           (?P<middle>[a-zA-Z]+\\s)?\n",
    "                           \\s*\n",
    "                           (?P<last>[a-zA-Z]+)\n",
    "                           $\n",
    "                        ''',\n",
    "                        re.VERBOSE)\n",
    "print (re_names3.match ('Rich Vuduc').group ('first'))\n",
    "print (re_names3.match ('Rich S Vuduc').group ('middle'))\n",
    "print (re_names3.match ('Rich Salamander Vuduc').group ('last'))"
   ]
  },
  {
   "cell_type": "code",
   "execution_count": 29,
   "metadata": {},
   "outputs": [
    {
     "data": {
      "text/plain": [
       "('404', '555', '1212')"
      ]
     },
     "execution_count": 29,
     "metadata": {},
     "output_type": "execute_result"
    }
   ],
   "source": [
    "s = '(319) 555-1111'\n",
    "pattern = '''\n",
    "        ^\\s*               # Leading spaces\n",
    "        (?P<areacode>\n",
    "           \\d{3}-?         # \"xxx\" or \"xxx-\"\n",
    "           | \\(\\d{3}\\)\\s*  # OR \"(xxx) \"\n",
    "        )\n",
    "        (?P<prefix>\\d{3})  # xxx\n",
    "        -?                 # Dash (optional)\n",
    "        (?P<suffix>\\d{4})  # xxxx\n",
    "        \\s*$               # Trailing spaces\n",
    "    '''\n",
    "matcher = re.compile(pattern, re.VERBOSE)\n",
    "matches = matcher.match(s)\n",
    "if matches is None:\n",
    "    raise ValueError(\"'{}' is not in the right format.\".format (s))\n",
    "\n",
    "areacode = re.search('\\d{3}', matches.group ('areacode')).group()\n",
    "prefix = matches.group ('prefix')\n",
    "suffix = matches.group ('suffix')\n",
    "(areacode, prefix, suffix)"
   ]
  },
  {
   "cell_type": "markdown",
   "metadata": {},
   "source": [
    "## Further Reading"
   ]
  },
  {
   "cell_type": "markdown",
   "metadata": {},
   "source": [
    "https://www.pythonmorsels.com/time-complexities/"
   ]
  }
 ],
 "metadata": {
  "kernelspec": {
   "display_name": "pymc",
   "language": "python",
   "name": "python3"
  },
  "language_info": {
   "codemirror_mode": {
    "name": "ipython",
    "version": 3
   },
   "file_extension": ".py",
   "mimetype": "text/x-python",
   "name": "python",
   "nbconvert_exporter": "python",
   "pygments_lexer": "ipython3",
   "version": "3.12.7"
  },
  "toc": {
   "base_numbering": "0",
   "nav_menu": {},
   "number_sections": true,
   "sideBar": true,
   "skip_h1_title": false,
   "title_cell": "Table of Contents",
   "title_sidebar": "Contents",
   "toc_cell": false,
   "toc_position": {
    "height": "calc(100% - 180px)",
    "left": "10px",
    "top": "150px",
    "width": "343.594px"
   },
   "toc_section_display": true,
   "toc_window_display": true
  }
 },
 "nbformat": 4,
 "nbformat_minor": 2
}